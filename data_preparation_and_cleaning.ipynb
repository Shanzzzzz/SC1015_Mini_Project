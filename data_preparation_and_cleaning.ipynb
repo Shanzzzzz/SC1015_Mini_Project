{
 "cells": [
  {
   "cell_type": "markdown",
   "id": "5253853d",
   "metadata": {},
   "source": [
<<<<<<< HEAD
    "# Data Preparation and Cleaning"
=======
    "### SC1015 Mini Project"
>>>>>>> 3e90a1679471ee37c05cdadf35aa823e19a4e519
   ]
  },
  {
   "cell_type": "markdown",
   "id": "49c803ee",
   "metadata": {},
   "source": [
<<<<<<< HEAD
    "#### The dataset used is the 2016,2018 and 2020 Behavioral Risk Factor Surveillance System (BRFSS) data provided by the Centers for Disease Control and Prevention (CDC), a national public health agency of the United States. \n",
    "#### The chosen dataset contains records of the surveys conducted through landline and cellular telephone. According to CDC, the BRFSS's aims to collect data about chronic diseases and conditions, health risk behaviors, accessibility to health care facilities, and use of health services related to causes of disability and death.\n",
    "Dataset source url: <br>\n",
    "https://www.cdc.gov/brfss/annual_data/annual_2020.html <br>\n",
    "https://www.kaggle.com/datasets/sakinak/behavioral-risk-factor-surveillance-survey-201619"
   ]
  },
  {
   "cell_type": "markdown",
   "id": "315b88c5",
   "metadata": {},
   "source": [
    "#### There are too many variables in the dataset. Hence, we decided to filter the dataset and select the variables that are more important for the diseases we are studying. \n",
    "The variables are chosen with reference to this source stating the risk factors that contributes to heart diseases: <br>\n",
    "https://www.webmd.com/heart-disease/risk-factors-for-heart-disease"
   ]
  },
  {
   "cell_type": "markdown",
   "id": "f45ed5c0",
   "metadata": {},
   "source": [
    "### Importing essential libraries"
=======
    "#### The dataset used is the 2020 Behavioral Risk Factor Surveillance System (BRFSS) data provided by the Centers for Disease Control and Prevention (CDC), a national public health agency of the United States. \n",
    "#### The chosen dataset contains information of 401,958 records of the surveys conducted through landline and cellular telephone. According to CDC, the BRFSS's aims to collect data about chronic diseases and conditions, health risk behaviors, accessibility to health care facilities, and use of health services related to causes of disability and death.\n",
    "#### Dataset source url: https://www.cdc.gov/brfss/annual_data/annual_2020.html "
>>>>>>> 3e90a1679471ee37c05cdadf35aa823e19a4e519
   ]
  },
  {
   "cell_type": "code",
   "execution_count": 1,
   "id": "80837b7d",
   "metadata": {
    "id": "80837b7d"
   },
   "outputs": [],
   "source": [
    "# Import basic libraries\n",
    "import numpy as np\n",
    "import pandas as pd\n",
    "import seaborn as sb"
   ]
  },
  {
   "cell_type": "markdown",
<<<<<<< HEAD
   "id": "f57ae7eb",
   "metadata": {},
   "source": [
    "### Cleaning the 2016 Dataset"
=======
   "id": "2e2223f9",
   "metadata": {},
   "source": [
    "### Cleaning the 2020 Dataset"
>>>>>>> 3e90a1679471ee37c05cdadf35aa823e19a4e519
   ]
  },
  {
   "cell_type": "code",
   "execution_count": 2,
<<<<<<< HEAD
   "id": "53ebe994",
   "metadata": {},
   "outputs": [
    {
     "name": "stdout",
     "output_type": "stream",
     "text": [
      "<class 'pandas.core.frame.DataFrame'>\n",
      "RangeIndex: 486303 entries, 0 to 486302\n",
      "Columns: 276 entries, Unnamed: 0 to _AIDTST3\n",
      "dtypes: float64(227), int64(48), object(1)\n",
      "memory usage: 1.0+ GB\n"
     ]
    }
   ],
   "source": [
    "raw_data_2016 = pd.read_csv('Data/2016_Data.csv', low_memory=False)\n",
    "raw_data_2016.info()"
   ]
  },
  {
   "cell_type": "code",
   "execution_count": 3,
   "id": "01b850d9",
   "metadata": {},
   "outputs": [],
   "source": [
    "# URBSTAT REMOVED and HADSIGM3\n",
    "selected_data_2016  =  raw_data_2016[['_AGE_G'   , 'SEX'     , 'HTM4'     , 'WTKG3'    , '_BMI5'    , 'MARITAL'  ,\n",
    "                                      '_INCOMG'  , '_EDUCAG' , 'GENHLTH'  , 'PHYSHLTH' , 'MENTHLTH' , 'SLEPTIM1' ,\n",
    "                                      '_SMOKER3' , '_MICHD'  , 'CVDSTRK3' , 'ADDEPEV2' , 'CHCKIDNY' , 'CHCOCNCR' ,\n",
    "                                      '_DRDXAR1' , 'CHECKUP1', 'PDIABTST' , '_TOTINDA' , 'DIABETE3' , '_RFDRHV5' ]]"
   ]
  },
  {
   "cell_type": "code",
   "execution_count": 4,
   "id": "8965caa4",
   "metadata": {},
   "outputs": [
    {
     "name": "stdout",
     "output_type": "stream",
     "text": [
      "<class 'pandas.core.frame.DataFrame'>\n",
      "Int64Index: 174298 entries, 0 to 486302\n",
      "Data columns (total 24 columns):\n",
      " #   Column    Non-Null Count   Dtype  \n",
      "---  ------    --------------   -----  \n",
      " 0   _AGE_G    174298 non-null  int64  \n",
      " 1   SEX       174298 non-null  int64  \n",
      " 2   HTM4      174298 non-null  float64\n",
      " 3   WTKG3     174298 non-null  float64\n",
      " 4   _BMI5     174298 non-null  float64\n",
      " 5   MARITAL   174298 non-null  float64\n",
      " 6   _INCOMG   174298 non-null  int64  \n",
      " 7   _EDUCAG   174298 non-null  int64  \n",
      " 8   GENHLTH   174298 non-null  float64\n",
      " 9   PHYSHLTH  174298 non-null  float64\n",
      " 10  MENTHLTH  174298 non-null  float64\n",
      " 11  SLEPTIM1  174298 non-null  float64\n",
      " 12  _SMOKER3  174298 non-null  int64  \n",
      " 13  _MICHD    174298 non-null  float64\n",
      " 14  CVDSTRK3  174298 non-null  float64\n",
      " 15  ADDEPEV2  174298 non-null  float64\n",
      " 16  CHCKIDNY  174298 non-null  float64\n",
      " 17  CHCOCNCR  174298 non-null  float64\n",
      " 18  _DRDXAR1  174298 non-null  float64\n",
      " 19  CHECKUP1  174298 non-null  float64\n",
      " 20  PDIABTST  174298 non-null  float64\n",
      " 21  _TOTINDA  174298 non-null  int64  \n",
      " 22  DIABETE3  174298 non-null  float64\n",
      " 23  _RFDRHV5  174298 non-null  int64  \n",
      "dtypes: float64(17), int64(7)\n",
      "memory usage: 33.2 MB\n"
     ]
    }
   ],
   "source": [
    "selected_data_2016 = selected_data_2016.dropna()\n",
    "selected_data_2016.info()"
   ]
  },
  {
   "cell_type": "code",
   "execution_count": 5,
   "id": "ddd3d3a3",
   "metadata": {},
   "outputs": [
    {
     "data": {
      "text/plain": [
       "[3, 5, 6, 1, 4, 2]\n",
       "Categories (6, int64): [1, 2, 3, 4, 5, 6]"
      ]
     },
     "execution_count": 5,
=======
   "id": "7943d8d3",
   "metadata": {
    "id": "7943d8d3"
   },
   "outputs": [
    {
     "data": {
      "text/html": [
       "<div>\n",
       "<style scoped>\n",
       "    .dataframe tbody tr th:only-of-type {\n",
       "        vertical-align: middle;\n",
       "    }\n",
       "\n",
       "    .dataframe tbody tr th {\n",
       "        vertical-align: top;\n",
       "    }\n",
       "\n",
       "    .dataframe thead th {\n",
       "        text-align: right;\n",
       "    }\n",
       "</style>\n",
       "<table border=\"1\" class=\"dataframe\">\n",
       "  <thead>\n",
       "    <tr style=\"text-align: right;\">\n",
       "      <th></th>\n",
       "      <th>Unnamed: 0</th>\n",
       "      <th>X_STATE</th>\n",
       "      <th>FMONTH</th>\n",
       "      <th>IDATE</th>\n",
       "      <th>IMONTH</th>\n",
       "      <th>IDAY</th>\n",
       "      <th>IYEAR</th>\n",
       "      <th>DISPCODE</th>\n",
       "      <th>SEQNO</th>\n",
       "      <th>X_PSU</th>\n",
       "      <th>...</th>\n",
       "      <th>X_RFPSA23</th>\n",
       "      <th>X_CLNSCPY</th>\n",
       "      <th>X_SGMSCPY</th>\n",
       "      <th>X_SGMS10Y</th>\n",
       "      <th>X_RFBLDS4</th>\n",
       "      <th>X_STOLDNA</th>\n",
       "      <th>X_VIRCOLN</th>\n",
       "      <th>X_SBONTIM</th>\n",
       "      <th>X_CRCREC1</th>\n",
       "      <th>X_AIDTST4</th>\n",
       "    </tr>\n",
       "  </thead>\n",
       "  <tbody>\n",
       "    <tr>\n",
       "      <th>0</th>\n",
       "      <td>1</td>\n",
       "      <td>1</td>\n",
       "      <td>1</td>\n",
       "      <td>1042020</td>\n",
       "      <td>1</td>\n",
       "      <td>4</td>\n",
       "      <td>2020</td>\n",
       "      <td>1100</td>\n",
       "      <td>2020000001</td>\n",
       "      <td>2020000001</td>\n",
       "      <td>...</td>\n",
       "      <td>NaN</td>\n",
       "      <td>1.0</td>\n",
       "      <td>3.0</td>\n",
       "      <td>3.0</td>\n",
       "      <td>3.0</td>\n",
       "      <td>3.0</td>\n",
       "      <td>3.0</td>\n",
       "      <td>3.0</td>\n",
       "      <td>1.0</td>\n",
       "      <td>1.0</td>\n",
       "    </tr>\n",
       "    <tr>\n",
       "      <th>1</th>\n",
       "      <td>2</td>\n",
       "      <td>1</td>\n",
       "      <td>1</td>\n",
       "      <td>2072020</td>\n",
       "      <td>2</td>\n",
       "      <td>7</td>\n",
       "      <td>2020</td>\n",
       "      <td>1200</td>\n",
       "      <td>2020000002</td>\n",
       "      <td>2020000002</td>\n",
       "      <td>...</td>\n",
       "      <td>NaN</td>\n",
       "      <td>NaN</td>\n",
       "      <td>NaN</td>\n",
       "      <td>NaN</td>\n",
       "      <td>NaN</td>\n",
       "      <td>NaN</td>\n",
       "      <td>NaN</td>\n",
       "      <td>2.0</td>\n",
       "      <td>NaN</td>\n",
       "      <td>NaN</td>\n",
       "    </tr>\n",
       "    <tr>\n",
       "      <th>2</th>\n",
       "      <td>3</td>\n",
       "      <td>1</td>\n",
       "      <td>1</td>\n",
       "      <td>1232020</td>\n",
       "      <td>1</td>\n",
       "      <td>23</td>\n",
       "      <td>2020</td>\n",
       "      <td>1100</td>\n",
       "      <td>2020000003</td>\n",
       "      <td>2020000003</td>\n",
       "      <td>...</td>\n",
       "      <td>NaN</td>\n",
       "      <td>1.0</td>\n",
       "      <td>3.0</td>\n",
       "      <td>3.0</td>\n",
       "      <td>3.0</td>\n",
       "      <td>3.0</td>\n",
       "      <td>3.0</td>\n",
       "      <td>3.0</td>\n",
       "      <td>1.0</td>\n",
       "      <td>2.0</td>\n",
       "    </tr>\n",
       "    <tr>\n",
       "      <th>3</th>\n",
       "      <td>4</td>\n",
       "      <td>1</td>\n",
       "      <td>1</td>\n",
       "      <td>1092020</td>\n",
       "      <td>1</td>\n",
       "      <td>9</td>\n",
       "      <td>2020</td>\n",
       "      <td>1100</td>\n",
       "      <td>2020000004</td>\n",
       "      <td>2020000004</td>\n",
       "      <td>...</td>\n",
       "      <td>NaN</td>\n",
       "      <td>NaN</td>\n",
       "      <td>NaN</td>\n",
       "      <td>NaN</td>\n",
       "      <td>NaN</td>\n",
       "      <td>NaN</td>\n",
       "      <td>NaN</td>\n",
       "      <td>NaN</td>\n",
       "      <td>NaN</td>\n",
       "      <td>2.0</td>\n",
       "    </tr>\n",
       "    <tr>\n",
       "      <th>4</th>\n",
       "      <td>5</td>\n",
       "      <td>1</td>\n",
       "      <td>1</td>\n",
       "      <td>1042020</td>\n",
       "      <td>1</td>\n",
       "      <td>4</td>\n",
       "      <td>2020</td>\n",
       "      <td>1100</td>\n",
       "      <td>2020000005</td>\n",
       "      <td>2020000005</td>\n",
       "      <td>...</td>\n",
       "      <td>NaN</td>\n",
       "      <td>NaN</td>\n",
       "      <td>NaN</td>\n",
       "      <td>NaN</td>\n",
       "      <td>NaN</td>\n",
       "      <td>NaN</td>\n",
       "      <td>NaN</td>\n",
       "      <td>NaN</td>\n",
       "      <td>NaN</td>\n",
       "      <td>9.0</td>\n",
       "    </tr>\n",
       "  </tbody>\n",
       "</table>\n",
       "<p>5 rows × 280 columns</p>\n",
       "</div>"
      ],
      "text/plain": [
       "   Unnamed: 0  X_STATE  FMONTH    IDATE  IMONTH  IDAY  IYEAR  DISPCODE  \\\n",
       "0           1        1       1  1042020       1     4   2020      1100   \n",
       "1           2        1       1  2072020       2     7   2020      1200   \n",
       "2           3        1       1  1232020       1    23   2020      1100   \n",
       "3           4        1       1  1092020       1     9   2020      1100   \n",
       "4           5        1       1  1042020       1     4   2020      1100   \n",
       "\n",
       "        SEQNO       X_PSU  ...  X_RFPSA23  X_CLNSCPY  X_SGMSCPY  X_SGMS10Y  \\\n",
       "0  2020000001  2020000001  ...        NaN        1.0        3.0        3.0   \n",
       "1  2020000002  2020000002  ...        NaN        NaN        NaN        NaN   \n",
       "2  2020000003  2020000003  ...        NaN        1.0        3.0        3.0   \n",
       "3  2020000004  2020000004  ...        NaN        NaN        NaN        NaN   \n",
       "4  2020000005  2020000005  ...        NaN        NaN        NaN        NaN   \n",
       "\n",
       "   X_RFBLDS4  X_STOLDNA  X_VIRCOLN  X_SBONTIM  X_CRCREC1  X_AIDTST4  \n",
       "0        3.0        3.0        3.0        3.0        1.0        1.0  \n",
       "1        NaN        NaN        NaN        2.0        NaN        NaN  \n",
       "2        3.0        3.0        3.0        3.0        1.0        2.0  \n",
       "3        NaN        NaN        NaN        NaN        NaN        2.0  \n",
       "4        NaN        NaN        NaN        NaN        NaN        9.0  \n",
       "\n",
       "[5 rows x 280 columns]"
      ]
     },
     "execution_count": 2,
>>>>>>> 3e90a1679471ee37c05cdadf35aa823e19a4e519
     "metadata": {},
     "output_type": "execute_result"
    }
   ],
   "source": [
<<<<<<< HEAD
    "selected_data_2016['_AGE_G'] = selected_data_2016['_AGE_G'].astype('category')\n",
    "selected_data_2016['_AGE_G'].unique()"
=======
    "# Importing raw data in csv format\n",
    "raw_data_2020 = pd.read_csv('Data/2020_Data.csv')\n",
    "raw_data_2020.head()"
   ]
  },
  {
   "cell_type": "code",
   "execution_count": 3,
   "id": "d66fabe3",
   "metadata": {
    "id": "d66fabe3",
    "outputId": "acb29d3f-ce5b-41f8-b245-fb21a6a36b04"
   },
   "outputs": [
    {
     "name": "stdout",
     "output_type": "stream",
     "text": [
      "<class 'pandas.core.frame.DataFrame'>\n",
      "RangeIndex: 401958 entries, 0 to 401957\n",
      "Columns: 280 entries, Unnamed: 0 to X_AIDTST4\n",
      "dtypes: float64(234), int64(46)\n",
      "memory usage: 858.7 MB\n"
     ]
    }
   ],
   "source": [
    "raw_data_2020.info()"
   ]
  },
  {
   "cell_type": "markdown",
   "id": "7254c6d8",
   "metadata": {},
   "source": [
    "#### There are too many variables in the dataset. Hence, we decided to filter the dataset and select the variables that are more important for the diseases we are studying. The chosen variables and their description along with their redefined variable name which is assigned to improve readability are listed in the \"variable.xlsx\" file. *(To prevent overloading the notebook with content)*"
   ]
  },
  {
   "cell_type": "code",
   "execution_count": 4,
   "id": "7833f937",
   "metadata": {
    "id": "7833f937"
   },
   "outputs": [],
   "source": [
    "# Data is filtered based on variables chosen\n",
    "selected_data_2020  =  raw_data_2020[['X_AGE_G'   , 'X_SEX'    , 'HTM4'      , 'WTKG3'    , 'X_BMI5'   , 'MARITAL' ,\n",
    "                                      'X_INCOMG'  , 'X_EDUCAG' , 'GENHLTH'   , 'PHYSHLTH' , 'MENTHLTH' , 'SLEPTIM1',\n",
    "                                      'X_SMOKER3' , 'X_MICHD'  , 'CVDSTRK3'  , 'ADDEPEV3' , 'CHCKDNY2' , 'CHCOCNCR',\n",
    "                                      'X_DRDXAR2' , 'CHECKUP1' , 'X_RFDRHV7' , 'PDIABTST' , 'X_TOTINDA', 'DIABETE4']]"
   ]
  },
  {
   "cell_type": "code",
   "execution_count": 5,
   "id": "565ffb15",
   "metadata": {
    "id": "565ffb15",
    "outputId": "1863fcb6-1361-4c9c-d892-9778661d48ba"
   },
   "outputs": [
    {
     "name": "stdout",
     "output_type": "stream",
     "text": [
      "<class 'pandas.core.frame.DataFrame'>\n",
      "Int64Index: 195322 entries, 1 to 401957\n",
      "Data columns (total 24 columns):\n",
      " #   Column     Non-Null Count   Dtype  \n",
      "---  ------     --------------   -----  \n",
      " 0   X_AGE_G    195322 non-null  int64  \n",
      " 1   X_SEX      195322 non-null  int64  \n",
      " 2   HTM4       195322 non-null  float64\n",
      " 3   WTKG3      195322 non-null  float64\n",
      " 4   X_BMI5     195322 non-null  float64\n",
      " 5   MARITAL    195322 non-null  float64\n",
      " 6   X_INCOMG   195322 non-null  int64  \n",
      " 7   X_EDUCAG   195322 non-null  int64  \n",
      " 8   GENHLTH    195322 non-null  float64\n",
      " 9   PHYSHLTH   195322 non-null  float64\n",
      " 10  MENTHLTH   195322 non-null  float64\n",
      " 11  SLEPTIM1   195322 non-null  float64\n",
      " 12  X_SMOKER3  195322 non-null  int64  \n",
      " 13  X_MICHD    195322 non-null  float64\n",
      " 14  CVDSTRK3   195322 non-null  float64\n",
      " 15  ADDEPEV3   195322 non-null  float64\n",
      " 16  CHCKDNY2   195322 non-null  float64\n",
      " 17  CHCOCNCR   195322 non-null  float64\n",
      " 18  X_DRDXAR2  195322 non-null  float64\n",
      " 19  CHECKUP1   195322 non-null  float64\n",
      " 20  X_RFDRHV7  195322 non-null  int64  \n",
      " 21  PDIABTST   195322 non-null  float64\n",
      " 22  X_TOTINDA  195322 non-null  int64  \n",
      " 23  DIABETE4   195322 non-null  float64\n",
      "dtypes: float64(17), int64(7)\n",
      "memory usage: 37.3 MB\n"
     ]
    }
   ],
   "source": [
    "# The rows that contains null values are removed\n",
    "selected_data_2020 = selected_data_2020.dropna()\n",
    "selected_data_2020.info()"
   ]
  },
  {
   "cell_type": "markdown",
   "id": "39a1f8bb",
   "metadata": {},
   "source": [
    "#### X_AGE_G"
>>>>>>> 3e90a1679471ee37c05cdadf35aa823e19a4e519
   ]
  },
  {
   "cell_type": "code",
   "execution_count": 6,
<<<<<<< HEAD
   "id": "5281727d",
   "metadata": {},
=======
   "id": "080a4b11",
   "metadata": {
    "id": "080a4b11",
    "outputId": "ce91b212-6c38-49cc-f56f-566ed758d286"
   },
>>>>>>> 3e90a1679471ee37c05cdadf35aa823e19a4e519
   "outputs": [
    {
     "data": {
      "text/plain": [
<<<<<<< HEAD
       "[1, 0]\n",
       "Categories (2, int64): [0, 1]"
=======
       "array([6, 3, 5, 4, 1, 2], dtype=int64)"
>>>>>>> 3e90a1679471ee37c05cdadf35aa823e19a4e519
      ]
     },
     "execution_count": 6,
     "metadata": {},
     "output_type": "execute_result"
    }
   ],
   "source": [
<<<<<<< HEAD
    "selected_data_2016['SEX'] = selected_data_2016['SEX'].replace({2:0})\n",
    "selected_data_2016 = selected_data_2016[selected_data_2016['SEX'] != 9]\n",
    "selected_data_2016 = selected_data_2016[selected_data_2016['SEX'] != 7]\n",
    "selected_data_2016['SEX'] = selected_data_2016['SEX'].astype('category')\n",
    "#selected_data_2016['SEX'] = selected_data_2016['SEX'].cat.rename_categories({\"Female\":\"F\"})\n",
    "selected_data_2016['SEX'].unique()"
=======
    "# Age category of the respondent\n",
    "\n",
    "# Values:\n",
    "# 1: Age 18 to 24\n",
    "# 2: Age 25 to 34\n",
    "# 3: Age 35 to 44\n",
    "# 4: Age 45 to 54\n",
    "# 5: Age 55 to 64\n",
    "# 6: Age 65 or older\n",
    "\n",
    "selected_data_2020.X_AGE_G.unique()"
   ]
  },
  {
   "cell_type": "markdown",
   "id": "40b8bf36",
   "metadata": {},
   "source": [
    "#### X_SEX"
>>>>>>> 3e90a1679471ee37c05cdadf35aa823e19a4e519
   ]
  },
  {
   "cell_type": "code",
   "execution_count": 7,
<<<<<<< HEAD
   "id": "e3e016c4",
   "metadata": {},
=======
   "id": "7d08f4c2",
   "metadata": {
    "id": "7d08f4c2",
    "outputId": "d3713471-f898-4ee3-cc01-a2e42bf5f0d4"
   },
>>>>>>> 3e90a1679471ee37c05cdadf35aa823e19a4e519
   "outputs": [
    {
     "data": {
      "text/plain": [
<<<<<<< HEAD
       "array([173., 160., 165., 168., 155., 183., 157., 175., 170., 178., 163.,\n",
       "       180., 198., 191., 150., 152., 196., 188., 193., 147., 185., 142.,\n",
       "       145., 203., 201., 172., 135., 132., 224., 162., 107., 176., 156.,\n",
       "       153., 122., 140., 130., 164., 206., 127.,  91., 174., 184., 167.,\n",
       "       159., 208., 177., 211., 199., 161., 182., 148., 194., 143., 166.,\n",
       "       154., 102., 171., 190., 149., 179., 158., 200., 189., 151., 186.,\n",
       "       169., 181., 137., 105., 104., 213., 124., 146., 114., 216., 221.,\n",
       "       119., 103., 187., 101., 106., 144., 110., 229.])"
=======
       "array([0, 1], dtype=int64)"
>>>>>>> 3e90a1679471ee37c05cdadf35aa823e19a4e519
      ]
     },
     "execution_count": 7,
     "metadata": {},
     "output_type": "execute_result"
    }
   ],
   "source": [
<<<<<<< HEAD
    "selected_data_2016['HTM4'].unique()"
=======
    "# Sex of the respondent\n",
    "\n",
    "# Values:\n",
    "# 0: Male\n",
    "# 1: Female\n",
    "\n",
    "#selected_data_2020 = selected_data_2020[selected_data_2020.X_SEX != 9]\n",
    "selected_data_2020['X_SEX'] = selected_data_2020['X_SEX'].replace({2:0})\n",
    "selected_data_2020['X_SEX'].unique()"
   ]
  },
  {
   "cell_type": "markdown",
   "id": "f6127a96",
   "metadata": {},
   "source": [
    "#### HTM4"
>>>>>>> 3e90a1679471ee37c05cdadf35aa823e19a4e519
   ]
  },
  {
   "cell_type": "code",
   "execution_count": 8,
<<<<<<< HEAD
   "id": "fd34ccd2",
   "metadata": {},
=======
   "id": "05ac6c83",
   "metadata": {
    "id": "05ac6c83",
    "outputId": "3412019c-11d5-405b-b45c-e50c130dcce3",
    "scrolled": true
   },
>>>>>>> 3e90a1679471ee37c05cdadf35aa823e19a4e519
   "outputs": [
    {
     "data": {
      "text/plain": [
<<<<<<< HEAD
       "array([ 61.,  69.,  54.,  57.,  59.,  91., 104.,  56.,  83.,  68.,  65.,\n",
       "        77.,  66.,  96.,  98.,  64.,  86., 118.,  73., 111.,  75.,  81.,\n",
       "       102., 136., 141., 108.,  67.,  89.,  70.,  79.,  88.,  58., 100.,\n",
       "       107., 109.,  50.,  78.,  82.,  72., 127.,  95.,  48.,  74., 116.,\n",
       "       113.,  84.,  71., 151.,  45., 103.,  93.,  60.,  99., 120.,  87.,\n",
       "        80., 122.,  44.,  76.,  53.,  63.,  97.,  90.,  52., 159.,  55.,\n",
       "        62.,  51.,  85.,  92., 114.,  49.,  46., 132., 163., 126.,  34.,\n",
       "        47.,  43., 152., 106., 154.,  42., 112.,  94.,  39., 121., 105.,\n",
       "       119., 125.,  41., 129., 135., 133., 101., 138., 168., 139.,  38.,\n",
       "       214., 172., 145., 124., 150., 147., 110., 128., 170., 117., 140.,\n",
       "       169., 115., 166.,  37., 144., 142., 131., 143., 130., 134.,  35.,\n",
       "       161., 209.,  40.,  36., 158., 165., 137., 195., 123., 155., 200.,\n",
       "       181., 177.,  33.,  30., 212., 184., 156., 187., 174., 182., 226.,\n",
       "       167., 160., 148., 175., 171., 198., 194., 157., 146., 230., 253.,\n",
       "       162., 245., 191., 243.,  31., 206., 225., 193., 227., 222., 231.,\n",
       "       149., 176.,  29., 204., 180.,  32., 254., 192., 232., 197., 164.,\n",
       "       153., 270., 211., 186., 199., 196., 179., 188., 249., 178., 236.,\n",
       "       215., 189.,  28., 218., 268., 272., 252., 185., 234., 263., 213.,\n",
       "       265., 190., 247., 220.])"
=======
       "array([1.63, 1.68, 1.8 , 1.6 , 1.55, 1.83, 1.52, 1.5 , 1.85, 1.75, 1.7 ,\n",
       "       1.57, 1.73, 1.78, 1.88, 1.45, 1.65, 1.91, 1.93, 2.01, 1.96, 1.98,\n",
       "       2.06, 1.47, 1.42, 2.03, 1.37, 1.32, 1.22, 1.24, 1.4 , 1.62, 1.82,\n",
       "       1.61, 1.2 , 1.53, 1.9 , 1.72, 1.44, 1.05, 1.06, 1.69, 1.87, 1.76,\n",
       "       1.66, 1.54, 1.35, 1.67, 1.77, 1.27, 2.08, 2.13, 1.59, 2.11, 0.91,\n",
       "       1.19, 0.99, 2.16, 1.46, 1.3 , 1.71, 1.56, 1.64, 1.58, 1.74, 1.25,\n",
       "       1.04, 1.51, 1.14, 1.1 , 1.48, 1.01, 1.95, 1.38, 1.07, 2.29, 1.26,\n",
       "       1.89, 1.86, 2.18, 1.41, 1.49, 1.17, 1.09, 1.02, 1.79, 1.03, 1.28,\n",
       "       1.23, 1.08, 2.34, 1.  , 2.09, 0.97, 1.39])"
>>>>>>> 3e90a1679471ee37c05cdadf35aa823e19a4e519
      ]
     },
     "execution_count": 8,
     "metadata": {},
     "output_type": "execute_result"
    }
   ],
   "source": [
<<<<<<< HEAD
    "selected_data_2016['WTKG3'] = selected_data_2016['WTKG3'].div(100).round(0)\n",
    "selected_data_2016['WTKG3'].unique()"
=======
    "# Height of respondent in meters\n",
    "\n",
    "selected_data_2020['HTM4'] = selected_data_2020['HTM4'].div(100)\n",
    "selected_data_2020['HTM4'].unique()"
   ]
  },
  {
   "cell_type": "markdown",
   "id": "ec46afc1",
   "metadata": {},
   "source": [
    "#### WTKG3"
>>>>>>> 3e90a1679471ee37c05cdadf35aa823e19a4e519
   ]
  },
  {
   "cell_type": "code",
   "execution_count": 9,
<<<<<<< HEAD
   "id": "c47869da",
   "metadata": {},
=======
   "id": "4ab455e8",
   "metadata": {
    "id": "4ab455e8",
    "outputId": "45ab677b-6252-421f-8c37-1c2a39ccbd34"
   },
>>>>>>> 3e90a1679471ee37c05cdadf35aa823e19a4e519
   "outputs": [
    {
     "data": {
      "text/plain": [
<<<<<<< HEAD
       "array([ 21.,  27.,  20.,  25.,  32.,  31.,  23.,  26.,  28.,  30.,  34.,\n",
       "        24.,  22.,  36.,  40.,  29.,  41.,  35.,  39.,  42.,  37.,  44.,\n",
       "        19.,  33.,  18.,  38.,  43.,  52.,  60.,  47.,  15.,  17.,  16.,\n",
       "        48.,  45.,  51.,  46.,  14.,  58.,  49.,  62.,  50.,  59.,  55.,\n",
       "        57.,  54.,  68.,  13.,  56.,  70.,  61.,  64.,  63.,  53.,  69.,\n",
       "        65.,  76.,  71.,  67.,  86.,  72.,  87.,  73.,  75.,  89.,  12.,\n",
       "        78., 100.,  77.,  66.,  81.,  74.,  82.,  85.,  91.,  97.,  95.,\n",
       "        83.,  79.,  80.,  94.])"
=======
       "array([ 77.,  57.,  68.,  74.,  61.,  64., 136.,  67.,  59.,  73.,  51.,\n",
       "       109.,  66.,  82.,  75.,  86.,  47., 100.,  63.,  54.,  84., 104.,\n",
       "        79.,  70.,  72.,  88.,  52., 111.,  71.,  58., 108.,  78., 118.,\n",
       "        76.,  91.,  97., 113.,  69.,  50.,  56.,  87.,  53., 175., 132.,\n",
       "        95., 122.,  55.,  48.,  81.,  85., 102.,  65.,  92.,  45.,  98.,\n",
       "        49.,  83.,  60.,  96.,  89.,  80., 134., 101.,  62., 145.,  93.,\n",
       "        90., 103.,  94., 135., 121., 125.,  44.,  41., 120., 129., 126.,\n",
       "       131., 107., 181., 194., 127., 110.,  99.,  39., 116., 105., 147.,\n",
       "       141., 119., 128., 159.,  35., 117., 143., 112., 106., 172., 150.,\n",
       "       190.,  42., 115., 156., 123., 138., 137.,  43., 130., 161.,  38.,\n",
       "       170.,  46., 124., 177., 144., 114., 155., 154., 163.,  36.,  32.,\n",
       "       192., 158., 152., 209., 166., 168.,  37., 142., 133., 139.,  40.,\n",
       "       195.,  34., 173., 193., 164., 148., 140., 213., 230., 204., 149.,\n",
       "       169., 146., 218., 160., 272., 200., 151., 153., 198., 203., 196.,\n",
       "       239.,  33., 191., 227., 176., 228., 171., 197., 265., 167., 254.,\n",
       "       231., 215., 165., 157., 243., 187., 273.,  25., 179., 202., 205.,\n",
       "       245., 263., 186., 221., 222., 232., 189., 162.,  31., 188., 178.,\n",
       "       211.,  30., 256., 238., 174., 249., 225., 206., 286., 240.,  26.,\n",
       "       184., 236., 229., 214., 266.])"
>>>>>>> 3e90a1679471ee37c05cdadf35aa823e19a4e519
      ]
     },
     "execution_count": 9,
     "metadata": {},
     "output_type": "execute_result"
    }
   ],
   "source": [
<<<<<<< HEAD
    "selected_data_2016['_BMI5'] = selected_data_2016['_BMI5'].div(100).round(0)\n",
    "selected_data_2016['_BMI5'].unique()"
=======
    "# Weight of respondent in kilograms\n",
    "\n",
    "selected_data_2020['WTKG3'] = selected_data_2020['WTKG3'].div(100).round(0)\n",
    "selected_data_2020['WTKG3'].unique()"
   ]
  },
  {
   "cell_type": "markdown",
   "id": "ce2d3443",
   "metadata": {},
   "source": [
    "#### X_BMI5 "
>>>>>>> 3e90a1679471ee37c05cdadf35aa823e19a4e519
   ]
  },
  {
   "cell_type": "code",
   "execution_count": 10,
<<<<<<< HEAD
=======
   "id": "406575cb",
   "metadata": {
    "id": "406575cb",
    "outputId": "d0a81649-5e21-47a4-ae2a-43ea668b2543"
   },
   "outputs": [
    {
     "data": {
      "text/plain": [
       "array([29., 20., 24., 22., 26., 41., 28., 23., 18., 21., 34., 32., 25.,\n",
       "       27., 31., 19., 39., 30., 33., 35., 44., 36., 59., 45., 17., 38.,\n",
       "       43., 47., 49., 37., 52., 42., 15., 51., 55., 40., 50., 76., 16.,\n",
       "       48., 46., 53., 82., 12., 14., 60., 67., 56., 63., 54., 66., 13.,\n",
       "       57., 64., 58., 62., 83., 81., 68., 73., 90., 61., 71., 77., 87.,\n",
       "       80., 69., 65., 75., 78., 70., 74., 86., 72., 79., 84., 92., 95.,\n",
       "       88.])"
      ]
     },
     "execution_count": 10,
     "metadata": {},
     "output_type": "execute_result"
    }
   ],
   "source": [
    "# Body Mass Index (BMI) of respondent\n",
    "\n",
    "selected_data_2020['X_BMI5'] = selected_data_2020['X_BMI5'].div(100).round(0)\n",
    "selected_data_2020['X_BMI5'].unique()"
   ]
  },
  {
   "cell_type": "markdown",
   "id": "63ea01a5",
   "metadata": {},
   "source": [
    "#### MARITAL"
   ]
  },
  {
   "cell_type": "code",
   "execution_count": 11,
   "id": "ec662918",
   "metadata": {},
   "outputs": [
    {
     "data": {
      "text/plain": [
       "array([3., 1., 2., 5., 4., 6.])"
      ]
     },
     "execution_count": 11,
     "metadata": {},
     "output_type": "execute_result"
    }
   ],
   "source": [
    "# Marital status of respondent\n",
    "\n",
    "selected_data_2020 = selected_data_2020[selected_data_2020['MARITAL'] != 9]\n",
    "selected_data_2020['MARITAL'].unique()"
   ]
  },
  {
   "cell_type": "markdown",
   "id": "87bfa5a3",
   "metadata": {},
   "source": [
    "#### X_INCOMG "
   ]
  },
  {
   "cell_type": "code",
   "execution_count": 12,
   "id": "aa3f8cf4",
   "metadata": {
    "id": "aa3f8cf4",
    "outputId": "aae21b29-6c54-4ed8-e65f-0311fe7e63bf"
   },
   "outputs": [
    {
     "data": {
      "text/plain": [
       "array([4, 5, 2, 1, 3], dtype=int64)"
      ]
     },
     "execution_count": 12,
     "metadata": {},
     "output_type": "execute_result"
    }
   ],
   "source": [
    "# Income category of respondent\n",
    "\n",
    "selected_data_2020 = selected_data_2020[selected_data_2020['X_INCOMG'] != 9]\n",
    "selected_data_2020['X_INCOMG'].unique()"
   ]
  },
  {
   "cell_type": "markdown",
   "id": "37a464a0",
   "metadata": {},
   "source": [
    "#### X_EDUCAG "
   ]
  },
  {
   "cell_type": "code",
   "execution_count": 13,
   "id": "25fe6d0e",
   "metadata": {
    "id": "25fe6d0e",
    "outputId": "1eb4204f-ea8e-4c67-cdc1-bc5cac1e3df3"
   },
   "outputs": [
    {
     "data": {
      "text/plain": [
       "array([2, 4, 1, 3], dtype=int64)"
      ]
     },
     "execution_count": 13,
     "metadata": {},
     "output_type": "execute_result"
    }
   ],
   "source": [
    "# Level of education completed by respondent\n",
    "\n",
    "selected_data_2020 = selected_data_2020[selected_data_2020['X_EDUCAG'] != 9]\n",
    "selected_data_2020['X_EDUCAG'].unique()"
   ]
  },
  {
   "cell_type": "markdown",
   "id": "ab10205e",
   "metadata": {},
   "source": [
    "#### GENHLTH "
   ]
  },
  {
   "cell_type": "code",
   "execution_count": 14,
   "id": "a15a6a28",
   "metadata": {
    "id": "a15a6a28",
    "outputId": "5ab33908-73c3-4cd0-dd34-654f8c496b84"
   },
   "outputs": [
    {
     "data": {
      "text/plain": [
       "array([3., 2., 4., 1., 5.])"
      ]
     },
     "execution_count": 14,
     "metadata": {},
     "output_type": "execute_result"
    }
   ],
   "source": [
    "# General health of respondent (Self-opinion)\n",
    "\n",
    "selected_data_2020 = selected_data_2020[selected_data_2020['GENHLTH'] != 7]\n",
    "selected_data_2020 = selected_data_2020[selected_data_2020['GENHLTH'] != 9]\n",
    "selected_data_2020['GENHLTH'].unique()"
   ]
  },
  {
   "cell_type": "markdown",
   "id": "4636a18b",
   "metadata": {},
   "source": [
    "#### MENTHLTH "
   ]
  },
  {
   "cell_type": "code",
   "execution_count": 15,
   "id": "7fd637b9",
   "metadata": {
    "id": "7fd637b9",
    "outputId": "85976b8d-84b3-46fc-8372-9ed026b1e501"
   },
   "outputs": [
    {
     "data": {
      "text/plain": [
       "array([ 0., 30.,  2., 15.,  8.,  4.,  5., 10.,  3., 14., 20.,  1.,  7.,\n",
       "       24., 25., 28., 16., 17.,  9., 12., 18.,  6., 29., 23., 21., 26.,\n",
       "       27., 22., 13., 11., 19.])"
      ]
     },
     "execution_count": 15,
     "metadata": {},
     "output_type": "execute_result"
    }
   ],
   "source": [
    "# Number of days when mental health is poor (In past 30 days)\n",
    "\n",
    "selected_data_2020 = selected_data_2020[selected_data_2020['MENTHLTH'] != 77]\n",
    "selected_data_2020['MENTHLTH'] = selected_data_2020['MENTHLTH'].replace({88:0})\n",
    "selected_data_2020 = selected_data_2020[selected_data_2020['MENTHLTH'] != 99]\n",
    "selected_data_2020['MENTHLTH'].unique()"
   ]
  },
  {
   "cell_type": "markdown",
   "id": "dd1710f7",
   "metadata": {},
   "source": [
    "#### PHYSHLTH"
   ]
  },
  {
   "cell_type": "code",
   "execution_count": 16,
   "id": "43e2e46f",
   "metadata": {
    "id": "43e2e46f",
    "outputId": "401dddc8-4762-4375-cbaa-05b1ae6a4f8f"
   },
   "outputs": [
    {
     "data": {
      "text/plain": [
       "array([ 0., 28., 15.,  7.,  1.,  5., 30., 21.,  4.,  3.,  2., 20., 14.,\n",
       "       18.,  6., 10., 25., 27., 17.,  8., 12., 23., 16., 19., 29.,  9.,\n",
       "       26., 22., 11., 13., 24.])"
      ]
     },
     "execution_count": 16,
     "metadata": {},
     "output_type": "execute_result"
    }
   ],
   "source": [
    "# Number of days when physical health is poor (In past 30 days)\n",
    "\n",
    "selected_data_2020 = selected_data_2020[selected_data_2020['PHYSHLTH'] != 77]\n",
    "selected_data_2020['PHYSHLTH'] = selected_data_2020['PHYSHLTH'].replace({88:0})\n",
    "selected_data_2020 = selected_data_2020[selected_data_2020['PHYSHLTH'] != 99]\n",
    "selected_data_2020['PHYSHLTH'].unique()"
   ]
  },
  {
   "cell_type": "markdown",
   "id": "4c6cbfe6",
   "metadata": {},
   "source": [
    "#### SLEPTIM1"
   ]
  },
  {
   "cell_type": "code",
   "execution_count": 17,
   "id": "5fbdf295",
   "metadata": {
    "id": "5fbdf295",
    "outputId": "e4088572-7348-4591-b18d-b2cc170be853"
   },
   "outputs": [
    {
     "data": {
      "text/plain": [
       "array([ 6.,  8.,  4.,  5., 10.,  7.,  9.,  1., 12.,  3.,  2., 15., 16.,\n",
       "       18., 99., 14., 11., 20., 13., 24., 22., 17., 19., 23.])"
      ]
     },
     "execution_count": 17,
     "metadata": {},
     "output_type": "execute_result"
    }
   ],
   "source": [
    "# Hours of sleep in 24-hour period\n",
    "\n",
    "selected_data_2020 = selected_data_2020[selected_data_2020['SLEPTIM1'] != 77]\n",
    "selected_data_2020['SLEPTIM1'].unique()"
   ]
  },
  {
   "cell_type": "markdown",
   "id": "91ffc26c",
   "metadata": {},
   "source": [
    "#### X_MICHD"
   ]
  },
  {
   "cell_type": "code",
   "execution_count": 18,
   "id": "d27dee1d",
   "metadata": {
    "id": "d27dee1d",
    "outputId": "8667fb12-740b-4291-8917-39eee6d4de09"
   },
   "outputs": [
    {
     "data": {
      "text/plain": [
       "array([0., 1.])"
      ]
     },
     "execution_count": 18,
     "metadata": {},
     "output_type": "execute_result"
    }
   ],
   "source": [
    "# Coronary heart disease/Myocardial infarction\n",
    "\n",
    "# Values:\n",
    "# 0: Did not report having MI or CHD\n",
    "# 1: Reported having MI or CHD\n",
    "\n",
    "selected_data_2020['X_MICHD'] = selected_data_2020['X_MICHD'].replace({2:0})\n",
    "selected_data_2020['X_MICHD'].unique()"
   ]
  },
  {
   "cell_type": "markdown",
   "id": "18eabd76",
   "metadata": {},
   "source": [
    "#### CVDSTRK3"
   ]
  },
  {
   "cell_type": "code",
   "execution_count": 19,
   "id": "de83c16c",
   "metadata": {
    "id": "b15ae92e",
    "outputId": "4a788cb3-9fd9-4583-855d-a7a2469021d6"
   },
   "outputs": [
    {
     "data": {
      "text/plain": [
       "array([0., 1.])"
      ]
     },
     "execution_count": 19,
     "metadata": {},
     "output_type": "execute_result"
    }
   ],
   "source": [
    "# Stroke\n",
    "\n",
    "# Values:\n",
    "# 0: No\n",
    "# 1: Yes\n",
    "\n",
    "selected_data_2020 = selected_data_2020[selected_data_2020['CVDSTRK3'] != 7]\n",
    "selected_data_2020 = selected_data_2020[selected_data_2020['CVDSTRK3'] != 9]\n",
    "selected_data_2020['CVDSTRK3'] = selected_data_2020['CVDSTRK3'].replace({2:0})\n",
    "selected_data_2020['CVDSTRK3'].unique()"
   ]
  },
  {
   "cell_type": "markdown",
   "id": "3e3e35cb",
   "metadata": {},
   "source": [
    "#### ADDEPEV3"
   ]
  },
  {
   "cell_type": "code",
   "execution_count": 20,
   "id": "ffe33a73",
   "metadata": {
    "id": "ffe33a73",
    "outputId": "5b5ed584-bf3f-41a7-f102-dc219e6bdb2c"
   },
   "outputs": [
    {
     "data": {
      "text/plain": [
       "array([0., 1.])"
      ]
     },
     "execution_count": 20,
     "metadata": {},
     "output_type": "execute_result"
    }
   ],
   "source": [
    "# Depressive disorder\n",
    "\n",
    "# Values:\n",
    "# 0: No\n",
    "# 1: Yes\n",
    "\n",
    "selected_data_2020 = selected_data_2020[selected_data_2020['ADDEPEV3'] != 7]\n",
    "selected_data_2020 = selected_data_2020[selected_data_2020['ADDEPEV3'] != 9]\n",
    "selected_data_2020['ADDEPEV3'] = selected_data_2020['ADDEPEV3'].replace({2:0})\n",
    "selected_data_2020['ADDEPEV3'].unique()"
   ]
  },
  {
   "cell_type": "markdown",
   "id": "34ef8e26",
   "metadata": {},
   "source": [
    "#### CHCKDNY2"
   ]
  },
  {
   "cell_type": "code",
   "execution_count": 21,
   "id": "68018854",
   "metadata": {
    "id": "68018854",
    "outputId": "8d401dd1-9954-40b9-8737-5720b15cbfcf"
   },
   "outputs": [
    {
     "data": {
      "text/plain": [
       "array([0., 1.])"
      ]
     },
     "execution_count": 21,
     "metadata": {},
     "output_type": "execute_result"
    }
   ],
   "source": [
    "# Kidney disease\n",
    "\n",
    "# Values:\n",
    "# 0: No\n",
    "# 1: Yes\n",
    "\n",
    "selected_data_2020 = selected_data_2020[selected_data_2020['CHCKDNY2'] != 7]\n",
    "selected_data_2020 = selected_data_2020[selected_data_2020['CHCKDNY2'] != 9]\n",
    "selected_data_2020['CHCKDNY2'] = selected_data_2020['CHCKDNY2'].replace({2:0})\n",
    "selected_data_2020['CHCKDNY2'].unique()"
   ]
  },
  {
   "cell_type": "markdown",
   "id": "699953a8",
   "metadata": {},
   "source": [
    "#### DIABETE4"
   ]
  },
  {
   "cell_type": "code",
   "execution_count": 22,
   "id": "26dd20d7",
   "metadata": {
    "id": "26dd20d7",
    "outputId": "25b1f7cd-c16c-44e1-d6b6-a17ac46491c4"
   },
   "outputs": [
    {
     "data": {
      "text/plain": [
       "array([0., 1., 2.])"
      ]
     },
     "execution_count": 22,
     "metadata": {},
     "output_type": "execute_result"
    }
   ],
   "source": [
    "# Diabetes\n",
    "\n",
    "# Values:\n",
    "# 0: No\n",
    "# 1: Pre-diabetes/Borderline diabetes\n",
    "# 2: Yes\n",
    "\n",
    "selected_data_2020['DIABETE4'] = selected_data_2020['DIABETE4'].replace({2:0, 3:0, 1:2, 4:1})\n",
    "selected_data_2020 = selected_data_2020[selected_data_2020.DIABETE4 != 7]\n",
    "selected_data_2020 = selected_data_2020[selected_data_2020.DIABETE4 != 9]\n",
    "selected_data_2020['DIABETE4'].unique()\n"
   ]
  },
  {
   "cell_type": "markdown",
   "id": "056b634d",
   "metadata": {},
   "source": [
    "#### X_DRDXAR2"
   ]
  },
  {
   "cell_type": "code",
   "execution_count": 23,
   "id": "8070b2b5",
   "metadata": {
    "id": "8070b2b5",
    "outputId": "e1260421-8af2-4270-87a0-d17165340e8f"
   },
   "outputs": [
    {
     "data": {
      "text/plain": [
       "array([0., 1.])"
      ]
     },
     "execution_count": 23,
     "metadata": {},
     "output_type": "execute_result"
    }
   ],
   "source": [
    "# Arthritis\n",
    "\n",
    "# Values:\n",
    "# 0: Not diagnosed with arthritis\n",
    "# 1: Diagnosed with arthritis\n",
    "\n",
    "selected_data_2020['X_DRDXAR2'] = selected_data_2020['X_DRDXAR2'].replace({2:0})\n",
    "selected_data_2020.X_DRDXAR2.unique()"
   ]
  },
  {
   "cell_type": "markdown",
   "id": "de2ec684",
   "metadata": {},
   "source": [
    "#### CHECKUP1"
   ]
  },
  {
   "cell_type": "code",
   "execution_count": 24,
   "id": "f4f42df6",
   "metadata": {
    "id": "f4f42df6",
    "outputId": "6090eff5-2eeb-4c96-9469-8318cabb5ca1",
    "scrolled": true
   },
   "outputs": [
    {
     "data": {
      "text/plain": [
       "array([1., 3., 2., 4.])"
      ]
     },
     "execution_count": 24,
     "metadata": {},
     "output_type": "execute_result"
    }
   ],
   "source": [
    "# How long since last routine checkup\n",
    "\n",
    "# Values:\n",
    "# 1: Less than 12 months\n",
    "# 2: 1 to 2 years\n",
    "# 3: 2 to 5 years\n",
    "# 4: 5 or more years\n",
    "\n",
    "selected_data_2020 = selected_data_2020[selected_data_2020.CHECKUP1 != 7]\n",
    "selected_data_2020 = selected_data_2020[selected_data_2020.CHECKUP1 != 8]\n",
    "selected_data_2020 = selected_data_2020[selected_data_2020.CHECKUP1 != 9]\n",
    "selected_data_2020.CHECKUP1.unique()"
   ]
  },
  {
   "cell_type": "markdown",
   "id": "cd94c2e2",
   "metadata": {},
   "source": [
    "#### PDIABTST"
   ]
  },
  {
   "cell_type": "code",
   "execution_count": 25,
   "id": "a9af890b",
   "metadata": {
    "id": "a9af890b",
    "outputId": "83345482-c55f-462c-c58c-d73680d29de6"
   },
   "outputs": [
    {
     "data": {
      "text/plain": [
       "array([1., 0.])"
      ]
     },
     "execution_count": 25,
     "metadata": {},
     "output_type": "execute_result"
    }
   ],
   "source": [
    "# High blood sugar/diabetes test (In the past 3 years)\n",
    "\n",
    "# Values:\n",
    "# 0: No\n",
    "# 1: Yes\n",
    "\n",
    "selected_data_2020['PDIABTST'] = selected_data_2020['PDIABTST'].replace({2:0})\n",
    "selected_data_2020 = selected_data_2020[selected_data_2020.PDIABTST != 7]\n",
    "selected_data_2020 = selected_data_2020[selected_data_2020.PDIABTST != 9]\n",
    "selected_data_2020.PDIABTST.unique()"
   ]
  },
  {
   "cell_type": "markdown",
   "id": "1a1b22de",
   "metadata": {},
   "source": [
    "#### X_TOTINDA"
   ]
  },
  {
   "cell_type": "code",
   "execution_count": 26,
   "id": "a1ffa719",
   "metadata": {
    "id": "a1ffa719",
    "outputId": "17a9a0a9-e4fe-4f59-ec4b-068e8b3bc284"
   },
   "outputs": [
    {
     "data": {
      "text/plain": [
       "array([0, 1], dtype=int64)"
      ]
     },
     "execution_count": 26,
     "metadata": {},
     "output_type": "execute_result"
    }
   ],
   "source": [
    "# Exercise in the past 30 days\n",
    "\n",
    "# Values:\n",
    "# 0: No exercise (in last 30 days)\n",
    "# 1: Had exercise \n",
    "\n",
    "selected_data_2020['X_TOTINDA'] = selected_data_2020['X_TOTINDA'].replace({2:0})\n",
    "selected_data_2020 = selected_data_2020[selected_data_2020.X_TOTINDA != 9]\n",
    "selected_data_2020.X_TOTINDA.unique()"
   ]
  },
  {
   "cell_type": "markdown",
   "id": "5c19e53f",
   "metadata": {},
   "source": [
    "#### X_SMOKER3"
   ]
  },
  {
   "cell_type": "code",
   "execution_count": 27,
   "id": "44db19e4",
   "metadata": {
    "id": "44db19e4",
    "outputId": "5bda46f4-1b92-45df-c291-4945eafc4099"
   },
   "outputs": [
    {
     "data": {
      "text/plain": [
       "array([4, 3, 1, 2], dtype=int64)"
      ]
     },
     "execution_count": 27,
     "metadata": {},
     "output_type": "execute_result"
    }
   ],
   "source": [
    "# Smoker status\n",
    "\n",
    "# Values:\n",
    "# 1: Current smoker (Every day)\n",
    "# 2: Current smoker (Some days)\n",
    "# 3: Former smoker\n",
    "# 4: Never smoked\n",
    "\n",
    "selected_data_2020 = selected_data_2020[selected_data_2020.X_SMOKER3 != 9]\n",
    "selected_data_2020.X_SMOKER3.unique()"
   ]
  },
  {
   "cell_type": "markdown",
   "id": "a9c7cf7b",
   "metadata": {},
   "source": [
    "#### X_RFDRHV7"
   ]
  },
  {
   "cell_type": "code",
   "execution_count": 28,
   "id": "613c37e4",
   "metadata": {
    "id": "613c37e4",
    "outputId": "344741f0-ea86-4074-bd2a-a5978106f832"
   },
   "outputs": [
    {
     "data": {
      "text/plain": [
       "array([1, 0], dtype=int64)"
      ]
     },
     "execution_count": 28,
     "metadata": {},
     "output_type": "execute_result"
    }
   ],
   "source": [
    "# Heavy drinker\n",
    "\n",
    "# Values:\n",
    "# 0: Yes\n",
    "# 1: No\n",
    "\n",
    "selected_data_2020['X_RFDRHV7'] = selected_data_2020['X_RFDRHV7'].replace({2:0})\n",
    "selected_data_2020 = selected_data_2020[selected_data_2020.X_RFDRHV7 != 9]\n",
    "selected_data_2020['X_RFDRHV7'].unique()"
   ]
  },
  {
   "cell_type": "markdown",
   "id": "0a095b4b",
   "metadata": {},
   "source": [
    "#### CHCOCNCR"
   ]
  },
  {
   "cell_type": "code",
   "execution_count": 29,
   "id": "0eb23f42",
   "metadata": {
    "id": "0eb23f42",
    "outputId": "46171265-19d9-4e65-de8a-18d65fa5a4ef"
   },
   "outputs": [
    {
     "data": {
      "text/plain": [
       "array([1., 0.])"
      ]
     },
     "execution_count": 29,
     "metadata": {},
     "output_type": "execute_result"
    }
   ],
   "source": [
    "# (Did the respondent have any type of) Cancer\n",
    "\n",
    "# Values:\n",
    "# 0: No\n",
    "# 1: Yes\n",
    "\n",
    "selected_data_2020['CHCOCNCR'] = selected_data_2020['CHCOCNCR'].replace({2:0})\n",
    "selected_data_2020 = selected_data_2020[selected_data_2020['CHCOCNCR'] != 7]\n",
    "selected_data_2020 = selected_data_2020[selected_data_2020['CHCOCNCR'] != 9]\n",
    "selected_data_2020['CHCOCNCR'].unique()"
   ]
  },
  {
   "cell_type": "code",
   "execution_count": 30,
   "id": "341b6ccf",
   "metadata": {
    "id": "341b6ccf",
    "outputId": "6d122af3-03ac-4b74-f95b-adae29d346b6"
   },
   "outputs": [
    {
     "name": "stdout",
     "output_type": "stream",
     "text": [
      "<class 'pandas.core.frame.DataFrame'>\n",
      "Int64Index: 144917 entries, 6 to 401955\n",
      "Data columns (total 24 columns):\n",
      " #   Column     Non-Null Count   Dtype  \n",
      "---  ------     --------------   -----  \n",
      " 0   X_AGE_G    144917 non-null  int64  \n",
      " 1   X_SEX      144917 non-null  int64  \n",
      " 2   HTM4       144917 non-null  float64\n",
      " 3   WTKG3      144917 non-null  float64\n",
      " 4   X_BMI5     144917 non-null  float64\n",
      " 5   MARITAL    144917 non-null  float64\n",
      " 6   X_INCOMG   144917 non-null  int64  \n",
      " 7   X_EDUCAG   144917 non-null  int64  \n",
      " 8   GENHLTH    144917 non-null  float64\n",
      " 9   PHYSHLTH   144917 non-null  float64\n",
      " 10  MENTHLTH   144917 non-null  float64\n",
      " 11  SLEPTIM1   144917 non-null  float64\n",
      " 12  X_SMOKER3  144917 non-null  int64  \n",
      " 13  X_MICHD    144917 non-null  float64\n",
      " 14  CVDSTRK3   144917 non-null  float64\n",
      " 15  ADDEPEV3   144917 non-null  float64\n",
      " 16  CHCKDNY2   144917 non-null  float64\n",
      " 17  CHCOCNCR   144917 non-null  float64\n",
      " 18  X_DRDXAR2  144917 non-null  float64\n",
      " 19  CHECKUP1   144917 non-null  float64\n",
      " 20  X_RFDRHV7  144917 non-null  int64  \n",
      " 21  PDIABTST   144917 non-null  float64\n",
      " 22  X_TOTINDA  144917 non-null  int64  \n",
      " 23  DIABETE4   144917 non-null  float64\n",
      "dtypes: float64(17), int64(7)\n",
      "memory usage: 27.6 MB\n"
     ]
    }
   ],
   "source": [
    "selected_data_2020.info()"
   ]
  },
  {
   "cell_type": "code",
   "execution_count": 31,
   "id": "06fb4bd9",
   "metadata": {},
   "outputs": [],
   "source": [
    "selected_data_2020.to_csv(\"Data/selected_data_2020.csv\")"
   ]
  },
  {
   "cell_type": "markdown",
   "id": "f57ae7eb",
   "metadata": {},
   "source": [
    "### Cleaning the 2017 Dataset"
   ]
  },
  {
   "cell_type": "code",
   "execution_count": 32,
   "id": "53ebe994",
   "metadata": {},
   "outputs": [
    {
     "data": {
      "text/html": [
       "<div>\n",
       "<style scoped>\n",
       "    .dataframe tbody tr th:only-of-type {\n",
       "        vertical-align: middle;\n",
       "    }\n",
       "\n",
       "    .dataframe tbody tr th {\n",
       "        vertical-align: top;\n",
       "    }\n",
       "\n",
       "    .dataframe thead th {\n",
       "        text-align: right;\n",
       "    }\n",
       "</style>\n",
       "<table border=\"1\" class=\"dataframe\">\n",
       "  <thead>\n",
       "    <tr style=\"text-align: right;\">\n",
       "      <th></th>\n",
       "      <th>Unnamed: 0</th>\n",
       "      <th>_STATE</th>\n",
       "      <th>FMONTH</th>\n",
       "      <th>IDATE</th>\n",
       "      <th>IMONTH</th>\n",
       "      <th>IDAY</th>\n",
       "      <th>IYEAR</th>\n",
       "      <th>DISPCODE</th>\n",
       "      <th>SEQNO</th>\n",
       "      <th>_PSU</th>\n",
       "      <th>...</th>\n",
       "      <th>_PA300R2</th>\n",
       "      <th>_PA30021</th>\n",
       "      <th>_PASTRNG</th>\n",
       "      <th>_PAREC1</th>\n",
       "      <th>_PASTAE1</th>\n",
       "      <th>_RFSEAT2</th>\n",
       "      <th>_RFSEAT3</th>\n",
       "      <th>_FLSHOT6</th>\n",
       "      <th>_PNEUMO2</th>\n",
       "      <th>_AIDTST3</th>\n",
       "    </tr>\n",
       "  </thead>\n",
       "  <tbody>\n",
       "    <tr>\n",
       "      <th>0</th>\n",
       "      <td>1</td>\n",
       "      <td>1</td>\n",
       "      <td>1</td>\n",
       "      <td>1302017</td>\n",
       "      <td>1</td>\n",
       "      <td>30</td>\n",
       "      <td>2017</td>\n",
       "      <td>1100</td>\n",
       "      <td>2017000001</td>\n",
       "      <td>2017000001</td>\n",
       "      <td>...</td>\n",
       "      <td>1</td>\n",
       "      <td>1</td>\n",
       "      <td>1</td>\n",
       "      <td>1</td>\n",
       "      <td>1</td>\n",
       "      <td>1</td>\n",
       "      <td>1</td>\n",
       "      <td>1.0</td>\n",
       "      <td>1.0</td>\n",
       "      <td>1.0</td>\n",
       "    </tr>\n",
       "    <tr>\n",
       "      <th>1</th>\n",
       "      <td>2</td>\n",
       "      <td>1</td>\n",
       "      <td>1</td>\n",
       "      <td>1122017</td>\n",
       "      <td>1</td>\n",
       "      <td>12</td>\n",
       "      <td>2017</td>\n",
       "      <td>1100</td>\n",
       "      <td>2017000002</td>\n",
       "      <td>2017000002</td>\n",
       "      <td>...</td>\n",
       "      <td>1</td>\n",
       "      <td>1</td>\n",
       "      <td>1</td>\n",
       "      <td>1</td>\n",
       "      <td>1</td>\n",
       "      <td>1</td>\n",
       "      <td>1</td>\n",
       "      <td>1.0</td>\n",
       "      <td>1.0</td>\n",
       "      <td>1.0</td>\n",
       "    </tr>\n",
       "    <tr>\n",
       "      <th>2</th>\n",
       "      <td>3</td>\n",
       "      <td>1</td>\n",
       "      <td>1</td>\n",
       "      <td>1102017</td>\n",
       "      <td>1</td>\n",
       "      <td>10</td>\n",
       "      <td>2017</td>\n",
       "      <td>1100</td>\n",
       "      <td>2017000003</td>\n",
       "      <td>2017000003</td>\n",
       "      <td>...</td>\n",
       "      <td>3</td>\n",
       "      <td>2</td>\n",
       "      <td>2</td>\n",
       "      <td>4</td>\n",
       "      <td>2</td>\n",
       "      <td>1</td>\n",
       "      <td>1</td>\n",
       "      <td>1.0</td>\n",
       "      <td>1.0</td>\n",
       "      <td>2.0</td>\n",
       "    </tr>\n",
       "    <tr>\n",
       "      <th>3</th>\n",
       "      <td>4</td>\n",
       "      <td>1</td>\n",
       "      <td>1</td>\n",
       "      <td>2082017</td>\n",
       "      <td>2</td>\n",
       "      <td>8</td>\n",
       "      <td>2017</td>\n",
       "      <td>1200</td>\n",
       "      <td>2017000004</td>\n",
       "      <td>2017000004</td>\n",
       "      <td>...</td>\n",
       "      <td>9</td>\n",
       "      <td>9</td>\n",
       "      <td>9</td>\n",
       "      <td>9</td>\n",
       "      <td>9</td>\n",
       "      <td>9</td>\n",
       "      <td>9</td>\n",
       "      <td>9.0</td>\n",
       "      <td>9.0</td>\n",
       "      <td>NaN</td>\n",
       "    </tr>\n",
       "    <tr>\n",
       "      <th>4</th>\n",
       "      <td>5</td>\n",
       "      <td>1</td>\n",
       "      <td>1</td>\n",
       "      <td>1302017</td>\n",
       "      <td>1</td>\n",
       "      <td>30</td>\n",
       "      <td>2017</td>\n",
       "      <td>1100</td>\n",
       "      <td>2017000005</td>\n",
       "      <td>2017000005</td>\n",
       "      <td>...</td>\n",
       "      <td>3</td>\n",
       "      <td>2</td>\n",
       "      <td>2</td>\n",
       "      <td>4</td>\n",
       "      <td>2</td>\n",
       "      <td>1</td>\n",
       "      <td>2</td>\n",
       "      <td>2.0</td>\n",
       "      <td>2.0</td>\n",
       "      <td>2.0</td>\n",
       "    </tr>\n",
       "  </tbody>\n",
       "</table>\n",
       "<p>5 rows × 359 columns</p>\n",
       "</div>"
      ],
      "text/plain": [
       "   Unnamed: 0  _STATE  FMONTH    IDATE  IMONTH  IDAY  IYEAR  DISPCODE  \\\n",
       "0           1       1       1  1302017       1    30   2017      1100   \n",
       "1           2       1       1  1122017       1    12   2017      1100   \n",
       "2           3       1       1  1102017       1    10   2017      1100   \n",
       "3           4       1       1  2082017       2     8   2017      1200   \n",
       "4           5       1       1  1302017       1    30   2017      1100   \n",
       "\n",
       "        SEQNO        _PSU  ...  _PA300R2  _PA30021  _PASTRNG  _PAREC1  \\\n",
       "0  2017000001  2017000001  ...         1         1         1        1   \n",
       "1  2017000002  2017000002  ...         1         1         1        1   \n",
       "2  2017000003  2017000003  ...         3         2         2        4   \n",
       "3  2017000004  2017000004  ...         9         9         9        9   \n",
       "4  2017000005  2017000005  ...         3         2         2        4   \n",
       "\n",
       "   _PASTAE1  _RFSEAT2  _RFSEAT3  _FLSHOT6  _PNEUMO2  _AIDTST3  \n",
       "0         1         1         1       1.0       1.0       1.0  \n",
       "1         1         1         1       1.0       1.0       1.0  \n",
       "2         2         1         1       1.0       1.0       2.0  \n",
       "3         9         9         9       9.0       9.0       NaN  \n",
       "4         2         1         2       2.0       2.0       2.0  \n",
       "\n",
       "[5 rows x 359 columns]"
      ]
     },
     "execution_count": 32,
     "metadata": {},
     "output_type": "execute_result"
    }
   ],
   "source": [
    "raw_data_2017 = pd.read_csv('Data/2017_Data.csv', low_memory=False)\n",
    "raw_data_2017.head()"
   ]
  },
  {
   "cell_type": "code",
   "execution_count": 33,
   "id": "01b850d9",
   "metadata": {},
   "outputs": [],
   "source": [
    "# URBSTAT REMOVED and HADSIGM3\n",
    "selected_data_2017  =  raw_data_2017[['_AGE_G'   , 'SEX'     , 'HTM4'     , 'WTKG3'    , '_BMI5'    , 'MARITAL'  ,\n",
    "                                      '_INCOMG'  , '_EDUCAG' , 'GENHLTH'  , 'PHYSHLTH' , 'MENTHLTH' , 'SLEPTIM1' ,\n",
    "                                      '_SMOKER3' , '_MICHD'  , 'CVDSTRK3' , 'ADDEPEV2' , 'CHCKIDNY' , 'CHCOCNCR' ,\n",
    "                                      '_DRDXAR1' , 'CHECKUP1', 'PDIABTST' , '_TOTINDA' , 'DIABETE3' , '_RFDRHV5' ]]"
   ]
  },
  {
   "cell_type": "code",
   "execution_count": 34,
   "id": "8965caa4",
   "metadata": {},
   "outputs": [
    {
     "name": "stdout",
     "output_type": "stream",
     "text": [
      "<class 'pandas.core.frame.DataFrame'>\n",
      "Int64Index: 36771 entries, 9962 to 339833\n",
      "Data columns (total 24 columns):\n",
      " #   Column    Non-Null Count  Dtype  \n",
      "---  ------    --------------  -----  \n",
      " 0   _AGE_G    36771 non-null  int64  \n",
      " 1   SEX       36771 non-null  int64  \n",
      " 2   HTM4      36771 non-null  float64\n",
      " 3   WTKG3     36771 non-null  float64\n",
      " 4   _BMI5     36771 non-null  float64\n",
      " 5   MARITAL   36771 non-null  float64\n",
      " 6   _INCOMG   36771 non-null  int64  \n",
      " 7   _EDUCAG   36771 non-null  int64  \n",
      " 8   GENHLTH   36771 non-null  float64\n",
      " 9   PHYSHLTH  36771 non-null  float64\n",
      " 10  MENTHLTH  36771 non-null  float64\n",
      " 11  SLEPTIM1  36771 non-null  float64\n",
      " 12  _SMOKER3  36771 non-null  int64  \n",
      " 13  _MICHD    36771 non-null  float64\n",
      " 14  CVDSTRK3  36771 non-null  float64\n",
      " 15  ADDEPEV2  36771 non-null  float64\n",
      " 16  CHCKIDNY  36771 non-null  float64\n",
      " 17  CHCOCNCR  36771 non-null  float64\n",
      " 18  _DRDXAR1  36771 non-null  float64\n",
      " 19  CHECKUP1  36771 non-null  float64\n",
      " 20  PDIABTST  36771 non-null  float64\n",
      " 21  _TOTINDA  36771 non-null  int64  \n",
      " 22  DIABETE3  36771 non-null  float64\n",
      " 23  _RFDRHV5  36771 non-null  int64  \n",
      "dtypes: float64(17), int64(7)\n",
      "memory usage: 7.0 MB\n"
     ]
    }
   ],
   "source": [
    "selected_data_2017 = selected_data_2017.dropna()\n",
    "selected_data_2017.info()"
   ]
  },
  {
   "cell_type": "code",
   "execution_count": 35,
   "id": "5281727d",
   "metadata": {},
   "outputs": [
    {
     "data": {
      "text/plain": [
       "[0, 1]\n",
       "Categories (2, int64): [0, 1]"
      ]
     },
     "execution_count": 35,
     "metadata": {},
     "output_type": "execute_result"
    }
   ],
   "source": [
    "selected_data_2017['SEX'] = selected_data_2017['SEX'].replace({2:0})\n",
    "selected_data_2017 = selected_data_2017[selected_data_2017['SEX'] != 9]\n",
    "selected_data_2017 = selected_data_2017[selected_data_2017['SEX'] != 7]\n",
    "selected_data_2017['SEX'] = selected_data_2017['SEX'].astype('category')\n",
    "#selected_data_2017['SEX'] = selected_data_2017['SEX'].cat.rename_categories({\"Female\":\"F\"})\n",
    "selected_data_2017['SEX'].unique()"
   ]
  },
  {
   "cell_type": "code",
   "execution_count": 36,
   "id": "e3e016c4",
   "metadata": {},
   "outputs": [
    {
     "data": {
      "text/plain": [
       "array([1.68, 1.7 , 1.73, 1.6 , 1.65, 1.57, 1.55, 1.63, 1.5 , 1.96, 1.88,\n",
       "       1.8 , 1.91, 1.93, 1.52, 1.83, 1.85, 1.78, 1.75, 1.47, 2.01, 1.42,\n",
       "       1.4 , 1.45, 2.03, 1.05, 1.35, 1.98, 1.53, 1.15, 1.37, 1.04, 1.72,\n",
       "       1.66, 1.64, 1.58, 1.03, 0.91, 1.3 , 1.51, 2.06, 1.82, 1.69, 1.54,\n",
       "       1.22, 1.62, 1.74, 1.24, 1.76, 2.26, 1.32, 1.27, 1.12, 2.11, 1.61,\n",
       "       2.13, 2.08])"
      ]
     },
     "execution_count": 36,
     "metadata": {},
     "output_type": "execute_result"
    }
   ],
   "source": [
    "selected_data_2017['HTM4'] = selected_data_2017['HTM4'].div(100)\n",
    "selected_data_2017['HTM4'].unique()"
   ]
  },
  {
   "cell_type": "code",
   "execution_count": 37,
   "id": "fd34ccd2",
   "metadata": {},
   "outputs": [
    {
     "data": {
      "text/plain": [
       "array([111.,  91.,  61.,  52.,  57.,  77.,  82.,  70.,  73.,  48.,  84.,\n",
       "        67.,  72., 145.,  55.,  64.,  68., 104.,  93., 122., 132.,  75.,\n",
       "        59.,  79.,  54.,  49.,  60.,  66.,  65.,  98.,  95.,  86.,  76.,\n",
       "       100., 102.,  83.,  88.,  58.,  62., 109., 107., 110.,  45., 118.,\n",
       "        94.,  50.,  90.,  47.,  78., 141.,  63., 136.,  53., 127.,  43.,\n",
       "        71., 106.,  85.,  80.,  42.,  51.,  74.,  56.,  69.,  87.,  39.,\n",
       "        81., 112.,  89.,  46., 120.,  96., 143., 101., 113., 103., 116.,\n",
       "       129.,  97.,  44.,  41.,  35., 125.,  36.,  92., 108.,  99., 134.,\n",
       "       150., 170., 115., 163., 105., 172., 123.,  37., 227., 142., 128.,\n",
       "       156., 117., 131., 213., 130.,  34., 159., 168., 138., 146., 133.,\n",
       "       121., 137., 148., 147., 114., 157., 139., 175., 154., 124., 220.,\n",
       "       151., 119., 181., 140., 232., 161., 204., 178., 135.,  32., 152.,\n",
       "       126., 144., 174., 169.,  38., 272., 166., 188., 167.,  40., 177.,\n",
       "       155., 186., 225.,  30., 240., 250.,  33., 195., 245., 158.])"
      ]
     },
     "execution_count": 37,
     "metadata": {},
     "output_type": "execute_result"
    }
   ],
   "source": [
    "selected_data_2017['WTKG3'] = selected_data_2017['WTKG3'].div(100).round(0)\n",
    "selected_data_2017['WTKG3'].unique()"
   ]
  },
  {
   "cell_type": "code",
   "execution_count": 38,
   "id": "c47869da",
   "metadata": {},
   "outputs": [
    {
     "data": {
      "text/plain": [
       "array([40., 31., 21., 17., 22., 28., 32., 30., 19., 23., 37., 25., 38.,\n",
       "       24., 26., 29., 27., 34., 35., 20., 33., 36., 41., 39., 16., 42.,\n",
       "       44., 18., 45., 93., 15., 14., 46., 43., 47., 48., 55., 50., 13.,\n",
       "       64., 61., 49., 51., 60., 53., 68., 56., 54., 66., 97., 74., 52.,\n",
       "       58., 83., 72., 62., 59., 57., 94., 65., 63., 70., 12., 77., 71.,\n",
       "       73.])"
      ]
     },
     "execution_count": 38,
     "metadata": {},
     "output_type": "execute_result"
    }
   ],
   "source": [
    "selected_data_2017['_BMI5'] = selected_data_2017['_BMI5'].div(100).round(0)\n",
    "selected_data_2017['_BMI5'].unique()"
   ]
  },
  {
   "cell_type": "code",
   "execution_count": 39,
>>>>>>> 3e90a1679471ee37c05cdadf35aa823e19a4e519
   "id": "0489107a",
   "metadata": {
    "scrolled": true
   },
   "outputs": [
    {
     "name": "stderr",
     "output_type": "stream",
     "text": [
      "C:\\Users\\Shan\\anaconda3\\lib\\site-packages\\pandas\\io\\formats\\format.py:1429: FutureWarning: Index.ravel returning ndarray is deprecated; in a future version this will return a view on self.\n",
      "  for val, m in zip(values.ravel(), mask.ravel())\n"
     ]
    },
    {
     "data": {
      "text/plain": [
<<<<<<< HEAD
       "[1.0, 3.0, 5.0, 2.0, 6.0, 4.0]\n",
       "Categories (6, float64): [1.0, 2.0, 3.0, 4.0, 5.0, 6.0]"
      ]
     },
     "execution_count": 10,
=======
       "[5.0, 2.0, 1.0, 3.0, 6.0, 4.0]\n",
       "Categories (6, float64): [1.0, 2.0, 3.0, 4.0, 5.0, 6.0]"
      ]
     },
     "execution_count": 39,
>>>>>>> 3e90a1679471ee37c05cdadf35aa823e19a4e519
     "metadata": {},
     "output_type": "execute_result"
    }
   ],
   "source": [
<<<<<<< HEAD
    "selected_data_2016 = selected_data_2016[selected_data_2016['MARITAL'] != 9]\n",
    "selected_data_2016['MARITAL'] = selected_data_2016['MARITAL'].astype('category')\n",
    "selected_data_2016['MARITAL'].unique()"
=======
    "selected_data_2017 = selected_data_2017[selected_data_2017['MARITAL'] != 9]\n",
    "selected_data_2017['MARITAL'] = selected_data_2017['MARITAL'].astype('category')\n",
    "selected_data_2017['MARITAL'].unique()"
>>>>>>> 3e90a1679471ee37c05cdadf35aa823e19a4e519
   ]
  },
  {
   "cell_type": "code",
<<<<<<< HEAD
   "execution_count": 11,
=======
   "execution_count": 40,
>>>>>>> 3e90a1679471ee37c05cdadf35aa823e19a4e519
   "id": "9dbe1493",
   "metadata": {},
   "outputs": [
    {
     "data": {
      "text/plain": [
<<<<<<< HEAD
       "[3, 5, 4, 1, 2]\n",
       "Categories (5, int64): [1, 2, 3, 4, 5]"
      ]
     },
     "execution_count": 11,
=======
       "[4, 5, 3, 2, 1]\n",
       "Categories (5, int64): [1, 2, 3, 4, 5]"
      ]
     },
     "execution_count": 40,
>>>>>>> 3e90a1679471ee37c05cdadf35aa823e19a4e519
     "metadata": {},
     "output_type": "execute_result"
    }
   ],
   "source": [
<<<<<<< HEAD
    "selected_data_2016 = selected_data_2016[selected_data_2016['_INCOMG'] != 9]\n",
    "selected_data_2016['_INCOMG'] = selected_data_2016['_INCOMG'].astype('category')\n",
    "selected_data_2016['_INCOMG'].unique()"
=======
    "selected_data_2017 = selected_data_2017[selected_data_2017['_INCOMG'] != 9]\n",
    "selected_data_2017['_INCOMG'] = selected_data_2017['_INCOMG'].astype('category')\n",
    "selected_data_2017['_INCOMG'].unique()"
>>>>>>> 3e90a1679471ee37c05cdadf35aa823e19a4e519
   ]
  },
  {
   "cell_type": "code",
<<<<<<< HEAD
   "execution_count": 12,
=======
   "execution_count": 41,
>>>>>>> 3e90a1679471ee37c05cdadf35aa823e19a4e519
   "id": "cd054b56",
   "metadata": {},
   "outputs": [
    {
     "data": {
      "text/plain": [
<<<<<<< HEAD
       "[2, 3, 4, 1]\n",
       "Categories (4, int64): [1, 2, 3, 4]"
      ]
     },
     "execution_count": 12,
=======
       "[2, 4, 3, 1]\n",
       "Categories (4, int64): [1, 2, 3, 4]"
      ]
     },
     "execution_count": 41,
>>>>>>> 3e90a1679471ee37c05cdadf35aa823e19a4e519
     "metadata": {},
     "output_type": "execute_result"
    }
   ],
   "source": [
<<<<<<< HEAD
    "selected_data_2016 = selected_data_2016[selected_data_2016['_EDUCAG'] != 9]\n",
    "selected_data_2016['_EDUCAG'] = selected_data_2016['_EDUCAG'].astype('category')\n",
    "selected_data_2016['_EDUCAG'].unique()"
=======
    "selected_data_2017 = selected_data_2017[selected_data_2017['_EDUCAG'] != 9]\n",
    "selected_data_2017['_EDUCAG'] = selected_data_2017['_EDUCAG'].astype('category')\n",
    "selected_data_2017['_EDUCAG'].unique()"
>>>>>>> 3e90a1679471ee37c05cdadf35aa823e19a4e519
   ]
  },
  {
   "cell_type": "code",
<<<<<<< HEAD
   "execution_count": 13,
=======
   "execution_count": 42,
>>>>>>> 3e90a1679471ee37c05cdadf35aa823e19a4e519
   "id": "f63eb3f9",
   "metadata": {},
   "outputs": [
    {
     "data": {
      "text/plain": [
<<<<<<< HEAD
       "[1.0, 2.0, 3.0, 4.0, 5.0]\n",
       "Categories (5, float64): [1.0, 2.0, 3.0, 4.0, 5.0]"
      ]
     },
     "execution_count": 13,
=======
       "[3.0, 2.0, 5.0, 4.0, 1.0]\n",
       "Categories (5, float64): [1.0, 2.0, 3.0, 4.0, 5.0]"
      ]
     },
     "execution_count": 42,
>>>>>>> 3e90a1679471ee37c05cdadf35aa823e19a4e519
     "metadata": {},
     "output_type": "execute_result"
    }
   ],
   "source": [
<<<<<<< HEAD
    "selected_data_2016 = selected_data_2016[selected_data_2016['GENHLTH'] != 7]\n",
    "selected_data_2016 = selected_data_2016[selected_data_2016['GENHLTH'] != 9]\n",
    "selected_data_2016['GENHLTH'] = selected_data_2016['GENHLTH'].astype('category')\n",
    "selected_data_2016['GENHLTH'].unique()"
=======
    "selected_data_2017 = selected_data_2017[selected_data_2017['GENHLTH'] != 7]\n",
    "selected_data_2017 = selected_data_2017[selected_data_2017['GENHLTH'] != 9]\n",
    "selected_data_2017['GENHLTH'] = selected_data_2017['GENHLTH'].astype('category')\n",
    "selected_data_2017['GENHLTH'].unique()"
>>>>>>> 3e90a1679471ee37c05cdadf35aa823e19a4e519
   ]
  },
  {
   "cell_type": "code",
<<<<<<< HEAD
   "execution_count": 14,
=======
   "execution_count": 43,
>>>>>>> 3e90a1679471ee37c05cdadf35aa823e19a4e519
   "id": "b993567d",
   "metadata": {},
   "outputs": [
    {
     "data": {
      "text/plain": [
<<<<<<< HEAD
       "array([ 0.,  1.,  5.,  3.,  2., 15.,  4., 20., 30., 25.,  7.,  8., 10.,\n",
       "       12., 29., 13.,  6., 16., 22., 14., 28., 18., 21., 23., 17., 24.,\n",
       "       27.,  9., 11., 19., 26.])"
      ]
     },
     "execution_count": 14,
=======
       "array([30.,  0.,  1.,  2.,  3.,  5., 15., 10., 20., 24.,  4., 25.,  6.,\n",
       "        7., 12., 14., 18., 21.,  8., 28., 26., 27., 17.,  9., 16., 23.,\n",
       "       29., 13., 22., 11., 19.])"
      ]
     },
     "execution_count": 43,
>>>>>>> 3e90a1679471ee37c05cdadf35aa823e19a4e519
     "metadata": {},
     "output_type": "execute_result"
    }
   ],
   "source": [
<<<<<<< HEAD
    "selected_data_2016['MENTHLTH'] = selected_data_2016['MENTHLTH'].replace({88:0})\n",
    "selected_data_2016 = selected_data_2016[selected_data_2016['MENTHLTH'] != 77]\n",
    "selected_data_2016 = selected_data_2016[selected_data_2016['MENTHLTH'] != 99]\n",
    "selected_data_2016['MENTHLTH'].unique()"
=======
    "selected_data_2017['MENTHLTH'] = selected_data_2017['MENTHLTH'].replace({88:0})\n",
    "selected_data_2017 = selected_data_2017[selected_data_2017['MENTHLTH'] != 77]\n",
    "selected_data_2017 = selected_data_2017[selected_data_2017['MENTHLTH'] != 99]\n",
    "selected_data_2017['MENTHLTH'].unique()"
>>>>>>> 3e90a1679471ee37c05cdadf35aa823e19a4e519
   ]
  },
  {
   "cell_type": "code",
<<<<<<< HEAD
   "execution_count": 15,
=======
   "execution_count": 44,
>>>>>>> 3e90a1679471ee37c05cdadf35aa823e19a4e519
   "id": "baf7b1bf",
   "metadata": {},
   "outputs": [
    {
     "data": {
      "text/plain": [
<<<<<<< HEAD
       "array([ 0., 20.,  6.,  7.,  4.,  1., 14.,  2., 10., 30., 25., 21.,  3.,\n",
       "        5., 15., 28.,  9., 12., 29., 26., 17.,  8., 18., 16., 23., 27.,\n",
       "       13., 19., 11., 24., 22.])"
      ]
     },
     "execution_count": 15,
=======
       "array([ 2.,  0.,  4.,  1., 30.,  7.,  3.,  5., 10., 20., 15.,  6., 14.,\n",
       "       18., 25., 21., 28., 12.,  8., 27., 23., 19., 22., 26., 17., 29.,\n",
       "       13., 16., 24.,  9., 11.])"
      ]
     },
     "execution_count": 44,
>>>>>>> 3e90a1679471ee37c05cdadf35aa823e19a4e519
     "metadata": {},
     "output_type": "execute_result"
    }
   ],
   "source": [
<<<<<<< HEAD
    "selected_data_2016['PHYSHLTH'] = selected_data_2016['PHYSHLTH'].replace({88:0})\n",
    "selected_data_2016 = selected_data_2016[selected_data_2016['PHYSHLTH'] != 77]\n",
    "selected_data_2016 = selected_data_2016[selected_data_2016['PHYSHLTH'] != 99]\n",
    "selected_data_2016['PHYSHLTH'].unique()"
=======
    "selected_data_2017['PHYSHLTH'] = selected_data_2017['PHYSHLTH'].replace({88:0})\n",
    "selected_data_2017 = selected_data_2017[selected_data_2017['PHYSHLTH'] != 77]\n",
    "selected_data_2017 = selected_data_2017[selected_data_2017['PHYSHLTH'] != 99]\n",
    "selected_data_2017['PHYSHLTH'].unique()"
>>>>>>> 3e90a1679471ee37c05cdadf35aa823e19a4e519
   ]
  },
  {
   "cell_type": "code",
<<<<<<< HEAD
   "execution_count": 16,
=======
   "execution_count": 45,
>>>>>>> 3e90a1679471ee37c05cdadf35aa823e19a4e519
   "id": "85f30e1a",
   "metadata": {},
   "outputs": [
    {
     "data": {
      "text/plain": [
<<<<<<< HEAD
       "array([ 5.,  6.,  9.,  8.,  7.,  4., 10., 12.,  2.,  3., 15., 14., 16.,\n",
       "       11., 18., 17., 13.,  1., 20., 24., 21., 22., 19., 23.])"
      ]
     },
     "execution_count": 16,
=======
       "array([ 5.,  7.,  8.,  6.,  4.,  9., 10., 12., 11.,  2., 15.,  3., 18.,\n",
       "       23., 20., 16., 13., 24., 14.,  1.])"
      ]
     },
     "execution_count": 45,
>>>>>>> 3e90a1679471ee37c05cdadf35aa823e19a4e519
     "metadata": {},
     "output_type": "execute_result"
    }
   ],
   "source": [
<<<<<<< HEAD
    "selected_data_2016 = selected_data_2016[selected_data_2016['SLEPTIM1'] != 77]\n",
    "selected_data_2016 = selected_data_2016[selected_data_2016['SLEPTIM1'] != 99]\n",
    "selected_data_2016['SLEPTIM1'].unique()"
=======
    "selected_data_2017 = selected_data_2017[selected_data_2017['SLEPTIM1'] != 77]\n",
    "selected_data_2017 = selected_data_2017[selected_data_2017['SLEPTIM1'] != 99]\n",
    "selected_data_2017['SLEPTIM1'].unique()"
>>>>>>> 3e90a1679471ee37c05cdadf35aa823e19a4e519
   ]
  },
  {
   "cell_type": "code",
<<<<<<< HEAD
   "execution_count": 17,
=======
   "execution_count": 46,
>>>>>>> 3e90a1679471ee37c05cdadf35aa823e19a4e519
   "id": "d4bfdc92",
   "metadata": {},
   "outputs": [
    {
     "data": {
      "text/plain": [
       "[0.0, 1.0]\n",
       "Categories (2, float64): [0.0, 1.0]"
      ]
     },
<<<<<<< HEAD
     "execution_count": 17,
=======
     "execution_count": 46,
>>>>>>> 3e90a1679471ee37c05cdadf35aa823e19a4e519
     "metadata": {},
     "output_type": "execute_result"
    }
   ],
   "source": [
<<<<<<< HEAD
    "selected_data_2016['_MICHD'] = selected_data_2016['_MICHD'].replace({2:0})\n",
    "selected_data_2016['_MICHD'] = selected_data_2016['_MICHD'].astype('category')\n",
    "selected_data_2016['_MICHD'].unique()"
=======
    "selected_data_2017['_MICHD'] = selected_data_2017['_MICHD'].replace({2:0})\n",
    "selected_data_2017['_MICHD'] = selected_data_2017['_MICHD'].astype('category')\n",
    "selected_data_2017['_MICHD'].unique()"
>>>>>>> 3e90a1679471ee37c05cdadf35aa823e19a4e519
   ]
  },
  {
   "cell_type": "code",
<<<<<<< HEAD
   "execution_count": 18,
=======
   "execution_count": 47,
>>>>>>> 3e90a1679471ee37c05cdadf35aa823e19a4e519
   "id": "9213a53b",
   "metadata": {},
   "outputs": [
    {
     "data": {
      "text/plain": [
       "[0.0, 1.0]\n",
       "Categories (2, float64): [0.0, 1.0]"
      ]
     },
<<<<<<< HEAD
     "execution_count": 18,
=======
     "execution_count": 47,
>>>>>>> 3e90a1679471ee37c05cdadf35aa823e19a4e519
     "metadata": {},
     "output_type": "execute_result"
    }
   ],
   "source": [
<<<<<<< HEAD
    "selected_data_2016['CVDSTRK3'] = selected_data_2016['CVDSTRK3'].replace({2:0})\n",
    "selected_data_2016 = selected_data_2016[selected_data_2016['CVDSTRK3'] != 7]\n",
    "selected_data_2016 = selected_data_2016[selected_data_2016['CVDSTRK3'] != 9]\n",
    "selected_data_2016['CVDSTRK3'] = selected_data_2016['CVDSTRK3'].astype('category')\n",
    "selected_data_2016['CVDSTRK3'].unique()"
=======
    "selected_data_2017['CVDSTRK3'] = selected_data_2017['CVDSTRK3'].replace({2:0})\n",
    "selected_data_2017 = selected_data_2017[selected_data_2017['CVDSTRK3'] != 7]\n",
    "selected_data_2017 = selected_data_2017[selected_data_2017['CVDSTRK3'] != 9]\n",
    "selected_data_2017['CVDSTRK3'] = selected_data_2017['CVDSTRK3'].astype('category')\n",
    "selected_data_2017['CVDSTRK3'].unique()"
>>>>>>> 3e90a1679471ee37c05cdadf35aa823e19a4e519
   ]
  },
  {
   "cell_type": "code",
<<<<<<< HEAD
   "execution_count": 19,
=======
   "execution_count": 48,
>>>>>>> 3e90a1679471ee37c05cdadf35aa823e19a4e519
   "id": "b6df2130",
   "metadata": {},
   "outputs": [
    {
     "data": {
      "text/plain": [
       "[0.0, 1.0]\n",
       "Categories (2, float64): [0.0, 1.0]"
      ]
     },
<<<<<<< HEAD
     "execution_count": 19,
=======
     "execution_count": 48,
>>>>>>> 3e90a1679471ee37c05cdadf35aa823e19a4e519
     "metadata": {},
     "output_type": "execute_result"
    }
   ],
   "source": [
<<<<<<< HEAD
    "selected_data_2016['ADDEPEV2'] = selected_data_2016['ADDEPEV2'].replace({2:0})\n",
    "selected_data_2016 = selected_data_2016[selected_data_2016['ADDEPEV2'] != 7]\n",
    "selected_data_2016 = selected_data_2016[selected_data_2016['ADDEPEV2'] != 9]\n",
    "selected_data_2016['ADDEPEV2'] = selected_data_2016['ADDEPEV2'].astype('category')\n",
    "selected_data_2016['ADDEPEV2'].unique()"
=======
    "selected_data_2017['ADDEPEV2'] = selected_data_2017['ADDEPEV2'].replace({2:0})\n",
    "selected_data_2017 = selected_data_2017[selected_data_2017['ADDEPEV2'] != 7]\n",
    "selected_data_2017 = selected_data_2017[selected_data_2017['ADDEPEV2'] != 9]\n",
    "selected_data_2017['ADDEPEV2'] = selected_data_2017['ADDEPEV2'].astype('category')\n",
    "selected_data_2017['ADDEPEV2'].unique()"
>>>>>>> 3e90a1679471ee37c05cdadf35aa823e19a4e519
   ]
  },
  {
   "cell_type": "code",
<<<<<<< HEAD
   "execution_count": 20,
=======
   "execution_count": 49,
>>>>>>> 3e90a1679471ee37c05cdadf35aa823e19a4e519
   "id": "71158323",
   "metadata": {},
   "outputs": [
    {
     "data": {
      "text/plain": [
       "[0.0, 1.0]\n",
       "Categories (2, float64): [0.0, 1.0]"
      ]
     },
<<<<<<< HEAD
     "execution_count": 20,
=======
     "execution_count": 49,
>>>>>>> 3e90a1679471ee37c05cdadf35aa823e19a4e519
     "metadata": {},
     "output_type": "execute_result"
    }
   ],
   "source": [
<<<<<<< HEAD
    "selected_data_2016['CHCKIDNY'] = selected_data_2016['CHCKIDNY'].replace({2:0})\n",
    "selected_data_2016 = selected_data_2016[selected_data_2016['CHCKIDNY'] != 7]\n",
    "selected_data_2016 = selected_data_2016[selected_data_2016['CHCKIDNY'] != 9]\n",
    "selected_data_2016['CHCKIDNY'] = selected_data_2016['CHCKIDNY'].astype('category')\n",
    "selected_data_2016['CHCKIDNY'].unique()"
=======
    "selected_data_2017['CHCKIDNY'] = selected_data_2017['CHCKIDNY'].replace({2:0})\n",
    "selected_data_2017 = selected_data_2017[selected_data_2017['CHCKIDNY'] != 7]\n",
    "selected_data_2017 = selected_data_2017[selected_data_2017['CHCKIDNY'] != 9]\n",
    "selected_data_2017['CHCKIDNY'] = selected_data_2017['CHCKIDNY'].astype('category')\n",
    "selected_data_2017['CHCKIDNY'].unique()"
>>>>>>> 3e90a1679471ee37c05cdadf35aa823e19a4e519
   ]
  },
  {
   "cell_type": "code",
<<<<<<< HEAD
   "execution_count": 21,
=======
   "execution_count": 50,
>>>>>>> 3e90a1679471ee37c05cdadf35aa823e19a4e519
   "id": "5ec67691",
   "metadata": {},
   "outputs": [
    {
     "data": {
      "text/plain": [
       "[0.0, 1.0]\n",
       "Categories (2, float64): [0.0, 1.0]"
      ]
     },
<<<<<<< HEAD
     "execution_count": 21,
=======
     "execution_count": 50,
>>>>>>> 3e90a1679471ee37c05cdadf35aa823e19a4e519
     "metadata": {},
     "output_type": "execute_result"
    }
   ],
   "source": [
<<<<<<< HEAD
    "selected_data_2016['DIABETE3'] = selected_data_2016['DIABETE3'].replace({2:0, 3:0, 1:1, 4:1})\n",
    "selected_data_2016 = selected_data_2016[selected_data_2016['DIABETE3'] != 7]\n",
    "selected_data_2016 = selected_data_2016[selected_data_2016['DIABETE3'] != 9]\n",
    "selected_data_2016['DIABETE3'] = selected_data_2016['DIABETE3'].astype('category')\n",
    "selected_data_2016['DIABETE3'].unique()"
=======
    "selected_data_2017['DIABETE3'] = selected_data_2017['DIABETE3'].replace({2:0, 3:0, 1:1, 4:1})\n",
    "selected_data_2017 = selected_data_2017[selected_data_2017['DIABETE3'] != 7]\n",
    "selected_data_2017 = selected_data_2017[selected_data_2017['DIABETE3'] != 9]\n",
    "selected_data_2017['DIABETE3'] = selected_data_2017['DIABETE3'].astype('category')\n",
    "selected_data_2017['DIABETE3'].unique()"
>>>>>>> 3e90a1679471ee37c05cdadf35aa823e19a4e519
   ]
  },
  {
   "cell_type": "code",
<<<<<<< HEAD
   "execution_count": 22,
=======
   "execution_count": 51,
>>>>>>> 3e90a1679471ee37c05cdadf35aa823e19a4e519
   "id": "586fad72",
   "metadata": {},
   "outputs": [
    {
     "data": {
      "text/plain": [
       "[0.0, 1.0]\n",
       "Categories (2, float64): [0.0, 1.0]"
      ]
     },
<<<<<<< HEAD
     "execution_count": 22,
=======
     "execution_count": 51,
>>>>>>> 3e90a1679471ee37c05cdadf35aa823e19a4e519
     "metadata": {},
     "output_type": "execute_result"
    }
   ],
   "source": [
<<<<<<< HEAD
    "selected_data_2016['_DRDXAR1'] = selected_data_2016['_DRDXAR1'].replace({2:0})\n",
    "selected_data_2016['_DRDXAR1'] = selected_data_2016['_DRDXAR1'].astype('category')\n",
    "selected_data_2016['_DRDXAR1'].unique()"
=======
    "selected_data_2017['_DRDXAR1'] = selected_data_2017['_DRDXAR1'].replace({2:0})\n",
    "selected_data_2017['_DRDXAR1'] = selected_data_2017['_DRDXAR1'].astype('category')\n",
    "selected_data_2017['_DRDXAR1'].unique()"
>>>>>>> 3e90a1679471ee37c05cdadf35aa823e19a4e519
   ]
  },
  {
   "cell_type": "code",
<<<<<<< HEAD
   "execution_count": 23,
=======
   "execution_count": 52,
>>>>>>> 3e90a1679471ee37c05cdadf35aa823e19a4e519
   "id": "63a11f41",
   "metadata": {},
   "outputs": [
    {
     "data": {
      "text/plain": [
<<<<<<< HEAD
       "[1.0, 3.0, 2.0, 4.0]\n",
       "Categories (4, float64): [1.0, 2.0, 3.0, 4.0]"
      ]
     },
     "execution_count": 23,
=======
       "[2.0, 1.0, 3.0, 4.0]\n",
       "Categories (4, float64): [1.0, 2.0, 3.0, 4.0]"
      ]
     },
     "execution_count": 52,
>>>>>>> 3e90a1679471ee37c05cdadf35aa823e19a4e519
     "metadata": {},
     "output_type": "execute_result"
    }
   ],
   "source": [
<<<<<<< HEAD
    "selected_data_2016  = selected_data_2016[selected_data_2016['CHECKUP1'] != 7]\n",
    "selected_data_2016  = selected_data_2016[selected_data_2016['CHECKUP1'] != 8]\n",
    "selected_data_2016  = selected_data_2016[selected_data_2016['CHECKUP1'] != 9]\n",
    "selected_data_2016['CHECKUP1'] = selected_data_2016['CHECKUP1'].astype('category')\n",
    "selected_data_2016['CHECKUP1'].unique()"
=======
    "selected_data_2017  = selected_data_2017[selected_data_2017['CHECKUP1'] != 7]\n",
    "selected_data_2017  = selected_data_2017[selected_data_2017['CHECKUP1'] != 8]\n",
    "selected_data_2017  = selected_data_2017[selected_data_2017['CHECKUP1'] != 9]\n",
    "selected_data_2017['CHECKUP1'] = selected_data_2017['CHECKUP1'].astype('category')\n",
    "selected_data_2017['CHECKUP1'].unique()"
>>>>>>> 3e90a1679471ee37c05cdadf35aa823e19a4e519
   ]
  },
  {
   "cell_type": "code",
<<<<<<< HEAD
   "execution_count": 24,
=======
   "execution_count": 53,
>>>>>>> 3e90a1679471ee37c05cdadf35aa823e19a4e519
   "id": "0f529684",
   "metadata": {},
   "outputs": [
    {
     "data": {
      "text/plain": [
<<<<<<< HEAD
       "[0.0, 1.0]\n",
       "Categories (2, float64): [0.0, 1.0]"
      ]
     },
     "execution_count": 24,
=======
       "[1.0, 0.0]\n",
       "Categories (2, float64): [0.0, 1.0]"
      ]
     },
     "execution_count": 53,
>>>>>>> 3e90a1679471ee37c05cdadf35aa823e19a4e519
     "metadata": {},
     "output_type": "execute_result"
    }
   ],
   "source": [
<<<<<<< HEAD
    "selected_data_2016['PDIABTST'] = selected_data_2016['PDIABTST'].replace({2:0})\n",
    "selected_data_2016 = selected_data_2016[selected_data_2016['PDIABTST'] != 7]\n",
    "selected_data_2016 = selected_data_2016[selected_data_2016['PDIABTST'] != 9]\n",
    "selected_data_2016['PDIABTST'] = selected_data_2016['PDIABTST'].astype('category')\n",
    "selected_data_2016.PDIABTST.unique()"
=======
    "selected_data_2017['PDIABTST'] = selected_data_2017['PDIABTST'].replace({2:0})\n",
    "selected_data_2017 = selected_data_2017[selected_data_2017['PDIABTST'] != 7]\n",
    "selected_data_2017 = selected_data_2017[selected_data_2017['PDIABTST'] != 9]\n",
    "selected_data_2017['PDIABTST'] = selected_data_2017['PDIABTST'].astype('category')\n",
    "selected_data_2017.PDIABTST.unique()"
>>>>>>> 3e90a1679471ee37c05cdadf35aa823e19a4e519
   ]
  },
  {
   "cell_type": "code",
<<<<<<< HEAD
   "execution_count": 25,
=======
   "execution_count": 54,
>>>>>>> 3e90a1679471ee37c05cdadf35aa823e19a4e519
   "id": "cb2edef3",
   "metadata": {},
   "outputs": [
    {
     "data": {
      "text/plain": [
<<<<<<< HEAD
       "[1, 0]\n",
       "Categories (2, int64): [0, 1]"
      ]
     },
     "execution_count": 25,
=======
       "[0, 1]\n",
       "Categories (2, int64): [0, 1]"
      ]
     },
     "execution_count": 54,
>>>>>>> 3e90a1679471ee37c05cdadf35aa823e19a4e519
     "metadata": {},
     "output_type": "execute_result"
    }
   ],
   "source": [
<<<<<<< HEAD
    "selected_data_2016['_TOTINDA'] = selected_data_2016['_TOTINDA'].replace({2:0})\n",
    "selected_data_2016 = selected_data_2016[selected_data_2016['_TOTINDA'] != 9]\n",
    "selected_data_2016['_TOTINDA'] = selected_data_2016['_TOTINDA'].astype('category')\n",
    "selected_data_2016['_TOTINDA'].unique()"
=======
    "selected_data_2017['_TOTINDA'] = selected_data_2017['_TOTINDA'].replace({2:0})\n",
    "selected_data_2017 = selected_data_2017[selected_data_2017['_TOTINDA'] != 9]\n",
    "selected_data_2017['_TOTINDA'] = selected_data_2017['_TOTINDA'].astype('category')\n",
    "selected_data_2017['_TOTINDA'].unique()"
>>>>>>> 3e90a1679471ee37c05cdadf35aa823e19a4e519
   ]
  },
  {
   "cell_type": "code",
<<<<<<< HEAD
   "execution_count": 26,
=======
   "execution_count": 55,
>>>>>>> 3e90a1679471ee37c05cdadf35aa823e19a4e519
   "id": "e365c70d",
   "metadata": {},
   "outputs": [
    {
     "data": {
      "text/plain": [
<<<<<<< HEAD
       "[4, 1, 3, 2]\n",
       "Categories (4, int64): [1, 2, 3, 4]"
      ]
     },
     "execution_count": 26,
=======
       "[3, 4, 1, 2]\n",
       "Categories (4, int64): [1, 2, 3, 4]"
      ]
     },
     "execution_count": 55,
>>>>>>> 3e90a1679471ee37c05cdadf35aa823e19a4e519
     "metadata": {},
     "output_type": "execute_result"
    }
   ],
   "source": [
<<<<<<< HEAD
    "selected_data_2016 = selected_data_2016[selected_data_2016['_SMOKER3'] != 9]\n",
    "selected_data_2016['_SMOKER3'] = selected_data_2016['_SMOKER3'].astype('category')\n",
    "selected_data_2016['_SMOKER3'].unique()"
=======
    "selected_data_2017 = selected_data_2017[selected_data_2017['_SMOKER3'] != 9]\n",
    "selected_data_2017['_SMOKER3'] = selected_data_2017['_SMOKER3'].astype('category')\n",
    "selected_data_2017['_SMOKER3'].unique()"
>>>>>>> 3e90a1679471ee37c05cdadf35aa823e19a4e519
   ]
  },
  {
   "cell_type": "code",
<<<<<<< HEAD
   "execution_count": 27,
=======
   "execution_count": 56,
>>>>>>> 3e90a1679471ee37c05cdadf35aa823e19a4e519
   "id": "17371583",
   "metadata": {},
   "outputs": [
    {
     "data": {
      "text/plain": [
       "[1, 0]\n",
       "Categories (2, int64): [0, 1]"
      ]
     },
<<<<<<< HEAD
     "execution_count": 27,
=======
     "execution_count": 56,
>>>>>>> 3e90a1679471ee37c05cdadf35aa823e19a4e519
     "metadata": {},
     "output_type": "execute_result"
    }
   ],
   "source": [
<<<<<<< HEAD
    "selected_data_2016['_RFDRHV5'] = selected_data_2016['_RFDRHV5'].replace({2:0})\n",
    "selected_data_2016 = selected_data_2016[selected_data_2016['_RFDRHV5'] != 9]\n",
    "selected_data_2016['_RFDRHV5'] = selected_data_2016['_RFDRHV5'].astype('category')\n",
    "selected_data_2016['_RFDRHV5'].unique()"
=======
    "selected_data_2017['_RFDRHV5'] = selected_data_2017['_RFDRHV5'].replace({2:0})\n",
    "selected_data_2017 = selected_data_2017[selected_data_2017['_RFDRHV5'] != 9]\n",
    "selected_data_2017['_RFDRHV5'] = selected_data_2017['_RFDRHV5'].astype('category')\n",
    "selected_data_2017['_RFDRHV5'].unique()"
>>>>>>> 3e90a1679471ee37c05cdadf35aa823e19a4e519
   ]
  },
  {
   "cell_type": "code",
<<<<<<< HEAD
   "execution_count": 28,
=======
   "execution_count": 57,
>>>>>>> 3e90a1679471ee37c05cdadf35aa823e19a4e519
   "id": "57930640",
   "metadata": {},
   "outputs": [
    {
     "data": {
      "text/plain": [
       "[0.0, 1.0]\n",
       "Categories (2, float64): [0.0, 1.0]"
      ]
     },
<<<<<<< HEAD
     "execution_count": 28,
=======
     "execution_count": 57,
>>>>>>> 3e90a1679471ee37c05cdadf35aa823e19a4e519
     "metadata": {},
     "output_type": "execute_result"
    }
   ],
   "source": [
<<<<<<< HEAD
    "selected_data_2016['CHCOCNCR'] = selected_data_2016['CHCOCNCR'].replace({2:0})\n",
    "selected_data_2016 = selected_data_2016[selected_data_2016['CHCOCNCR'] != 7]\n",
    "selected_data_2016 = selected_data_2016[selected_data_2016['CHCOCNCR'] != 9]\n",
    "selected_data_2016['CHCOCNCR'] = selected_data_2016['CHCOCNCR'].astype('category')\n",
    "selected_data_2016['CHCOCNCR'].unique()"
=======
    "selected_data_2017['CHCOCNCR'] = selected_data_2017['CHCOCNCR'].replace({2:0})\n",
    "selected_data_2017 = selected_data_2017[selected_data_2017['CHCOCNCR'] != 7]\n",
    "selected_data_2017 = selected_data_2017[selected_data_2017['CHCOCNCR'] != 9]\n",
    "selected_data_2017['CHCOCNCR'] = selected_data_2017['CHCOCNCR'].astype('category')\n",
    "selected_data_2017['CHCOCNCR'].unique()"
>>>>>>> 3e90a1679471ee37c05cdadf35aa823e19a4e519
   ]
  },
  {
   "cell_type": "code",
<<<<<<< HEAD
   "execution_count": 29,
=======
   "execution_count": 58,
>>>>>>> 3e90a1679471ee37c05cdadf35aa823e19a4e519
   "id": "b7deadde",
   "metadata": {
    "scrolled": false
   },
   "outputs": [
    {
     "name": "stdout",
     "output_type": "stream",
     "text": [
      "<class 'pandas.core.frame.DataFrame'>\n",
<<<<<<< HEAD
      "Int64Index: 132555 entries, 1 to 486302\n",
      "Data columns (total 24 columns):\n",
      " #   Column    Non-Null Count   Dtype   \n",
      "---  ------    --------------   -----   \n",
      " 0   _AGE_G    132555 non-null  category\n",
      " 1   SEX       132555 non-null  category\n",
      " 2   HTM4      132555 non-null  float64 \n",
      " 3   WTKG3     132555 non-null  float64 \n",
      " 4   _BMI5     132555 non-null  float64 \n",
      " 5   MARITAL   132555 non-null  category\n",
      " 6   _INCOMG   132555 non-null  category\n",
      " 7   _EDUCAG   132555 non-null  category\n",
      " 8   GENHLTH   132555 non-null  category\n",
      " 9   PHYSHLTH  132555 non-null  float64 \n",
      " 10  MENTHLTH  132555 non-null  float64 \n",
      " 11  SLEPTIM1  132555 non-null  float64 \n",
      " 12  _SMOKER3  132555 non-null  category\n",
      " 13  _MICHD    132555 non-null  category\n",
      " 14  CVDSTRK3  132555 non-null  category\n",
      " 15  ADDEPEV2  132555 non-null  category\n",
      " 16  CHCKIDNY  132555 non-null  category\n",
      " 17  CHCOCNCR  132555 non-null  category\n",
      " 18  _DRDXAR1  132555 non-null  category\n",
      " 19  CHECKUP1  132555 non-null  category\n",
      " 20  PDIABTST  132555 non-null  category\n",
      " 21  _TOTINDA  132555 non-null  category\n",
      " 22  DIABETE3  132555 non-null  category\n",
      " 23  _RFDRHV5  132555 non-null  category\n",
      "dtypes: category(18), float64(6)\n",
      "memory usage: 9.4 MB\n"
=======
      "Int64Index: 28369 entries, 9962 to 339832\n",
      "Data columns (total 24 columns):\n",
      " #   Column    Non-Null Count  Dtype   \n",
      "---  ------    --------------  -----   \n",
      " 0   _AGE_G    28369 non-null  int64   \n",
      " 1   SEX       28369 non-null  category\n",
      " 2   HTM4      28369 non-null  float64 \n",
      " 3   WTKG3     28369 non-null  float64 \n",
      " 4   _BMI5     28369 non-null  float64 \n",
      " 5   MARITAL   28369 non-null  category\n",
      " 6   _INCOMG   28369 non-null  category\n",
      " 7   _EDUCAG   28369 non-null  category\n",
      " 8   GENHLTH   28369 non-null  category\n",
      " 9   PHYSHLTH  28369 non-null  float64 \n",
      " 10  MENTHLTH  28369 non-null  float64 \n",
      " 11  SLEPTIM1  28369 non-null  float64 \n",
      " 12  _SMOKER3  28369 non-null  category\n",
      " 13  _MICHD    28369 non-null  category\n",
      " 14  CVDSTRK3  28369 non-null  category\n",
      " 15  ADDEPEV2  28369 non-null  category\n",
      " 16  CHCKIDNY  28369 non-null  category\n",
      " 17  CHCOCNCR  28369 non-null  category\n",
      " 18  _DRDXAR1  28369 non-null  category\n",
      " 19  CHECKUP1  28369 non-null  category\n",
      " 20  PDIABTST  28369 non-null  category\n",
      " 21  _TOTINDA  28369 non-null  category\n",
      " 22  DIABETE3  28369 non-null  category\n",
      " 23  _RFDRHV5  28369 non-null  category\n",
      "dtypes: category(17), float64(6), int64(1)\n",
      "memory usage: 2.2 MB\n"
>>>>>>> 3e90a1679471ee37c05cdadf35aa823e19a4e519
     ]
    }
   ],
   "source": [
<<<<<<< HEAD
    "selected_data_2016.info()"
=======
    "selected_data_2017.info()"
>>>>>>> 3e90a1679471ee37c05cdadf35aa823e19a4e519
   ]
  },
  {
   "cell_type": "markdown",
   "id": "e2bb33a6",
   "metadata": {},
   "source": [
    "### Cleaning the 2018 Dataset"
   ]
  },
  {
   "cell_type": "code",
<<<<<<< HEAD
   "execution_count": 30,
=======
   "execution_count": 59,
>>>>>>> 3e90a1679471ee37c05cdadf35aa823e19a4e519
   "id": "e1cdbb77",
   "metadata": {},
   "outputs": [
    {
<<<<<<< HEAD
     "name": "stdout",
     "output_type": "stream",
     "text": [
      "<class 'pandas.core.frame.DataFrame'>\n",
      "RangeIndex: 437436 entries, 0 to 437435\n",
      "Columns: 276 entries, Unnamed: 0 to _AIDTST3\n",
      "dtypes: float64(231), int64(44), object(1)\n",
      "memory usage: 921.1+ MB\n"
     ]
=======
     "data": {
      "text/html": [
       "<div>\n",
       "<style scoped>\n",
       "    .dataframe tbody tr th:only-of-type {\n",
       "        vertical-align: middle;\n",
       "    }\n",
       "\n",
       "    .dataframe tbody tr th {\n",
       "        vertical-align: top;\n",
       "    }\n",
       "\n",
       "    .dataframe thead th {\n",
       "        text-align: right;\n",
       "    }\n",
       "</style>\n",
       "<table border=\"1\" class=\"dataframe\">\n",
       "  <thead>\n",
       "    <tr style=\"text-align: right;\">\n",
       "      <th></th>\n",
       "      <th>Unnamed: 0</th>\n",
       "      <th>_STATE</th>\n",
       "      <th>FMONTH</th>\n",
       "      <th>IDATE</th>\n",
       "      <th>IMONTH</th>\n",
       "      <th>IDAY</th>\n",
       "      <th>IYEAR</th>\n",
       "      <th>DISPCODE</th>\n",
       "      <th>SEQNO</th>\n",
       "      <th>_PSU</th>\n",
       "      <th>...</th>\n",
       "      <th>_MAM5022</th>\n",
       "      <th>_RFPAP34</th>\n",
       "      <th>_RFPSA22</th>\n",
       "      <th>_RFBLDS3</th>\n",
       "      <th>_COL10YR</th>\n",
       "      <th>_HFOB3YR</th>\n",
       "      <th>_FS5YR</th>\n",
       "      <th>_FOBTFS</th>\n",
       "      <th>_CRCREC</th>\n",
       "      <th>_AIDTST3</th>\n",
       "    </tr>\n",
       "  </thead>\n",
       "  <tbody>\n",
       "    <tr>\n",
       "      <th>0</th>\n",
       "      <td>1</td>\n",
       "      <td>1</td>\n",
       "      <td>1</td>\n",
       "      <td>1052018</td>\n",
       "      <td>1</td>\n",
       "      <td>5</td>\n",
       "      <td>2018</td>\n",
       "      <td>1100</td>\n",
       "      <td>2018000001</td>\n",
       "      <td>2018000001</td>\n",
       "      <td>...</td>\n",
       "      <td>NaN</td>\n",
       "      <td>NaN</td>\n",
       "      <td>NaN</td>\n",
       "      <td>NaN</td>\n",
       "      <td>NaN</td>\n",
       "      <td>NaN</td>\n",
       "      <td>NaN</td>\n",
       "      <td>NaN</td>\n",
       "      <td>NaN</td>\n",
       "      <td>2.0</td>\n",
       "    </tr>\n",
       "    <tr>\n",
       "      <th>1</th>\n",
       "      <td>2</td>\n",
       "      <td>1</td>\n",
       "      <td>1</td>\n",
       "      <td>1122018</td>\n",
       "      <td>1</td>\n",
       "      <td>12</td>\n",
       "      <td>2018</td>\n",
       "      <td>1100</td>\n",
       "      <td>2018000002</td>\n",
       "      <td>2018000002</td>\n",
       "      <td>...</td>\n",
       "      <td>NaN</td>\n",
       "      <td>1.0</td>\n",
       "      <td>NaN</td>\n",
       "      <td>NaN</td>\n",
       "      <td>NaN</td>\n",
       "      <td>NaN</td>\n",
       "      <td>NaN</td>\n",
       "      <td>NaN</td>\n",
       "      <td>NaN</td>\n",
       "      <td>2.0</td>\n",
       "    </tr>\n",
       "    <tr>\n",
       "      <th>2</th>\n",
       "      <td>3</td>\n",
       "      <td>1</td>\n",
       "      <td>1</td>\n",
       "      <td>1082018</td>\n",
       "      <td>1</td>\n",
       "      <td>8</td>\n",
       "      <td>2018</td>\n",
       "      <td>1100</td>\n",
       "      <td>2018000003</td>\n",
       "      <td>2018000003</td>\n",
       "      <td>...</td>\n",
       "      <td>NaN</td>\n",
       "      <td>NaN</td>\n",
       "      <td>NaN</td>\n",
       "      <td>NaN</td>\n",
       "      <td>NaN</td>\n",
       "      <td>NaN</td>\n",
       "      <td>NaN</td>\n",
       "      <td>NaN</td>\n",
       "      <td>NaN</td>\n",
       "      <td>2.0</td>\n",
       "    </tr>\n",
       "    <tr>\n",
       "      <th>3</th>\n",
       "      <td>4</td>\n",
       "      <td>1</td>\n",
       "      <td>1</td>\n",
       "      <td>1032018</td>\n",
       "      <td>1</td>\n",
       "      <td>3</td>\n",
       "      <td>2018</td>\n",
       "      <td>1100</td>\n",
       "      <td>2018000004</td>\n",
       "      <td>2018000004</td>\n",
       "      <td>...</td>\n",
       "      <td>NaN</td>\n",
       "      <td>NaN</td>\n",
       "      <td>2.0</td>\n",
       "      <td>2.0</td>\n",
       "      <td>2.0</td>\n",
       "      <td>2.0</td>\n",
       "      <td>2.0</td>\n",
       "      <td>2.0</td>\n",
       "      <td>2.0</td>\n",
       "      <td>2.0</td>\n",
       "    </tr>\n",
       "    <tr>\n",
       "      <th>4</th>\n",
       "      <td>5</td>\n",
       "      <td>1</td>\n",
       "      <td>1</td>\n",
       "      <td>1122018</td>\n",
       "      <td>1</td>\n",
       "      <td>12</td>\n",
       "      <td>2018</td>\n",
       "      <td>1100</td>\n",
       "      <td>2018000005</td>\n",
       "      <td>2018000005</td>\n",
       "      <td>...</td>\n",
       "      <td>NaN</td>\n",
       "      <td>NaN</td>\n",
       "      <td>NaN</td>\n",
       "      <td>NaN</td>\n",
       "      <td>NaN</td>\n",
       "      <td>NaN</td>\n",
       "      <td>NaN</td>\n",
       "      <td>NaN</td>\n",
       "      <td>NaN</td>\n",
       "      <td>2.0</td>\n",
       "    </tr>\n",
       "  </tbody>\n",
       "</table>\n",
       "<p>5 rows × 276 columns</p>\n",
       "</div>"
      ],
      "text/plain": [
       "   Unnamed: 0  _STATE  FMONTH    IDATE  IMONTH  IDAY  IYEAR  DISPCODE  \\\n",
       "0           1       1       1  1052018       1     5   2018      1100   \n",
       "1           2       1       1  1122018       1    12   2018      1100   \n",
       "2           3       1       1  1082018       1     8   2018      1100   \n",
       "3           4       1       1  1032018       1     3   2018      1100   \n",
       "4           5       1       1  1122018       1    12   2018      1100   \n",
       "\n",
       "        SEQNO        _PSU  ...  _MAM5022  _RFPAP34  _RFPSA22  _RFBLDS3  \\\n",
       "0  2018000001  2018000001  ...       NaN       NaN       NaN       NaN   \n",
       "1  2018000002  2018000002  ...       NaN       1.0       NaN       NaN   \n",
       "2  2018000003  2018000003  ...       NaN       NaN       NaN       NaN   \n",
       "3  2018000004  2018000004  ...       NaN       NaN       2.0       2.0   \n",
       "4  2018000005  2018000005  ...       NaN       NaN       NaN       NaN   \n",
       "\n",
       "   _COL10YR  _HFOB3YR  _FS5YR  _FOBTFS  _CRCREC  _AIDTST3  \n",
       "0       NaN       NaN     NaN      NaN      NaN       2.0  \n",
       "1       NaN       NaN     NaN      NaN      NaN       2.0  \n",
       "2       NaN       NaN     NaN      NaN      NaN       2.0  \n",
       "3       2.0       2.0     2.0      2.0      2.0       2.0  \n",
       "4       NaN       NaN     NaN      NaN      NaN       2.0  \n",
       "\n",
       "[5 rows x 276 columns]"
      ]
     },
     "execution_count": 59,
     "metadata": {},
     "output_type": "execute_result"
>>>>>>> 3e90a1679471ee37c05cdadf35aa823e19a4e519
    }
   ],
   "source": [
    "raw_data_2018 = pd.read_csv('Data/2018_Data.csv', low_memory=False)\n",
<<<<<<< HEAD
    "raw_data_2018.info()"
=======
    "raw_data_2018.head()"
>>>>>>> 3e90a1679471ee37c05cdadf35aa823e19a4e519
   ]
  },
  {
   "cell_type": "code",
<<<<<<< HEAD
   "execution_count": 31,
=======
   "execution_count": 60,
>>>>>>> 3e90a1679471ee37c05cdadf35aa823e19a4e519
   "id": "0070c4f8",
   "metadata": {},
   "outputs": [],
   "source": [
    "# URBSTAT REMOVED and HADSIGM3\n",
    "selected_data_2018  =  raw_data_2018[['_AGE_G'   , 'SEX1'     , 'HTM4'     , 'WTKG3'    , '_BMI5'    , 'MARITAL'  ,\n",
    "                                      '_INCOMG'  , '_EDUCAG' , 'GENHLTH'  , 'PHYSHLTH' , 'MENTHLTH' , 'SLEPTIM1' ,\n",
    "                                      '_SMOKER3' , '_MICHD'  , 'CVDSTRK3' , 'ADDEPEV2' , 'CHCKDNY1' , 'CHCOCNCR' ,\n",
    "                                      '_DRDXAR1' , 'CHECKUP1', 'PDIABTST' , '_TOTINDA' , 'DIABETE3' , '_RFDRHV6' ]]"
   ]
  },
  {
   "cell_type": "code",
<<<<<<< HEAD
   "execution_count": 32,
=======
   "execution_count": 61,
>>>>>>> 3e90a1679471ee37c05cdadf35aa823e19a4e519
   "id": "5296f566",
   "metadata": {},
   "outputs": [
    {
     "name": "stdout",
     "output_type": "stream",
     "text": [
      "<class 'pandas.core.frame.DataFrame'>\n",
      "Int64Index: 184118 entries, 0 to 437435\n",
      "Data columns (total 24 columns):\n",
      " #   Column    Non-Null Count   Dtype  \n",
      "---  ------    --------------   -----  \n",
      " 0   _AGE_G    184118 non-null  int64  \n",
      " 1   SEX1      184118 non-null  int64  \n",
      " 2   HTM4      184118 non-null  float64\n",
      " 3   WTKG3     184118 non-null  float64\n",
      " 4   _BMI5     184118 non-null  float64\n",
      " 5   MARITAL   184118 non-null  float64\n",
      " 6   _INCOMG   184118 non-null  int64  \n",
      " 7   _EDUCAG   184118 non-null  int64  \n",
      " 8   GENHLTH   184118 non-null  float64\n",
      " 9   PHYSHLTH  184118 non-null  float64\n",
      " 10  MENTHLTH  184118 non-null  float64\n",
      " 11  SLEPTIM1  184118 non-null  float64\n",
      " 12  _SMOKER3  184118 non-null  int64  \n",
      " 13  _MICHD    184118 non-null  float64\n",
      " 14  CVDSTRK3  184118 non-null  float64\n",
      " 15  ADDEPEV2  184118 non-null  float64\n",
      " 16  CHCKDNY1  184118 non-null  float64\n",
      " 17  CHCOCNCR  184118 non-null  float64\n",
      " 18  _DRDXAR1  184118 non-null  float64\n",
      " 19  CHECKUP1  184118 non-null  float64\n",
      " 20  PDIABTST  184118 non-null  float64\n",
      " 21  _TOTINDA  184118 non-null  int64  \n",
      " 22  DIABETE3  184118 non-null  float64\n",
      " 23  _RFDRHV6  184118 non-null  int64  \n",
      "dtypes: float64(17), int64(7)\n",
      "memory usage: 35.1 MB\n"
     ]
    }
   ],
   "source": [
    "selected_data_2018 = selected_data_2018.dropna()\n",
    "selected_data_2018.info()"
   ]
  },
  {
   "cell_type": "code",
<<<<<<< HEAD
   "execution_count": 33,
   "id": "768f76d0",
   "metadata": {},
   "outputs": [
    {
     "data": {
      "text/plain": [
       "[6, 2, 4, 5, 3, 1]\n",
       "Categories (6, int64): [1, 2, 3, 4, 5, 6]"
      ]
     },
     "execution_count": 33,
     "metadata": {},
     "output_type": "execute_result"
    }
   ],
   "source": [
    "selected_data_2018['_AGE_G'] = selected_data_2018['_AGE_G'].astype('category')\n",
    "selected_data_2018['_AGE_G'].unique()"
   ]
  },
  {
   "cell_type": "code",
   "execution_count": 34,
=======
   "execution_count": 62,
>>>>>>> 3e90a1679471ee37c05cdadf35aa823e19a4e519
   "id": "177578f8",
   "metadata": {},
   "outputs": [
    {
     "data": {
      "text/plain": [
       "[0, 1]\n",
       "Categories (2, int64): [0, 1]"
      ]
     },
<<<<<<< HEAD
     "execution_count": 34,
=======
     "execution_count": 62,
>>>>>>> 3e90a1679471ee37c05cdadf35aa823e19a4e519
     "metadata": {},
     "output_type": "execute_result"
    }
   ],
   "source": [
    "selected_data_2018['SEX1'] = selected_data_2018['SEX1'].replace({2:0})\n",
    "selected_data_2018 = selected_data_2018[selected_data_2018['SEX1'] != 9]\n",
    "selected_data_2018 = selected_data_2018[selected_data_2018['SEX1'] != 7]\n",
    "selected_data_2018['SEX1'] = selected_data_2018['SEX1'].astype('category')\n",
<<<<<<< HEAD
    "#selected_data_2016['SEX'] = selected_data_2016['SEX1'].cat.rename_categories({\"Female\":\"F\"})\n",
=======
    "#selected_data_2017['SEX'] = selected_data_2017['SEX1'].cat.rename_categories({\"Female\":\"F\"})\n",
>>>>>>> 3e90a1679471ee37c05cdadf35aa823e19a4e519
    "selected_data_2018['SEX1'].unique()"
   ]
  },
  {
   "cell_type": "code",
<<<<<<< HEAD
   "execution_count": 35,
=======
   "execution_count": 63,
>>>>>>> 3e90a1679471ee37c05cdadf35aa823e19a4e519
   "id": "1851a67b",
   "metadata": {},
   "outputs": [
    {
     "data": {
      "text/plain": [
<<<<<<< HEAD
       "array([163., 165., 178., 157., 160., 183., 180., 168., 185., 170., 175.,\n",
       "       173., 188., 152., 147., 155., 191., 142., 201., 150., 193., 196.,\n",
       "       132., 145., 203., 137., 198., 211., 216., 206., 208., 130., 140.,\n",
       "       156., 135., 154., 176., 105., 162., 218., 159., 179., 104., 172.,\n",
       "       177., 124., 122., 192., 164., 161., 186., 181., 167., 108., 111.,\n",
       "       127.,  91., 213., 184., 107., 119., 166., 187., 114., 174., 110.,\n",
       "       158., 153., 149., 169., 190., 221., 151., 189., 205., 148., 226.,\n",
       "       146., 241., 182., 100., 171., 120., 234., 106., 125., 102., 229.,\n",
       "       236., 136., 103., 109., 128.,  94.])"
      ]
     },
     "execution_count": 35,
=======
       "array([1.63, 1.65, 1.78, 1.57, 1.6 , 1.83, 1.8 , 1.68, 1.85, 1.7 , 1.75,\n",
       "       1.73, 1.88, 1.52, 1.47, 1.55, 1.91, 1.42, 2.01, 1.5 , 1.93, 1.96,\n",
       "       1.32, 1.45, 2.03, 1.37, 1.98, 2.11, 2.16, 2.06, 2.08, 1.3 , 1.4 ,\n",
       "       1.56, 1.35, 1.54, 1.76, 1.05, 1.62, 2.18, 1.59, 1.79, 1.04, 1.72,\n",
       "       1.77, 1.24, 1.22, 1.92, 1.64, 1.61, 1.86, 1.81, 1.67, 1.08, 1.11,\n",
       "       1.27, 0.91, 2.13, 1.84, 1.07, 1.19, 1.66, 1.87, 1.14, 1.74, 1.1 ,\n",
       "       1.58, 1.53, 1.49, 1.69, 1.9 , 2.21, 1.51, 1.89, 2.05, 1.48, 2.26,\n",
       "       1.46, 2.41, 1.82, 1.  , 1.71, 1.2 , 2.34, 1.06, 1.25, 1.02, 2.29,\n",
       "       2.36, 1.36, 1.03, 1.09, 1.28, 0.94])"
      ]
     },
     "execution_count": 63,
>>>>>>> 3e90a1679471ee37c05cdadf35aa823e19a4e519
     "metadata": {},
     "output_type": "execute_result"
    }
   ],
   "source": [
<<<<<<< HEAD
=======
    "selected_data_2018['HTM4'] = selected_data_2018['HTM4'].div(100)\n",
>>>>>>> 3e90a1679471ee37c05cdadf35aa823e19a4e519
    "selected_data_2018['HTM4'].unique()"
   ]
  },
  {
   "cell_type": "code",
<<<<<<< HEAD
   "execution_count": 36,
=======
   "execution_count": 64,
>>>>>>> 3e90a1679471ee37c05cdadf35aa823e19a4e519
   "id": "f78be8af",
   "metadata": {},
   "outputs": [
    {
     "data": {
      "text/plain": [
       "array([ 59.,  91.,  86.,  78.,  68.,  90.,  77.,  73., 129.,  98., 113.,\n",
       "        70.,  63., 109.,  84.,  75.,  54.,  82.,  58.,  67.,  66., 131.,\n",
       "        69., 136.,  76., 125.,  80.,  57.,  64.,  79.,  93.,  61.,  72.,\n",
       "       105.,  85., 102.,  95.,  83., 100., 104.,  37., 108.,  88.,  94.,\n",
       "       122.,  43.,  48.,  97.,  53., 106.,  74., 127.,  56.,  51., 115.,\n",
       "        39.,  71.,  92.,  50.,  45., 103.,  96.,  62., 132., 118.,  65.,\n",
       "        89., 159.,  52.,  60., 101.,  38.,  81.,  49., 150.,  99.,  87.,\n",
       "        55., 117., 120., 107., 141.,  44., 145.,  47., 124., 110., 134.,\n",
       "       111., 128., 154., 168., 227., 146.,  41., 143.,  40.,  42., 116.,\n",
       "       147., 126., 123., 119.,  46.,  36., 130., 157., 172., 181., 112.,\n",
       "       144., 114., 152., 197., 142., 138., 186., 149., 148., 193., 135.,\n",
       "       283., 175., 176.,  34., 173., 208., 163., 229., 204., 200., 155.,\n",
       "       166., 121., 151., 195., 170., 137., 167., 140., 133., 158., 220.,\n",
       "       139., 156., 190., 182., 188., 183., 177.,  35., 213., 249., 174.,\n",
       "       161., 277., 160., 179., 210.,  33., 169., 178., 240., 270., 153.,\n",
       "       219., 272., 259., 189., 226., 218., 209., 191., 164., 185.,  32.,\n",
       "       162., 230., 187., 203.,  27., 211., 201., 254., 236., 184., 273.,\n",
       "       261., 294.,  31., 252., 215.,  30., 263., 192., 165., 268., 238.,\n",
       "       232., 228.,  29., 250., 202., 171., 180.])"
      ]
     },
<<<<<<< HEAD
     "execution_count": 36,
=======
     "execution_count": 64,
>>>>>>> 3e90a1679471ee37c05cdadf35aa823e19a4e519
     "metadata": {},
     "output_type": "execute_result"
    }
   ],
   "source": [
    "selected_data_2018['WTKG3'] = selected_data_2018['WTKG3'].div(100).round(0)\n",
    "selected_data_2018['WTKG3'].unique()"
   ]
  },
  {
   "cell_type": "code",
<<<<<<< HEAD
   "execution_count": 37,
=======
   "execution_count": 65,
>>>>>>> 3e90a1679471ee37c05cdadf35aa823e19a4e519
   "id": "a754247b",
   "metadata": {},
   "outputs": [
    {
     "data": {
      "text/plain": [
       "array([22., 33., 27., 31., 25., 30., 28., 40., 35., 24., 38., 21., 26.,\n",
       "       23., 48., 29., 37., 41., 34., 32., 15., 19., 39., 16., 18., 20.,\n",
       "       36., 17., 43., 53., 44., 42., 57., 47., 46., 45., 52., 49., 50.,\n",
       "       56., 54., 55., 14., 58., 77., 62., 65., 78., 63., 13., 59., 84.,\n",
       "       61., 60., 51., 81., 66., 70., 64., 68., 74., 69., 67., 94., 83.,\n",
       "       86., 90., 76., 79., 12., 92., 98., 75., 71., 72., 73., 87., 97.,\n",
       "       82., 96., 80., 99., 89., 95., 88.])"
      ]
     },
<<<<<<< HEAD
     "execution_count": 37,
=======
     "execution_count": 65,
>>>>>>> 3e90a1679471ee37c05cdadf35aa823e19a4e519
     "metadata": {},
     "output_type": "execute_result"
    }
   ],
   "source": [
    "selected_data_2018['_BMI5'] = selected_data_2018['_BMI5'].div(100).round(0)\n",
    "selected_data_2018['_BMI5'].unique()"
   ]
  },
  {
   "cell_type": "code",
<<<<<<< HEAD
   "execution_count": 38,
=======
   "execution_count": 66,
>>>>>>> 3e90a1679471ee37c05cdadf35aa823e19a4e519
   "id": "d549745e",
   "metadata": {
    "scrolled": true
   },
   "outputs": [
    {
<<<<<<< HEAD
=======
     "name": "stderr",
     "output_type": "stream",
     "text": [
      "C:\\Users\\Shan\\anaconda3\\lib\\site-packages\\pandas\\io\\formats\\format.py:1429: FutureWarning: Index.ravel returning ndarray is deprecated; in a future version this will return a view on self.\n",
      "  for val, m in zip(values.ravel(), mask.ravel())\n"
     ]
    },
    {
>>>>>>> 3e90a1679471ee37c05cdadf35aa823e19a4e519
     "data": {
      "text/plain": [
       "[3.0, 5.0, 2.0, 1.0, 4.0, 6.0]\n",
       "Categories (6, float64): [1.0, 2.0, 3.0, 4.0, 5.0, 6.0]"
      ]
     },
<<<<<<< HEAD
     "execution_count": 38,
=======
     "execution_count": 66,
>>>>>>> 3e90a1679471ee37c05cdadf35aa823e19a4e519
     "metadata": {},
     "output_type": "execute_result"
    }
   ],
   "source": [
    "selected_data_2018 = selected_data_2018[selected_data_2018['MARITAL'] != 9]\n",
    "selected_data_2018['MARITAL'] = selected_data_2018['MARITAL'].astype('category')\n",
    "selected_data_2018['MARITAL'].unique()"
   ]
  },
  {
   "cell_type": "code",
<<<<<<< HEAD
   "execution_count": 39,
=======
   "execution_count": 67,
>>>>>>> 3e90a1679471ee37c05cdadf35aa823e19a4e519
   "id": "79f10290",
   "metadata": {},
   "outputs": [
    {
     "data": {
      "text/plain": [
       "[4, 2, 5, 3, 1]\n",
       "Categories (5, int64): [1, 2, 3, 4, 5]"
      ]
     },
<<<<<<< HEAD
     "execution_count": 39,
=======
     "execution_count": 67,
>>>>>>> 3e90a1679471ee37c05cdadf35aa823e19a4e519
     "metadata": {},
     "output_type": "execute_result"
    }
   ],
   "source": [
    "selected_data_2018 = selected_data_2018[selected_data_2018['_INCOMG'] != 9]\n",
    "selected_data_2018['_INCOMG'] = selected_data_2018['_INCOMG'].astype('category')\n",
    "selected_data_2018['_INCOMG'].unique()"
   ]
  },
  {
   "cell_type": "code",
<<<<<<< HEAD
   "execution_count": 40,
=======
   "execution_count": 68,
>>>>>>> 3e90a1679471ee37c05cdadf35aa823e19a4e519
   "id": "64f260b8",
   "metadata": {},
   "outputs": [
    {
     "data": {
      "text/plain": [
       "[4, 2, 3, 1]\n",
       "Categories (4, int64): [1, 2, 3, 4]"
      ]
     },
<<<<<<< HEAD
     "execution_count": 40,
=======
     "execution_count": 68,
>>>>>>> 3e90a1679471ee37c05cdadf35aa823e19a4e519
     "metadata": {},
     "output_type": "execute_result"
    }
   ],
   "source": [
    "selected_data_2018 = selected_data_2018[selected_data_2018['_EDUCAG'] != 9]\n",
    "selected_data_2018['_EDUCAG'] = selected_data_2018['_EDUCAG'].astype('category')\n",
    "selected_data_2018['_EDUCAG'].unique()"
   ]
  },
  {
   "cell_type": "code",
<<<<<<< HEAD
   "execution_count": 41,
=======
   "execution_count": 69,
>>>>>>> 3e90a1679471ee37c05cdadf35aa823e19a4e519
   "id": "a39d0561",
   "metadata": {},
   "outputs": [
    {
     "data": {
      "text/plain": [
       "[2.0, 3.0, 1.0, 5.0, 4.0]\n",
       "Categories (5, float64): [1.0, 2.0, 3.0, 4.0, 5.0]"
      ]
     },
<<<<<<< HEAD
     "execution_count": 41,
=======
     "execution_count": 69,
>>>>>>> 3e90a1679471ee37c05cdadf35aa823e19a4e519
     "metadata": {},
     "output_type": "execute_result"
    }
   ],
   "source": [
    "selected_data_2018 = selected_data_2018[selected_data_2018['GENHLTH'] != 7]\n",
    "selected_data_2018 = selected_data_2018[selected_data_2018['GENHLTH'] != 9]\n",
    "selected_data_2018['GENHLTH'] = selected_data_2018['GENHLTH'].astype('category')\n",
    "selected_data_2018['GENHLTH'].unique()"
   ]
  },
  {
   "cell_type": "code",
<<<<<<< HEAD
   "execution_count": 42,
=======
   "execution_count": 70,
>>>>>>> 3e90a1679471ee37c05cdadf35aa823e19a4e519
   "id": "46b9b024",
   "metadata": {},
   "outputs": [
    {
     "data": {
      "text/plain": [
       "array([ 0.,  2.,  1., 30., 10., 20.,  3., 15.,  4., 28., 21.,  7.,  5.,\n",
       "       25., 14.,  6.,  8., 12., 11.,  9., 16., 27., 18., 19., 13., 29.,\n",
       "       26., 22., 17., 23., 24.])"
      ]
     },
<<<<<<< HEAD
     "execution_count": 42,
=======
     "execution_count": 70,
>>>>>>> 3e90a1679471ee37c05cdadf35aa823e19a4e519
     "metadata": {},
     "output_type": "execute_result"
    }
   ],
   "source": [
    "selected_data_2018['MENTHLTH'] = selected_data_2018['MENTHLTH'].replace({88:0})\n",
    "selected_data_2018 = selected_data_2018[selected_data_2018['MENTHLTH'] != 77]\n",
    "selected_data_2018 = selected_data_2018[selected_data_2018['MENTHLTH'] != 99]\n",
    "selected_data_2018['MENTHLTH'].unique()"
   ]
  },
  {
   "cell_type": "code",
<<<<<<< HEAD
   "execution_count": 43,
=======
   "execution_count": 71,
>>>>>>> 3e90a1679471ee37c05cdadf35aa823e19a4e519
   "id": "a1b65bac",
   "metadata": {},
   "outputs": [
    {
     "data": {
      "text/plain": [
       "array([30.,  0.,  5.,  7.,  2.,  3., 10.,  1., 20., 14.,  4., 15., 17.,\n",
       "       25., 29., 18.,  6.,  8.,  9., 12., 21., 24., 28., 23., 11., 13.,\n",
       "       16., 26., 22., 27., 19.])"
      ]
     },
<<<<<<< HEAD
     "execution_count": 43,
=======
     "execution_count": 71,
>>>>>>> 3e90a1679471ee37c05cdadf35aa823e19a4e519
     "metadata": {},
     "output_type": "execute_result"
    }
   ],
   "source": [
    "selected_data_2018['PHYSHLTH'] = selected_data_2018['PHYSHLTH'].replace({88:0})\n",
    "selected_data_2018 = selected_data_2018[selected_data_2018['PHYSHLTH'] != 77]\n",
    "selected_data_2018 = selected_data_2018[selected_data_2018['PHYSHLTH'] != 99]\n",
    "selected_data_2018['PHYSHLTH'].unique()"
   ]
  },
  {
   "cell_type": "code",
<<<<<<< HEAD
   "execution_count": 44,
=======
   "execution_count": 72,
>>>>>>> 3e90a1679471ee37c05cdadf35aa823e19a4e519
   "id": "fa999f97",
   "metadata": {},
   "outputs": [
    {
     "data": {
      "text/plain": [
       "array([ 7.,  5.,  6.,  8., 10.,  9., 12.,  4., 14., 18.,  3., 15., 11.,\n",
       "        1., 20., 16., 13.,  2., 21., 23., 17., 24., 19., 22.])"
      ]
     },
<<<<<<< HEAD
     "execution_count": 44,
=======
     "execution_count": 72,
>>>>>>> 3e90a1679471ee37c05cdadf35aa823e19a4e519
     "metadata": {},
     "output_type": "execute_result"
    }
   ],
   "source": [
    "selected_data_2018 = selected_data_2018[selected_data_2018['SLEPTIM1'] != 77]\n",
    "selected_data_2018 = selected_data_2018[selected_data_2018['SLEPTIM1'] != 99]\n",
    "selected_data_2018['SLEPTIM1'].unique()"
   ]
  },
  {
   "cell_type": "code",
<<<<<<< HEAD
   "execution_count": 45,
=======
   "execution_count": 73,
>>>>>>> 3e90a1679471ee37c05cdadf35aa823e19a4e519
   "id": "1ffc4cbf",
   "metadata": {},
   "outputs": [
    {
     "data": {
      "text/plain": [
       "[0.0, 1.0]\n",
       "Categories (2, float64): [0.0, 1.0]"
      ]
     },
<<<<<<< HEAD
     "execution_count": 45,
=======
     "execution_count": 73,
>>>>>>> 3e90a1679471ee37c05cdadf35aa823e19a4e519
     "metadata": {},
     "output_type": "execute_result"
    }
   ],
   "source": [
    "selected_data_2018['_MICHD'] = selected_data_2018['_MICHD'].replace({2:0})\n",
    "selected_data_2018['_MICHD'] = selected_data_2018['_MICHD'].astype('category')\n",
    "selected_data_2018['_MICHD'].unique()"
   ]
  },
  {
   "cell_type": "code",
<<<<<<< HEAD
   "execution_count": 46,
=======
   "execution_count": 74,
>>>>>>> 3e90a1679471ee37c05cdadf35aa823e19a4e519
   "id": "455dde17",
   "metadata": {},
   "outputs": [
    {
     "data": {
      "text/plain": [
       "[0.0, 1.0]\n",
       "Categories (2, float64): [0.0, 1.0]"
      ]
     },
<<<<<<< HEAD
     "execution_count": 46,
     "metadata": {},
     "output_type": "execute_result"
    }
   ],
   "source": [
    "selected_data_2018['CVDSTRK3'] = selected_data_2018['CVDSTRK3'].replace({2:0})\n",
    "selected_data_2018 = selected_data_2018[selected_data_2018['CVDSTRK3'] != 7]\n",
    "selected_data_2018 = selected_data_2018[selected_data_2018['CVDSTRK3'] != 9]\n",
    "selected_data_2018['CVDSTRK3'] = selected_data_2018['CVDSTRK3'].astype('category')\n",
    "selected_data_2018['CVDSTRK3'].unique()"
   ]
  },
  {
   "cell_type": "code",
   "execution_count": 47,
   "id": "a71454b1",
   "metadata": {},
   "outputs": [
    {
     "data": {
      "text/plain": [
       "[0.0, 1.0]\n",
       "Categories (2, float64): [0.0, 1.0]"
      ]
     },
     "execution_count": 47,
     "metadata": {},
     "output_type": "execute_result"
    }
   ],
   "source": [
    "selected_data_2018['ADDEPEV2'] = selected_data_2018['ADDEPEV2'].replace({2:0})\n",
    "selected_data_2018 = selected_data_2018[selected_data_2018['ADDEPEV2'] != 7]\n",
    "selected_data_2018 = selected_data_2018[selected_data_2018['ADDEPEV2'] != 9]\n",
    "selected_data_2018['ADDEPEV2'] = selected_data_2018['ADDEPEV2'].astype('category')\n",
    "selected_data_2018['ADDEPEV2'].unique()"
   ]
  },
  {
   "cell_type": "code",
   "execution_count": 48,
   "id": "33726f8e",
   "metadata": {},
   "outputs": [
    {
     "data": {
      "text/plain": [
       "[0.0, 1.0]\n",
       "Categories (2, float64): [0.0, 1.0]"
      ]
     },
     "execution_count": 48,
     "metadata": {},
     "output_type": "execute_result"
    }
   ],
   "source": [
    "selected_data_2018['CHCKDNY1'] = selected_data_2018['CHCKDNY1'].replace({2:0})\n",
    "selected_data_2018 = selected_data_2018[selected_data_2018['CHCKDNY1'] != 7]\n",
    "selected_data_2018 = selected_data_2018[selected_data_2018['CHCKDNY1'] != 9]\n",
    "selected_data_2018['CHCKDNY1'] = selected_data_2018['CHCKDNY1'].astype('category')\n",
    "selected_data_2018['CHCKDNY1'].unique()"
   ]
  },
  {
   "cell_type": "code",
   "execution_count": 49,
   "id": "9f90c072",
   "metadata": {},
   "outputs": [
    {
     "data": {
      "text/plain": [
       "[0.0, 1.0]\n",
       "Categories (2, float64): [0.0, 1.0]"
      ]
     },
     "execution_count": 49,
     "metadata": {},
     "output_type": "execute_result"
    }
   ],
   "source": [
    "selected_data_2018['DIABETE3'] = selected_data_2018['DIABETE3'].replace({2:0, 3:0, 1:1, 4:1})\n",
    "selected_data_2018 = selected_data_2018[selected_data_2018['DIABETE3'] != 7]\n",
    "selected_data_2018 = selected_data_2018[selected_data_2018['DIABETE3'] != 9]\n",
    "selected_data_2018['DIABETE3'] = selected_data_2018['DIABETE3'].astype('category')\n",
    "selected_data_2018['DIABETE3'].unique()"
   ]
  },
  {
   "cell_type": "code",
   "execution_count": 50,
   "id": "4ed26fab",
   "metadata": {},
   "outputs": [
    {
     "data": {
      "text/plain": [
       "[1.0, 0.0]\n",
       "Categories (2, float64): [0.0, 1.0]"
      ]
     },
     "execution_count": 50,
     "metadata": {},
     "output_type": "execute_result"
    }
   ],
   "source": [
    "selected_data_2018['_DRDXAR1'] = selected_data_2018['_DRDXAR1'].replace({2:0})\n",
    "selected_data_2018['_DRDXAR1'] = selected_data_2018['_DRDXAR1'].astype('category')\n",
    "selected_data_2018['_DRDXAR1'].unique()"
   ]
  },
  {
   "cell_type": "code",
   "execution_count": 51,
   "id": "0d2aeea5",
   "metadata": {},
   "outputs": [
    {
     "data": {
      "text/plain": [
       "[1.0, 2.0, 3.0, 4.0]\n",
       "Categories (4, float64): [1.0, 2.0, 3.0, 4.0]"
      ]
     },
     "execution_count": 51,
     "metadata": {},
     "output_type": "execute_result"
    }
   ],
   "source": [
    "selected_data_2018  = selected_data_2018[selected_data_2018['CHECKUP1'] != 7]\n",
    "selected_data_2018  = selected_data_2018[selected_data_2018['CHECKUP1'] != 8]\n",
    "selected_data_2018  = selected_data_2018[selected_data_2018['CHECKUP1'] != 9]\n",
    "selected_data_2018['CHECKUP1'] = selected_data_2018['CHECKUP1'].astype('category')\n",
    "selected_data_2018['CHECKUP1'].unique()"
   ]
  },
  {
   "cell_type": "code",
   "execution_count": 52,
   "id": "dc92f9f8",
   "metadata": {},
   "outputs": [
    {
     "data": {
      "text/plain": [
       "[1.0, 0.0]\n",
       "Categories (2, float64): [0.0, 1.0]"
      ]
     },
     "execution_count": 52,
     "metadata": {},
     "output_type": "execute_result"
    }
   ],
   "source": [
    "selected_data_2018['PDIABTST'] = selected_data_2018['PDIABTST'].replace({2:0})\n",
    "selected_data_2018 = selected_data_2018[selected_data_2018['PDIABTST'] != 7]\n",
    "selected_data_2018 = selected_data_2018[selected_data_2018['PDIABTST'] != 9]\n",
    "selected_data_2018['PDIABTST'] = selected_data_2018['PDIABTST'].astype('category')\n",
    "selected_data_2018.PDIABTST.unique()"
   ]
  },
  {
   "cell_type": "code",
   "execution_count": 53,
   "id": "9c1bcc2b",
   "metadata": {},
   "outputs": [
    {
     "data": {
      "text/plain": [
       "[0, 1]\n",
       "Categories (2, int64): [0, 1]"
      ]
     },
     "execution_count": 53,
     "metadata": {},
     "output_type": "execute_result"
    }
   ],
   "source": [
    "selected_data_2018['_TOTINDA'] = selected_data_2018['_TOTINDA'].replace({2:0})\n",
    "selected_data_2018 = selected_data_2018[selected_data_2018['_TOTINDA'] != 9]\n",
    "selected_data_2018['_TOTINDA'] = selected_data_2018['_TOTINDA'].astype('category')\n",
    "selected_data_2018['_TOTINDA'].unique()"
   ]
  },
  {
   "cell_type": "code",
   "execution_count": 54,
   "id": "cd099e81",
   "metadata": {},
   "outputs": [
    {
     "data": {
      "text/plain": [
       "[4, 1, 3, 2]\n",
       "Categories (4, int64): [1, 2, 3, 4]"
      ]
     },
     "execution_count": 54,
     "metadata": {},
     "output_type": "execute_result"
    }
   ],
   "source": [
    "selected_data_2018 = selected_data_2018[selected_data_2018['_SMOKER3'] != 9]\n",
    "selected_data_2018['_SMOKER3'] = selected_data_2018['_SMOKER3'].astype('category')\n",
    "selected_data_2018['_SMOKER3'].unique()"
   ]
  },
  {
   "cell_type": "code",
   "execution_count": 55,
   "id": "128ce271",
   "metadata": {},
   "outputs": [
    {
     "data": {
      "text/plain": [
       "[1, 0]\n",
       "Categories (2, int64): [0, 1]"
      ]
     },
     "execution_count": 55,
     "metadata": {},
     "output_type": "execute_result"
    }
   ],
   "source": [
    "selected_data_2018['_RFDRHV6'] = selected_data_2018['_RFDRHV6'].replace({2:0})\n",
    "selected_data_2018 = selected_data_2018[selected_data_2018['_RFDRHV6'] != 9]\n",
    "selected_data_2018['_RFDRHV6'] = selected_data_2018['_RFDRHV6'].astype('category')\n",
    "selected_data_2018['_RFDRHV6'].unique()"
   ]
  },
  {
   "cell_type": "code",
   "execution_count": 56,
   "id": "5711ef25",
   "metadata": {},
   "outputs": [
    {
     "data": {
      "text/plain": [
       "[0.0, 1.0]\n",
       "Categories (2, float64): [0.0, 1.0]"
      ]
     },
     "execution_count": 56,
     "metadata": {},
     "output_type": "execute_result"
    }
   ],
   "source": [
    "selected_data_2018['CHCOCNCR'] = selected_data_2018['CHCOCNCR'].replace({2:0})\n",
    "selected_data_2018 = selected_data_2018[selected_data_2018['CHCOCNCR'] != 7]\n",
    "selected_data_2018 = selected_data_2018[selected_data_2018['CHCOCNCR'] != 9]\n",
    "selected_data_2018['CHCOCNCR'] = selected_data_2018['CHCOCNCR'].astype('category')\n",
    "selected_data_2018['CHCOCNCR'].unique()"
   ]
  },
  {
   "cell_type": "code",
   "execution_count": 57,
   "id": "3ff6c449",
   "metadata": {
    "scrolled": false
   },
   "outputs": [
    {
     "name": "stdout",
     "output_type": "stream",
     "text": [
      "<class 'pandas.core.frame.DataFrame'>\n",
      "Int64Index: 137399 entries, 0 to 437435\n",
      "Data columns (total 24 columns):\n",
      " #   Column    Non-Null Count   Dtype   \n",
      "---  ------    --------------   -----   \n",
      " 0   _AGE_G    137399 non-null  category\n",
      " 1   SEX1      137399 non-null  category\n",
      " 2   HTM4      137399 non-null  float64 \n",
      " 3   WTKG3     137399 non-null  float64 \n",
      " 4   _BMI5     137399 non-null  float64 \n",
      " 5   MARITAL   137399 non-null  category\n",
      " 6   _INCOMG   137399 non-null  category\n",
      " 7   _EDUCAG   137399 non-null  category\n",
      " 8   GENHLTH   137399 non-null  category\n",
      " 9   PHYSHLTH  137399 non-null  float64 \n",
      " 10  MENTHLTH  137399 non-null  float64 \n",
      " 11  SLEPTIM1  137399 non-null  float64 \n",
      " 12  _SMOKER3  137399 non-null  category\n",
      " 13  _MICHD    137399 non-null  category\n",
      " 14  CVDSTRK3  137399 non-null  category\n",
      " 15  ADDEPEV2  137399 non-null  category\n",
      " 16  CHCKDNY1  137399 non-null  category\n",
      " 17  CHCOCNCR  137399 non-null  category\n",
      " 18  _DRDXAR1  137399 non-null  category\n",
      " 19  CHECKUP1  137399 non-null  category\n",
      " 20  PDIABTST  137399 non-null  category\n",
      " 21  _TOTINDA  137399 non-null  category\n",
      " 22  DIABETE3  137399 non-null  category\n",
      " 23  _RFDRHV6  137399 non-null  category\n",
      "dtypes: category(18), float64(6)\n",
      "memory usage: 9.7 MB\n"
     ]
    }
   ],
   "source": [
    "selected_data_2018.info()"
   ]
  },
  {
   "cell_type": "markdown",
   "id": "e8e63df9",
   "metadata": {},
   "source": [
    "### Cleaning the 2020 Dataset"
   ]
  },
  {
   "cell_type": "code",
   "execution_count": 58,
   "id": "f5bbafa1",
   "metadata": {
    "id": "7943d8d3",
    "scrolled": true
   },
   "outputs": [
    {
     "data": {
      "text/html": [
       "<div>\n",
       "<style scoped>\n",
       "    .dataframe tbody tr th:only-of-type {\n",
       "        vertical-align: middle;\n",
       "    }\n",
       "\n",
       "    .dataframe tbody tr th {\n",
       "        vertical-align: top;\n",
       "    }\n",
       "\n",
       "    .dataframe thead th {\n",
       "        text-align: right;\n",
       "    }\n",
       "</style>\n",
       "<table border=\"1\" class=\"dataframe\">\n",
       "  <thead>\n",
       "    <tr style=\"text-align: right;\">\n",
       "      <th></th>\n",
       "      <th>X_STATE</th>\n",
       "      <th>FMONTH</th>\n",
       "      <th>IDATE</th>\n",
       "      <th>IMONTH</th>\n",
       "      <th>IDAY</th>\n",
       "      <th>IYEAR</th>\n",
       "      <th>DISPCODE</th>\n",
       "      <th>SEQNO</th>\n",
       "      <th>X_PSU</th>\n",
       "      <th>CTELENM1</th>\n",
       "      <th>...</th>\n",
       "      <th>X_RFPSA23</th>\n",
       "      <th>X_CLNSCPY</th>\n",
       "      <th>X_SGMSCPY</th>\n",
       "      <th>X_SGMS10Y</th>\n",
       "      <th>X_RFBLDS4</th>\n",
       "      <th>X_STOLDNA</th>\n",
       "      <th>X_VIRCOLN</th>\n",
       "      <th>X_SBONTIM</th>\n",
       "      <th>X_CRCREC1</th>\n",
       "      <th>X_AIDTST4</th>\n",
       "    </tr>\n",
       "  </thead>\n",
       "  <tbody>\n",
       "    <tr>\n",
       "      <th>1</th>\n",
       "      <td>1</td>\n",
       "      <td>1</td>\n",
       "      <td>1042020</td>\n",
       "      <td>1</td>\n",
       "      <td>4</td>\n",
       "      <td>2020</td>\n",
       "      <td>1100</td>\n",
       "      <td>2020000001</td>\n",
       "      <td>2020000001</td>\n",
       "      <td>1.0</td>\n",
       "      <td>...</td>\n",
       "      <td>NaN</td>\n",
       "      <td>1.0</td>\n",
       "      <td>3.0</td>\n",
       "      <td>3.0</td>\n",
       "      <td>3.0</td>\n",
       "      <td>3.0</td>\n",
       "      <td>3.0</td>\n",
       "      <td>3.0</td>\n",
       "      <td>1.0</td>\n",
       "      <td>1.0</td>\n",
       "    </tr>\n",
       "    <tr>\n",
       "      <th>2</th>\n",
       "      <td>1</td>\n",
       "      <td>1</td>\n",
       "      <td>2072020</td>\n",
       "      <td>2</td>\n",
       "      <td>7</td>\n",
       "      <td>2020</td>\n",
       "      <td>1200</td>\n",
       "      <td>2020000002</td>\n",
       "      <td>2020000002</td>\n",
       "      <td>1.0</td>\n",
       "      <td>...</td>\n",
       "      <td>NaN</td>\n",
       "      <td>NaN</td>\n",
       "      <td>NaN</td>\n",
       "      <td>NaN</td>\n",
       "      <td>NaN</td>\n",
       "      <td>NaN</td>\n",
       "      <td>NaN</td>\n",
       "      <td>2.0</td>\n",
       "      <td>NaN</td>\n",
       "      <td>NaN</td>\n",
       "    </tr>\n",
       "    <tr>\n",
       "      <th>3</th>\n",
       "      <td>1</td>\n",
       "      <td>1</td>\n",
       "      <td>1232020</td>\n",
       "      <td>1</td>\n",
       "      <td>23</td>\n",
       "      <td>2020</td>\n",
       "      <td>1100</td>\n",
       "      <td>2020000003</td>\n",
       "      <td>2020000003</td>\n",
       "      <td>1.0</td>\n",
       "      <td>...</td>\n",
       "      <td>NaN</td>\n",
       "      <td>1.0</td>\n",
       "      <td>3.0</td>\n",
       "      <td>3.0</td>\n",
       "      <td>3.0</td>\n",
       "      <td>3.0</td>\n",
       "      <td>3.0</td>\n",
       "      <td>3.0</td>\n",
       "      <td>1.0</td>\n",
       "      <td>2.0</td>\n",
       "    </tr>\n",
       "    <tr>\n",
       "      <th>4</th>\n",
       "      <td>1</td>\n",
       "      <td>1</td>\n",
       "      <td>1092020</td>\n",
       "      <td>1</td>\n",
       "      <td>9</td>\n",
       "      <td>2020</td>\n",
       "      <td>1100</td>\n",
       "      <td>2020000004</td>\n",
       "      <td>2020000004</td>\n",
       "      <td>1.0</td>\n",
       "      <td>...</td>\n",
       "      <td>NaN</td>\n",
       "      <td>NaN</td>\n",
       "      <td>NaN</td>\n",
       "      <td>NaN</td>\n",
       "      <td>NaN</td>\n",
       "      <td>NaN</td>\n",
       "      <td>NaN</td>\n",
       "      <td>NaN</td>\n",
       "      <td>NaN</td>\n",
       "      <td>2.0</td>\n",
       "    </tr>\n",
       "    <tr>\n",
       "      <th>5</th>\n",
       "      <td>1</td>\n",
       "      <td>1</td>\n",
       "      <td>1042020</td>\n",
       "      <td>1</td>\n",
       "      <td>4</td>\n",
       "      <td>2020</td>\n",
       "      <td>1100</td>\n",
       "      <td>2020000005</td>\n",
       "      <td>2020000005</td>\n",
       "      <td>1.0</td>\n",
       "      <td>...</td>\n",
       "      <td>NaN</td>\n",
       "      <td>NaN</td>\n",
       "      <td>NaN</td>\n",
       "      <td>NaN</td>\n",
       "      <td>NaN</td>\n",
       "      <td>NaN</td>\n",
       "      <td>NaN</td>\n",
       "      <td>NaN</td>\n",
       "      <td>NaN</td>\n",
       "      <td>9.0</td>\n",
       "    </tr>\n",
       "  </tbody>\n",
       "</table>\n",
       "<p>5 rows × 279 columns</p>\n",
       "</div>"
      ],
      "text/plain": [
       "   X_STATE  FMONTH    IDATE  IMONTH  IDAY  IYEAR  DISPCODE       SEQNO  \\\n",
       "1        1       1  1042020       1     4   2020      1100  2020000001   \n",
       "2        1       1  2072020       2     7   2020      1200  2020000002   \n",
       "3        1       1  1232020       1    23   2020      1100  2020000003   \n",
       "4        1       1  1092020       1     9   2020      1100  2020000004   \n",
       "5        1       1  1042020       1     4   2020      1100  2020000005   \n",
       "\n",
       "        X_PSU  CTELENM1  ...  X_RFPSA23  X_CLNSCPY  X_SGMSCPY  X_SGMS10Y  \\\n",
       "1  2020000001       1.0  ...        NaN        1.0        3.0        3.0   \n",
       "2  2020000002       1.0  ...        NaN        NaN        NaN        NaN   \n",
       "3  2020000003       1.0  ...        NaN        1.0        3.0        3.0   \n",
       "4  2020000004       1.0  ...        NaN        NaN        NaN        NaN   \n",
       "5  2020000005       1.0  ...        NaN        NaN        NaN        NaN   \n",
       "\n",
       "   X_RFBLDS4  X_STOLDNA  X_VIRCOLN  X_SBONTIM  X_CRCREC1  X_AIDTST4  \n",
       "1        3.0        3.0        3.0        3.0        1.0        1.0  \n",
       "2        NaN        NaN        NaN        2.0        NaN        NaN  \n",
       "3        3.0        3.0        3.0        3.0        1.0        2.0  \n",
       "4        NaN        NaN        NaN        NaN        NaN        2.0  \n",
       "5        NaN        NaN        NaN        NaN        NaN        9.0  \n",
       "\n",
       "[5 rows x 279 columns]"
      ]
     },
     "execution_count": 58,
     "metadata": {},
     "output_type": "execute_result"
    }
   ],
   "source": [
    "# Importing raw data in csv format\n",
    "raw_data_2020 = pd.read_csv('Data/2020_Data.csv', index_col = 0)\n",
    "raw_data_2020.head()"
   ]
  },
  {
   "cell_type": "code",
   "execution_count": 59,
   "id": "2bc35410",
   "metadata": {
    "id": "d66fabe3",
    "outputId": "acb29d3f-ce5b-41f8-b245-fb21a6a36b04"
   },
   "outputs": [
    {
     "name": "stdout",
     "output_type": "stream",
     "text": [
      "<class 'pandas.core.frame.DataFrame'>\n",
      "Int64Index: 401958 entries, 1 to 401958\n",
      "Columns: 279 entries, X_STATE to X_AIDTST4\n",
      "dtypes: float64(234), int64(45)\n",
      "memory usage: 858.7 MB\n"
     ]
    }
   ],
   "source": [
    "raw_data_2020.info()"
   ]
  },
  {
   "cell_type": "code",
   "execution_count": 60,
   "id": "51bcedda",
   "metadata": {
    "id": "7833f937"
   },
   "outputs": [],
   "source": [
    "# Data is filtered based on variables chosen\n",
    "selected_data_2020  =  raw_data_2020[['X_AGE_G'   , 'X_SEX'    , 'HTM4'      , 'WTKG3'    , 'X_BMI5'   , 'MARITAL' ,\n",
    "                                      'X_INCOMG'  , 'X_EDUCAG' , 'GENHLTH'   , 'PHYSHLTH' , 'MENTHLTH' , 'SLEPTIM1',\n",
    "                                      'X_SMOKER3' , 'X_MICHD'  , 'CVDSTRK3'  , 'ADDEPEV3' , 'CHCKDNY2' , 'CHCOCNCR',\n",
    "                                      'X_DRDXAR2' , 'CHECKUP1' , 'X_RFDRHV7' , 'PDIABTST' , 'X_TOTINDA', 'DIABETE4']]"
   ]
  },
  {
   "cell_type": "code",
   "execution_count": 61,
   "id": "1092c23c",
   "metadata": {
    "id": "565ffb15",
    "outputId": "1863fcb6-1361-4c9c-d892-9778661d48ba"
   },
   "outputs": [
    {
     "name": "stdout",
     "output_type": "stream",
     "text": [
      "<class 'pandas.core.frame.DataFrame'>\n",
      "Int64Index: 195322 entries, 2 to 401958\n",
      "Data columns (total 24 columns):\n",
      " #   Column     Non-Null Count   Dtype  \n",
      "---  ------     --------------   -----  \n",
      " 0   X_AGE_G    195322 non-null  int64  \n",
      " 1   X_SEX      195322 non-null  int64  \n",
      " 2   HTM4       195322 non-null  float64\n",
      " 3   WTKG3      195322 non-null  float64\n",
      " 4   X_BMI5     195322 non-null  float64\n",
      " 5   MARITAL    195322 non-null  float64\n",
      " 6   X_INCOMG   195322 non-null  int64  \n",
      " 7   X_EDUCAG   195322 non-null  int64  \n",
      " 8   GENHLTH    195322 non-null  float64\n",
      " 9   PHYSHLTH   195322 non-null  float64\n",
      " 10  MENTHLTH   195322 non-null  float64\n",
      " 11  SLEPTIM1   195322 non-null  float64\n",
      " 12  X_SMOKER3  195322 non-null  int64  \n",
      " 13  X_MICHD    195322 non-null  float64\n",
      " 14  CVDSTRK3   195322 non-null  float64\n",
      " 15  ADDEPEV3   195322 non-null  float64\n",
      " 16  CHCKDNY2   195322 non-null  float64\n",
      " 17  CHCOCNCR   195322 non-null  float64\n",
      " 18  X_DRDXAR2  195322 non-null  float64\n",
      " 19  CHECKUP1   195322 non-null  float64\n",
      " 20  X_RFDRHV7  195322 non-null  int64  \n",
      " 21  PDIABTST   195322 non-null  float64\n",
      " 22  X_TOTINDA  195322 non-null  int64  \n",
      " 23  DIABETE4   195322 non-null  float64\n",
      "dtypes: float64(17), int64(7)\n",
      "memory usage: 37.3 MB\n"
     ]
    }
   ],
   "source": [
    "# The rows that contains null values are removed\n",
    "selected_data_2020 = selected_data_2020.dropna()\n",
    "selected_data_2020.info()"
   ]
  },
  {
   "cell_type": "markdown",
   "id": "f7a49109",
   "metadata": {},
   "source": [
    "#### Cleaning each variable"
   ]
  },
  {
   "cell_type": "code",
   "execution_count": 62,
   "id": "50f9df52",
   "metadata": {
    "id": "080a4b11",
    "outputId": "ce91b212-6c38-49cc-f56f-566ed758d286"
   },
   "outputs": [
    {
     "data": {
      "text/plain": [
       "[6, 3, 5, 4, 1, 2]\n",
       "Categories (6, int64): [1, 2, 3, 4, 5, 6]"
      ]
     },
     "execution_count": 62,
     "metadata": {},
     "output_type": "execute_result"
    }
   ],
   "source": [
    "selected_data_2020['X_AGE_G'] = selected_data_2020['X_AGE_G'].astype('category')\n",
    "selected_data_2020['X_AGE_G'].unique()"
   ]
  },
  {
   "cell_type": "code",
   "execution_count": 63,
   "id": "69ec2322",
   "metadata": {
    "id": "7d08f4c2",
    "outputId": "d3713471-f898-4ee3-cc01-a2e42bf5f0d4"
   },
   "outputs": [
    {
     "data": {
      "text/plain": [
       "[0, 1]\n",
       "Categories (2, int64): [0, 1]"
      ]
     },
     "execution_count": 63,
     "metadata": {},
     "output_type": "execute_result"
    }
   ],
   "source": [
    "selected_data_2020['X_SEX'] = selected_data_2020['X_SEX'].replace({2:0})\n",
    "selected_data_2020['X_SEX'] = selected_data_2020['X_SEX'].astype('category')\n",
    "selected_data_2020['X_SEX'].unique()"
   ]
  },
  {
   "cell_type": "code",
   "execution_count": 64,
   "id": "e3a6300b",
   "metadata": {
    "id": "05ac6c83",
    "outputId": "3412019c-11d5-405b-b45c-e50c130dcce3",
    "scrolled": true
   },
   "outputs": [
    {
     "data": {
      "text/plain": [
       "array([163., 168., 180., 160., 155., 183., 152., 150., 185., 175., 170.,\n",
       "       157., 173., 178., 188., 145., 165., 191., 193., 201., 196., 198.,\n",
       "       206., 147., 142., 203., 137., 132., 122., 124., 140., 162., 182.,\n",
       "       161., 120., 153., 190., 172., 144., 105., 106., 169., 187., 176.,\n",
       "       166., 154., 135., 167., 177., 127., 208., 213., 159., 211.,  91.,\n",
       "       119.,  99., 216., 146., 130., 171., 156., 164., 158., 174., 125.,\n",
       "       104., 151., 114., 110., 148., 101., 195., 138., 107., 229., 126.,\n",
       "       189., 186., 218., 141., 149., 117., 109., 102., 179., 103., 128.,\n",
       "       123., 108., 234., 100., 209.,  97., 139.])"
      ]
     },
     "execution_count": 64,
     "metadata": {},
     "output_type": "execute_result"
    }
   ],
   "source": [
    "selected_data_2020['HTM4'].unique()"
   ]
  },
  {
   "cell_type": "code",
   "execution_count": 65,
   "id": "e91659a9",
   "metadata": {
    "id": "4ab455e8",
    "outputId": "45ab677b-6252-421f-8c37-1c2a39ccbd34"
   },
   "outputs": [
    {
     "data": {
      "text/plain": [
       "array([ 77.,  57.,  68.,  74.,  61.,  64., 136.,  67.,  59.,  73.,  51.,\n",
       "       109.,  66.,  82.,  75.,  86.,  47., 100.,  63.,  54.,  84., 104.,\n",
       "        79.,  70.,  72.,  88.,  52., 111.,  71.,  58., 108.,  78., 118.,\n",
       "        76.,  91.,  97., 113.,  69.,  50.,  56.,  87.,  53., 175., 132.,\n",
       "        95., 122.,  55.,  48.,  81.,  85., 102.,  65.,  92.,  45.,  98.,\n",
       "        49.,  83.,  60.,  96.,  89.,  80., 134., 101.,  62., 145.,  93.,\n",
       "        90., 103.,  94., 135., 121., 125.,  44.,  41., 120., 129., 126.,\n",
       "       131., 107., 181., 194., 127., 110.,  99.,  39., 116., 105., 147.,\n",
       "       141., 119., 128., 159.,  35., 117., 143., 112., 106., 172., 150.,\n",
       "       190.,  42., 115., 156., 123., 138., 137.,  43., 130., 161.,  38.,\n",
       "       170.,  46., 124., 177., 144., 114., 155., 154., 163.,  36.,  32.,\n",
       "       192., 158., 152., 209., 166., 168.,  37., 142., 133., 139.,  40.,\n",
       "       195.,  34., 173., 193., 164., 148., 140., 213., 230., 204., 149.,\n",
       "       169., 146., 218., 160., 272., 200., 151., 153., 198., 203., 196.,\n",
       "       239.,  33., 191., 227., 176., 228., 171., 197., 265., 167., 254.,\n",
       "       231., 215., 165., 157., 243., 187., 273.,  25., 179., 202., 205.,\n",
       "       245., 263., 186., 221., 222., 232., 189., 162.,  31., 188., 178.,\n",
       "       211.,  30., 256., 238., 174., 249., 225., 206., 286., 240.,  26.,\n",
       "       184., 236., 229., 214., 266.])"
      ]
     },
     "execution_count": 65,
     "metadata": {},
     "output_type": "execute_result"
    }
   ],
   "source": [
    "selected_data_2020['WTKG3'] = selected_data_2020['WTKG3'].div(100).round(0)\n",
    "selected_data_2020['WTKG3'].unique()"
   ]
  },
  {
   "cell_type": "code",
   "execution_count": 66,
   "id": "55a7ec02",
   "metadata": {
    "id": "406575cb",
    "outputId": "d0a81649-5e21-47a4-ae2a-43ea668b2543"
   },
   "outputs": [
    {
     "data": {
      "text/plain": [
       "array([29., 20., 24., 22., 26., 41., 28., 23., 18., 21., 34., 32., 25.,\n",
       "       27., 31., 19., 39., 30., 33., 35., 44., 36., 59., 45., 17., 38.,\n",
       "       43., 47., 49., 37., 52., 42., 15., 51., 55., 40., 50., 76., 16.,\n",
       "       48., 46., 53., 82., 12., 14., 60., 67., 56., 63., 54., 66., 13.,\n",
       "       57., 64., 58., 62., 83., 81., 68., 73., 90., 61., 71., 77., 87.,\n",
       "       80., 69., 65., 75., 78., 70., 74., 86., 72., 79., 84., 92., 95.,\n",
       "       88.])"
      ]
     },
     "execution_count": 66,
     "metadata": {},
     "output_type": "execute_result"
    }
   ],
   "source": [
    "selected_data_2020['X_BMI5'] = selected_data_2020['X_BMI5'].div(100).round(0)\n",
    "selected_data_2020['X_BMI5'].unique()"
   ]
  },
  {
   "cell_type": "code",
   "execution_count": 67,
   "id": "69c023e0",
   "metadata": {},
   "outputs": [
    {
     "name": "stderr",
     "output_type": "stream",
     "text": [
      "C:\\Users\\Shan\\anaconda3\\lib\\site-packages\\pandas\\io\\formats\\format.py:1429: FutureWarning: Index.ravel returning ndarray is deprecated; in a future version this will return a view on self.\n",
      "  for val, m in zip(values.ravel(), mask.ravel())\n"
     ]
    },
    {
     "data": {
      "text/plain": [
       "[3.0, 1.0, 2.0, 5.0, 4.0, 6.0]\n",
       "Categories (6, float64): [1.0, 2.0, 3.0, 4.0, 5.0, 6.0]"
      ]
     },
     "execution_count": 67,
     "metadata": {},
     "output_type": "execute_result"
    }
   ],
   "source": [
    "selected_data_2020 = selected_data_2020[selected_data_2020['MARITAL'] != 9]\n",
    "selected_data_2020['MARITAL'] = selected_data_2020['MARITAL'].astype('category')\n",
    "selected_data_2020['MARITAL'].unique()"
   ]
  },
  {
   "cell_type": "code",
   "execution_count": 68,
   "id": "930a41f3",
   "metadata": {
    "id": "aa3f8cf4",
    "outputId": "aae21b29-6c54-4ed8-e65f-0311fe7e63bf"
   },
   "outputs": [
    {
     "data": {
      "text/plain": [
       "[4, 5, 2, 1, 3]\n",
       "Categories (5, int64): [1, 2, 3, 4, 5]"
      ]
     },
     "execution_count": 68,
     "metadata": {},
     "output_type": "execute_result"
    }
   ],
   "source": [
    "selected_data_2020 = selected_data_2020[selected_data_2020['X_INCOMG'] != 9]\n",
    "selected_data_2020['X_INCOMG'] = selected_data_2020['X_INCOMG'].astype('category')\n",
    "selected_data_2020['X_INCOMG'].unique()"
   ]
  },
  {
   "cell_type": "code",
   "execution_count": 69,
   "id": "67f09eeb",
   "metadata": {
    "id": "25fe6d0e",
    "outputId": "1eb4204f-ea8e-4c67-cdc1-bc5cac1e3df3"
   },
   "outputs": [
    {
     "data": {
      "text/plain": [
       "[2, 4, 1, 3]\n",
       "Categories (4, int64): [1, 2, 3, 4]"
      ]
     },
     "execution_count": 69,
     "metadata": {},
     "output_type": "execute_result"
    }
   ],
   "source": [
    "selected_data_2020 = selected_data_2020[selected_data_2020['X_EDUCAG'] != 9]\n",
    "selected_data_2020['X_EDUCAG'] = selected_data_2020['X_EDUCAG'].astype('category')\n",
    "selected_data_2020['X_EDUCAG'].unique()"
   ]
  },
  {
   "cell_type": "code",
   "execution_count": 70,
   "id": "bdaff8a9",
   "metadata": {
    "id": "a15a6a28",
    "outputId": "5ab33908-73c3-4cd0-dd34-654f8c496b84"
   },
   "outputs": [
    {
     "data": {
      "text/plain": [
       "[3.0, 2.0, 4.0, 1.0, 5.0]\n",
       "Categories (5, float64): [1.0, 2.0, 3.0, 4.0, 5.0]"
      ]
     },
     "execution_count": 70,
     "metadata": {},
     "output_type": "execute_result"
    }
   ],
   "source": [
    "selected_data_2020 = selected_data_2020[selected_data_2020['GENHLTH'] != 7]\n",
    "selected_data_2020 = selected_data_2020[selected_data_2020['GENHLTH'] != 9]\n",
    "selected_data_2020['GENHLTH'] = selected_data_2020['GENHLTH'].astype('category')\n",
    "selected_data_2020['GENHLTH'].unique()"
   ]
  },
  {
   "cell_type": "code",
   "execution_count": 71,
   "id": "9b468360",
   "metadata": {
    "id": "7fd637b9",
    "outputId": "85976b8d-84b3-46fc-8372-9ed026b1e501"
   },
   "outputs": [
    {
     "data": {
      "text/plain": [
       "array([ 0., 30.,  2., 15.,  8.,  4.,  5., 10.,  3., 14., 20.,  1.,  7.,\n",
       "       24., 25., 28., 16., 17.,  9., 12., 18.,  6., 29., 23., 21., 26.,\n",
       "       27., 22., 13., 11., 19.])"
      ]
     },
     "execution_count": 71,
     "metadata": {},
     "output_type": "execute_result"
    }
   ],
   "source": [
    "selected_data_2020 = selected_data_2020[selected_data_2020['MENTHLTH'] != 77]\n",
    "selected_data_2020['MENTHLTH'] = selected_data_2020['MENTHLTH'].replace({88:0})\n",
    "selected_data_2020 = selected_data_2020[selected_data_2020['MENTHLTH'] != 99]\n",
    "selected_data_2020['MENTHLTH'].unique()"
   ]
  },
  {
   "cell_type": "code",
   "execution_count": 72,
   "id": "669c3efd",
   "metadata": {
    "id": "43e2e46f",
    "outputId": "401dddc8-4762-4375-cbaa-05b1ae6a4f8f"
   },
   "outputs": [
    {
     "data": {
      "text/plain": [
       "array([ 0., 28., 15.,  7.,  1.,  5., 30., 21.,  4.,  3.,  2., 20., 14.,\n",
       "       18.,  6., 10., 25., 27., 17.,  8., 12., 23., 16., 19., 29.,  9.,\n",
       "       26., 22., 11., 13., 24.])"
      ]
     },
     "execution_count": 72,
     "metadata": {},
     "output_type": "execute_result"
    }
   ],
   "source": [
    "selected_data_2020 = selected_data_2020[selected_data_2020['PHYSHLTH'] != 77]\n",
    "selected_data_2020['PHYSHLTH'] = selected_data_2020['PHYSHLTH'].replace({88:0})\n",
    "selected_data_2020 = selected_data_2020[selected_data_2020['PHYSHLTH'] != 99]\n",
    "selected_data_2020['PHYSHLTH'].unique()"
   ]
  },
  {
   "cell_type": "code",
   "execution_count": 73,
   "id": "e6feae1b",
   "metadata": {
    "id": "5fbdf295",
    "outputId": "e4088572-7348-4591-b18d-b2cc170be853"
   },
   "outputs": [
    {
     "data": {
      "text/plain": [
       "array([ 6.,  8.,  4.,  5., 10.,  7.,  9.,  1., 12.,  3.,  2., 15., 16.,\n",
       "       18., 14., 11., 20., 13., 24., 22., 17., 19., 23.])"
      ]
     },
     "execution_count": 73,
     "metadata": {},
     "output_type": "execute_result"
    }
   ],
   "source": [
    "selected_data_2020 = selected_data_2020[selected_data_2020['SLEPTIM1'] != 77]\n",
    "selected_data_2020 = selected_data_2020[selected_data_2020['SLEPTIM1'] != 99]\n",
    "selected_data_2020['SLEPTIM1'].unique()"
   ]
  },
  {
   "cell_type": "code",
   "execution_count": 74,
   "id": "94f19e07",
   "metadata": {
    "id": "d27dee1d",
    "outputId": "8667fb12-740b-4291-8917-39eee6d4de09"
   },
   "outputs": [
    {
     "data": {
      "text/plain": [
       "[0.0, 1.0]\n",
       "Categories (2, float64): [0.0, 1.0]"
      ]
     },
=======
>>>>>>> 3e90a1679471ee37c05cdadf35aa823e19a4e519
     "execution_count": 74,
     "metadata": {},
     "output_type": "execute_result"
    }
   ],
   "source": [
<<<<<<< HEAD
    "selected_data_2020['X_MICHD'] = selected_data_2020['X_MICHD'].replace({2:0})\n",
    "selected_data_2020['X_MICHD'] = selected_data_2020['X_MICHD'].astype('category')\n",
    "selected_data_2020['X_MICHD'].unique()"
=======
    "selected_data_2018['CVDSTRK3'] = selected_data_2018['CVDSTRK3'].replace({2:0})\n",
    "selected_data_2018 = selected_data_2018[selected_data_2018['CVDSTRK3'] != 7]\n",
    "selected_data_2018 = selected_data_2018[selected_data_2018['CVDSTRK3'] != 9]\n",
    "selected_data_2018['CVDSTRK3'] = selected_data_2018['CVDSTRK3'].astype('category')\n",
    "selected_data_2018['CVDSTRK3'].unique()"
>>>>>>> 3e90a1679471ee37c05cdadf35aa823e19a4e519
   ]
  },
  {
   "cell_type": "code",
   "execution_count": 75,
<<<<<<< HEAD
   "id": "98e27950",
   "metadata": {
    "id": "b15ae92e",
    "outputId": "4a788cb3-9fd9-4583-855d-a7a2469021d6"
   },
=======
   "id": "a71454b1",
   "metadata": {},
>>>>>>> 3e90a1679471ee37c05cdadf35aa823e19a4e519
   "outputs": [
    {
     "data": {
      "text/plain": [
       "[0.0, 1.0]\n",
       "Categories (2, float64): [0.0, 1.0]"
      ]
     },
     "execution_count": 75,
     "metadata": {},
     "output_type": "execute_result"
    }
   ],
   "source": [
<<<<<<< HEAD
    "selected_data_2020 = selected_data_2020[selected_data_2020['CVDSTRK3'] != 7]\n",
    "selected_data_2020 = selected_data_2020[selected_data_2020['CVDSTRK3'] != 9]\n",
    "selected_data_2020['CVDSTRK3'] = selected_data_2020['CVDSTRK3'].replace({2:0})\n",
    "selected_data_2020['CVDSTRK3'] = selected_data_2020['CVDSTRK3'].astype('category')\n",
    "selected_data_2020['CVDSTRK3'].unique()"
=======
    "selected_data_2018['ADDEPEV2'] = selected_data_2018['ADDEPEV2'].replace({2:0})\n",
    "selected_data_2018 = selected_data_2018[selected_data_2018['ADDEPEV2'] != 7]\n",
    "selected_data_2018 = selected_data_2018[selected_data_2018['ADDEPEV2'] != 9]\n",
    "selected_data_2018['ADDEPEV2'] = selected_data_2018['ADDEPEV2'].astype('category')\n",
    "selected_data_2018['ADDEPEV2'].unique()"
>>>>>>> 3e90a1679471ee37c05cdadf35aa823e19a4e519
   ]
  },
  {
   "cell_type": "code",
   "execution_count": 76,
<<<<<<< HEAD
   "id": "83b03c8f",
   "metadata": {
    "id": "ffe33a73",
    "outputId": "5b5ed584-bf3f-41a7-f102-dc219e6bdb2c"
   },
=======
   "id": "33726f8e",
   "metadata": {},
>>>>>>> 3e90a1679471ee37c05cdadf35aa823e19a4e519
   "outputs": [
    {
     "data": {
      "text/plain": [
       "[0.0, 1.0]\n",
       "Categories (2, float64): [0.0, 1.0]"
      ]
     },
     "execution_count": 76,
     "metadata": {},
     "output_type": "execute_result"
    }
   ],
   "source": [
<<<<<<< HEAD
    "selected_data_2020 = selected_data_2020[selected_data_2020['ADDEPEV3'] != 7]\n",
    "selected_data_2020 = selected_data_2020[selected_data_2020['ADDEPEV3'] != 9]\n",
    "selected_data_2020['ADDEPEV3'] = selected_data_2020['ADDEPEV3'].replace({2:0})\n",
    "selected_data_2020['ADDEPEV3'] = selected_data_2020['ADDEPEV3'].astype('category')\n",
    "selected_data_2020['ADDEPEV3'].unique()"
=======
    "selected_data_2018['CHCKDNY1'] = selected_data_2018['CHCKDNY1'].replace({2:0})\n",
    "selected_data_2018 = selected_data_2018[selected_data_2018['CHCKDNY1'] != 7]\n",
    "selected_data_2018 = selected_data_2018[selected_data_2018['CHCKDNY1'] != 9]\n",
    "selected_data_2018['CHCKDNY1'] = selected_data_2018['CHCKDNY1'].astype('category')\n",
    "selected_data_2018['CHCKDNY1'].unique()"
>>>>>>> 3e90a1679471ee37c05cdadf35aa823e19a4e519
   ]
  },
  {
   "cell_type": "code",
   "execution_count": 77,
<<<<<<< HEAD
   "id": "75cde723",
   "metadata": {
    "id": "68018854",
    "outputId": "8d401dd1-9954-40b9-8737-5720b15cbfcf"
   },
=======
   "id": "9f90c072",
   "metadata": {},
>>>>>>> 3e90a1679471ee37c05cdadf35aa823e19a4e519
   "outputs": [
    {
     "data": {
      "text/plain": [
       "[0.0, 1.0]\n",
       "Categories (2, float64): [0.0, 1.0]"
      ]
     },
     "execution_count": 77,
     "metadata": {},
     "output_type": "execute_result"
    }
   ],
   "source": [
<<<<<<< HEAD
    "selected_data_2020 = selected_data_2020[selected_data_2020['CHCKDNY2'] != 7]\n",
    "selected_data_2020 = selected_data_2020[selected_data_2020['CHCKDNY2'] != 9]\n",
    "selected_data_2020['CHCKDNY2'] = selected_data_2020['CHCKDNY2'].replace({2:0})\n",
    "selected_data_2020['CHCKDNY2'] = selected_data_2020['CHCKDNY2'].astype('category')\n",
    "selected_data_2020['CHCKDNY2'].unique()"
=======
    "selected_data_2018['DIABETE3'] = selected_data_2018['DIABETE3'].replace({2:0, 3:0, 1:1, 4:1})\n",
    "selected_data_2018 = selected_data_2018[selected_data_2018['DIABETE3'] != 7]\n",
    "selected_data_2018 = selected_data_2018[selected_data_2018['DIABETE3'] != 9]\n",
    "selected_data_2018['DIABETE3'] = selected_data_2018['DIABETE3'].astype('category')\n",
    "selected_data_2018['DIABETE3'].unique()"
>>>>>>> 3e90a1679471ee37c05cdadf35aa823e19a4e519
   ]
  },
  {
   "cell_type": "code",
   "execution_count": 78,
<<<<<<< HEAD
   "id": "a4396c7a",
   "metadata": {
    "id": "26dd20d7",
    "outputId": "25b1f7cd-c16c-44e1-d6b6-a17ac46491c4"
   },
=======
   "id": "4ed26fab",
   "metadata": {},
>>>>>>> 3e90a1679471ee37c05cdadf35aa823e19a4e519
   "outputs": [
    {
     "data": {
      "text/plain": [
<<<<<<< HEAD
       "[0.0, 1.0, 2.0]\n",
       "Categories (3, float64): [0.0, 1.0, 2.0]"
=======
       "[1.0, 0.0]\n",
       "Categories (2, float64): [0.0, 1.0]"
>>>>>>> 3e90a1679471ee37c05cdadf35aa823e19a4e519
      ]
     },
     "execution_count": 78,
     "metadata": {},
     "output_type": "execute_result"
    }
   ],
   "source": [
<<<<<<< HEAD
    "selected_data_2020['DIABETE4'] = selected_data_2020['DIABETE4'].replace({2:0, 3:0, 1:2, 4:1})\n",
    "selected_data_2020 = selected_data_2020[selected_data_2020['DIABETE4'] != 7]\n",
    "selected_data_2020 = selected_data_2020[selected_data_2020['DIABETE4'] != 9]\n",
    "selected_data_2020['DIABETE4'] = selected_data_2020['DIABETE4'].astype('category')\n",
    "selected_data_2020['DIABETE4'].unique()"
=======
    "selected_data_2018['_DRDXAR1'] = selected_data_2018['_DRDXAR1'].replace({2:0})\n",
    "selected_data_2018['_DRDXAR1'] = selected_data_2018['_DRDXAR1'].astype('category')\n",
    "selected_data_2018['_DRDXAR1'].unique()"
>>>>>>> 3e90a1679471ee37c05cdadf35aa823e19a4e519
   ]
  },
  {
   "cell_type": "code",
   "execution_count": 79,
<<<<<<< HEAD
   "id": "5d693cc3",
   "metadata": {
    "id": "8070b2b5",
    "outputId": "e1260421-8af2-4270-87a0-d17165340e8f"
   },
=======
   "id": "0d2aeea5",
   "metadata": {},
>>>>>>> 3e90a1679471ee37c05cdadf35aa823e19a4e519
   "outputs": [
    {
     "data": {
      "text/plain": [
<<<<<<< HEAD
       "[0.0, 1.0]\n",
       "Categories (2, float64): [0.0, 1.0]"
=======
       "[1.0, 2.0, 3.0, 4.0]\n",
       "Categories (4, float64): [1.0, 2.0, 3.0, 4.0]"
>>>>>>> 3e90a1679471ee37c05cdadf35aa823e19a4e519
      ]
     },
     "execution_count": 79,
     "metadata": {},
     "output_type": "execute_result"
    }
   ],
   "source": [
<<<<<<< HEAD
    "selected_data_2020['X_DRDXAR2'] = selected_data_2020['X_DRDXAR2'].replace({2:0})\n",
    "selected_data_2020['X_DRDXAR2'] = selected_data_2020['X_DRDXAR2'].astype('category')\n",
    "selected_data_2020['X_DRDXAR2'].unique()"
=======
    "selected_data_2018  = selected_data_2018[selected_data_2018['CHECKUP1'] != 7]\n",
    "selected_data_2018  = selected_data_2018[selected_data_2018['CHECKUP1'] != 8]\n",
    "selected_data_2018  = selected_data_2018[selected_data_2018['CHECKUP1'] != 9]\n",
    "selected_data_2018['CHECKUP1'] = selected_data_2018['CHECKUP1'].astype('category')\n",
    "selected_data_2018['CHECKUP1'].unique()"
>>>>>>> 3e90a1679471ee37c05cdadf35aa823e19a4e519
   ]
  },
  {
   "cell_type": "code",
   "execution_count": 80,
<<<<<<< HEAD
   "id": "1a62bde8",
   "metadata": {
    "id": "f4f42df6",
    "outputId": "6090eff5-2eeb-4c96-9469-8318cabb5ca1",
    "scrolled": true
   },
=======
   "id": "dc92f9f8",
   "metadata": {},
>>>>>>> 3e90a1679471ee37c05cdadf35aa823e19a4e519
   "outputs": [
    {
     "data": {
      "text/plain": [
<<<<<<< HEAD
       "[1.0, 3.0, 2.0, 4.0]\n",
       "Categories (4, float64): [1.0, 2.0, 3.0, 4.0]"
=======
       "[1.0, 0.0]\n",
       "Categories (2, float64): [0.0, 1.0]"
>>>>>>> 3e90a1679471ee37c05cdadf35aa823e19a4e519
      ]
     },
     "execution_count": 80,
     "metadata": {},
     "output_type": "execute_result"
    }
   ],
   "source": [
<<<<<<< HEAD
    "selected_data_2020 = selected_data_2020[selected_data_2020['CHECKUP1'] != 7]\n",
    "selected_data_2020 = selected_data_2020[selected_data_2020['CHECKUP1'] != 8]\n",
    "selected_data_2020 = selected_data_2020[selected_data_2020['CHECKUP1'] != 9]\n",
    "selected_data_2020['CHECKUP1'] = selected_data_2020['CHECKUP1'].astype('category')\n",
    "selected_data_2020['CHECKUP1'].unique()"
=======
    "selected_data_2018['PDIABTST'] = selected_data_2018['PDIABTST'].replace({2:0})\n",
    "selected_data_2018 = selected_data_2018[selected_data_2018['PDIABTST'] != 7]\n",
    "selected_data_2018 = selected_data_2018[selected_data_2018['PDIABTST'] != 9]\n",
    "selected_data_2018['PDIABTST'] = selected_data_2018['PDIABTST'].astype('category')\n",
    "selected_data_2018.PDIABTST.unique()"
>>>>>>> 3e90a1679471ee37c05cdadf35aa823e19a4e519
   ]
  },
  {
   "cell_type": "code",
   "execution_count": 81,
<<<<<<< HEAD
   "id": "6b2c1e9e",
   "metadata": {
    "id": "a9af890b",
    "outputId": "83345482-c55f-462c-c58c-d73680d29de6"
   },
   "outputs": [
    {
     "data": {
      "text/plain": [
       "[1.0, 0.0]\n",
       "Categories (2, float64): [0.0, 1.0]"
      ]
     },
     "execution_count": 81,
     "metadata": {},
     "output_type": "execute_result"
    }
   ],
   "source": [
    "selected_data_2020['PDIABTST'] = selected_data_2020['PDIABTST'].replace({2:0})\n",
    "selected_data_2020 = selected_data_2020[selected_data_2020['PDIABTST'] != 7]\n",
    "selected_data_2020 = selected_data_2020[selected_data_2020['PDIABTST'] != 9]\n",
    "selected_data_2020['PDIABTST'] = selected_data_2020['PDIABTST'].astype('category')\n",
    "selected_data_2020['PDIABTST'].unique()"
   ]
  },
  {
   "cell_type": "code",
   "execution_count": 82,
   "id": "975ba535",
   "metadata": {
    "id": "a1ffa719",
    "outputId": "17a9a0a9-e4fe-4f59-ec4b-068e8b3bc284"
   },
=======
   "id": "9c1bcc2b",
   "metadata": {},
>>>>>>> 3e90a1679471ee37c05cdadf35aa823e19a4e519
   "outputs": [
    {
     "data": {
      "text/plain": [
       "[0, 1]\n",
       "Categories (2, int64): [0, 1]"
      ]
     },
<<<<<<< HEAD
=======
     "execution_count": 81,
     "metadata": {},
     "output_type": "execute_result"
    }
   ],
   "source": [
    "selected_data_2018['_TOTINDA'] = selected_data_2018['_TOTINDA'].replace({2:0})\n",
    "selected_data_2018 = selected_data_2018[selected_data_2018['_TOTINDA'] != 9]\n",
    "selected_data_2018['_TOTINDA'] = selected_data_2018['_TOTINDA'].astype('category')\n",
    "selected_data_2018['_TOTINDA'].unique()"
   ]
  },
  {
   "cell_type": "code",
   "execution_count": 82,
   "id": "cd099e81",
   "metadata": {},
   "outputs": [
    {
     "data": {
      "text/plain": [
       "[4, 1, 3, 2]\n",
       "Categories (4, int64): [1, 2, 3, 4]"
      ]
     },
>>>>>>> 3e90a1679471ee37c05cdadf35aa823e19a4e519
     "execution_count": 82,
     "metadata": {},
     "output_type": "execute_result"
    }
   ],
   "source": [
<<<<<<< HEAD
    "selected_data_2020['X_TOTINDA'] = selected_data_2020['X_TOTINDA'].replace({2:0})\n",
    "selected_data_2020 = selected_data_2020[selected_data_2020['X_TOTINDA'] != 9]\n",
    "selected_data_2020['X_TOTINDA'] = selected_data_2020['X_TOTINDA'].astype('category')\n",
    "selected_data_2020['X_TOTINDA'].unique()"
=======
    "selected_data_2018 = selected_data_2018[selected_data_2018['_SMOKER3'] != 9]\n",
    "selected_data_2018['_SMOKER3'] = selected_data_2018['_SMOKER3'].astype('category')\n",
    "selected_data_2018['_SMOKER3'].unique()"
>>>>>>> 3e90a1679471ee37c05cdadf35aa823e19a4e519
   ]
  },
  {
   "cell_type": "code",
   "execution_count": 83,
<<<<<<< HEAD
   "id": "8beeb674",
   "metadata": {
    "id": "44db19e4",
    "outputId": "5bda46f4-1b92-45df-c291-4945eafc4099"
   },
   "outputs": [
    {
     "data": {
      "text/plain": [
       "[4, 3, 1, 2]\n",
       "Categories (4, int64): [1, 2, 3, 4]"
      ]
     },
     "execution_count": 83,
     "metadata": {},
     "output_type": "execute_result"
    }
   ],
   "source": [
    "selected_data_2020 = selected_data_2020[selected_data_2020['X_SMOKER3'] != 9]\n",
    "selected_data_2020['X_SMOKER3'] = selected_data_2020['X_SMOKER3'].astype('category')\n",
    "selected_data_2020['X_SMOKER3'].unique()"
   ]
  },
  {
   "cell_type": "code",
   "execution_count": 84,
   "id": "5ac3311a",
   "metadata": {
    "id": "613c37e4",
    "outputId": "344741f0-ea86-4074-bd2a-a5978106f832"
   },
=======
   "id": "128ce271",
   "metadata": {},
>>>>>>> 3e90a1679471ee37c05cdadf35aa823e19a4e519
   "outputs": [
    {
     "data": {
      "text/plain": [
       "[1, 0]\n",
       "Categories (2, int64): [0, 1]"
      ]
     },
<<<<<<< HEAD
=======
     "execution_count": 83,
     "metadata": {},
     "output_type": "execute_result"
    }
   ],
   "source": [
    "selected_data_2018['_RFDRHV6'] = selected_data_2018['_RFDRHV6'].replace({2:0})\n",
    "selected_data_2018 = selected_data_2018[selected_data_2018['_RFDRHV6'] != 9]\n",
    "selected_data_2018['_RFDRHV6'] = selected_data_2018['_RFDRHV6'].astype('category')\n",
    "selected_data_2018['_RFDRHV6'].unique()"
   ]
  },
  {
   "cell_type": "code",
   "execution_count": 84,
   "id": "5711ef25",
   "metadata": {},
   "outputs": [
    {
     "data": {
      "text/plain": [
       "[0.0, 1.0]\n",
       "Categories (2, float64): [0.0, 1.0]"
      ]
     },
>>>>>>> 3e90a1679471ee37c05cdadf35aa823e19a4e519
     "execution_count": 84,
     "metadata": {},
     "output_type": "execute_result"
    }
   ],
   "source": [
<<<<<<< HEAD
    "selected_data_2020['X_RFDRHV7'] = selected_data_2020['X_RFDRHV7'].replace({2:0})\n",
    "selected_data_2020 = selected_data_2020[selected_data_2020['X_RFDRHV7'] != 9]\n",
    "selected_data_2020['X_RFDRHV7'] = selected_data_2020['X_RFDRHV7'].astype('category')\n",
    "selected_data_2020['X_RFDRHV7'].unique()"
=======
    "selected_data_2018['CHCOCNCR'] = selected_data_2018['CHCOCNCR'].replace({2:0})\n",
    "selected_data_2018 = selected_data_2018[selected_data_2018['CHCOCNCR'] != 7]\n",
    "selected_data_2018 = selected_data_2018[selected_data_2018['CHCOCNCR'] != 9]\n",
    "selected_data_2018['CHCOCNCR'] = selected_data_2018['CHCOCNCR'].astype('category')\n",
    "selected_data_2018['CHCOCNCR'].unique()"
>>>>>>> 3e90a1679471ee37c05cdadf35aa823e19a4e519
   ]
  },
  {
   "cell_type": "code",
   "execution_count": 85,
<<<<<<< HEAD
   "id": "04dd8e8f",
   "metadata": {
    "id": "0eb23f42",
    "outputId": "46171265-19d9-4e65-de8a-18d65fa5a4ef"
   },
   "outputs": [
    {
     "data": {
      "text/plain": [
       "[1.0, 0.0]\n",
       "Categories (2, float64): [0.0, 1.0]"
      ]
     },
     "execution_count": 85,
     "metadata": {},
     "output_type": "execute_result"
    }
   ],
   "source": [
    "selected_data_2020['CHCOCNCR'] = selected_data_2020['CHCOCNCR'].replace({2:0})\n",
    "selected_data_2020 = selected_data_2020[selected_data_2020['CHCOCNCR'] != 7]\n",
    "selected_data_2020 = selected_data_2020[selected_data_2020['CHCOCNCR'] != 9]\n",
    "selected_data_2020['CHCOCNCR'] = selected_data_2020['CHCOCNCR'].astype('category')\n",
    "selected_data_2020['CHCOCNCR'].unique()"
   ]
  },
  {
   "cell_type": "code",
   "execution_count": 86,
   "id": "fe705deb",
   "metadata": {
    "id": "341b6ccf",
    "outputId": "6d122af3-03ac-4b74-f95b-adae29d346b6",
=======
   "id": "3ff6c449",
   "metadata": {
>>>>>>> 3e90a1679471ee37c05cdadf35aa823e19a4e519
    "scrolled": false
   },
   "outputs": [
    {
     "name": "stdout",
     "output_type": "stream",
     "text": [
      "<class 'pandas.core.frame.DataFrame'>\n",
<<<<<<< HEAD
      "Int64Index: 144844 entries, 7 to 401956\n",
      "Data columns (total 24 columns):\n",
      " #   Column     Non-Null Count   Dtype   \n",
      "---  ------     --------------   -----   \n",
      " 0   X_AGE_G    144844 non-null  category\n",
      " 1   X_SEX      144844 non-null  category\n",
      " 2   HTM4       144844 non-null  float64 \n",
      " 3   WTKG3      144844 non-null  float64 \n",
      " 4   X_BMI5     144844 non-null  float64 \n",
      " 5   MARITAL    144844 non-null  category\n",
      " 6   X_INCOMG   144844 non-null  category\n",
      " 7   X_EDUCAG   144844 non-null  category\n",
      " 8   GENHLTH    144844 non-null  category\n",
      " 9   PHYSHLTH   144844 non-null  float64 \n",
      " 10  MENTHLTH   144844 non-null  float64 \n",
      " 11  SLEPTIM1   144844 non-null  float64 \n",
      " 12  X_SMOKER3  144844 non-null  category\n",
      " 13  X_MICHD    144844 non-null  category\n",
      " 14  CVDSTRK3   144844 non-null  category\n",
      " 15  ADDEPEV3   144844 non-null  category\n",
      " 16  CHCKDNY2   144844 non-null  category\n",
      " 17  CHCOCNCR   144844 non-null  category\n",
      " 18  X_DRDXAR2  144844 non-null  category\n",
      " 19  CHECKUP1   144844 non-null  category\n",
      " 20  X_RFDRHV7  144844 non-null  category\n",
      " 21  PDIABTST   144844 non-null  category\n",
      " 22  X_TOTINDA  144844 non-null  category\n",
      " 23  DIABETE4   144844 non-null  category\n",
      "dtypes: category(18), float64(6)\n",
      "memory usage: 10.2 MB\n"
=======
      "Int64Index: 28369 entries, 9962 to 339832\n",
      "Data columns (total 24 columns):\n",
      " #   Column    Non-Null Count  Dtype   \n",
      "---  ------    --------------  -----   \n",
      " 0   _AGE_G    28369 non-null  int64   \n",
      " 1   SEX       28369 non-null  category\n",
      " 2   HTM4      28369 non-null  float64 \n",
      " 3   WTKG3     28369 non-null  float64 \n",
      " 4   _BMI5     28369 non-null  float64 \n",
      " 5   MARITAL   28369 non-null  category\n",
      " 6   _INCOMG   28369 non-null  category\n",
      " 7   _EDUCAG   28369 non-null  category\n",
      " 8   GENHLTH   28369 non-null  category\n",
      " 9   PHYSHLTH  28369 non-null  float64 \n",
      " 10  MENTHLTH  28369 non-null  float64 \n",
      " 11  SLEPTIM1  28369 non-null  float64 \n",
      " 12  _SMOKER3  28369 non-null  category\n",
      " 13  _MICHD    28369 non-null  category\n",
      " 14  CVDSTRK3  28369 non-null  category\n",
      " 15  ADDEPEV2  28369 non-null  category\n",
      " 16  CHCKIDNY  28369 non-null  category\n",
      " 17  CHCOCNCR  28369 non-null  category\n",
      " 18  _DRDXAR1  28369 non-null  category\n",
      " 19  CHECKUP1  28369 non-null  category\n",
      " 20  PDIABTST  28369 non-null  category\n",
      " 21  _TOTINDA  28369 non-null  category\n",
      " 22  DIABETE3  28369 non-null  category\n",
      " 23  _RFDRHV5  28369 non-null  category\n",
      "dtypes: category(17), float64(6), int64(1)\n",
      "memory usage: 2.2 MB\n"
>>>>>>> 3e90a1679471ee37c05cdadf35aa823e19a4e519
     ]
    }
   ],
   "source": [
<<<<<<< HEAD
    "selected_data_2020.info()"
=======
    "selected_data_2017.info()"
>>>>>>> 3e90a1679471ee37c05cdadf35aa823e19a4e519
   ]
  },
  {
   "cell_type": "markdown",
   "id": "d0e467d3",
   "metadata": {},
   "source": [
    "### Renaming the variables"
   ]
  },
  {
   "cell_type": "code",
<<<<<<< HEAD
   "execution_count": 87,
=======
   "execution_count": 86,
>>>>>>> 3e90a1679471ee37c05cdadf35aa823e19a4e519
   "id": "e6e65d4f",
   "metadata": {
    "id": "9139045e"
   },
   "outputs": [],
   "source": [
    "selected_data_2020 = selected_data_2020.rename(columns = {'X_AGE_G'  :'Age Category', 'X_SEX':'Sex', 'HTM4':'Height', \n",
    "                                                'WTKG3'    :'Weight', 'X_BMI5':'BMI', 'INCOME2':'Income Level',\n",
    "                                                'X_INCOMG' :'Income Category', 'X_EDUCAG':\"Education Level\", \n",
<<<<<<< HEAD
    "                                                'GENHLTH'  :'General Health', 'PHYSHLTH':'Physical Health','MENTHLTH':'Mental Health',  \n",
    "                                                'SLEPTIM1' :'Total Sleep', 'MARITAL':'Marital Status',\n",
=======
    "                                                'GENHLTH'  :'General Health', 'PHYSHLTH':'No of Days of Poor Physical Health','MENTHLTH':'No of Days of Poor Mental Health ',  \n",
    "                                                'SLEPTIM1' :'Total Sleeping Time', 'MARITAL':'Marital Status',\n",
>>>>>>> 3e90a1679471ee37c05cdadf35aa823e19a4e519
    "                                                'X_MICHD'  :'Coronary Heart Disease/Myocardial Infarction', 'CVDSTRK3':'Stroke', 'ADDEPEV3':'Depressive Disorder', 'CHCKDNY2':'Kidney Disease', \n",
    "                                                'DIABETE4' :'Diabetes', 'X_DRDXAR2':'Arthritis', 'CHECKUP1':'Time since last routine checkup',\n",
    "                                                'PDIABTST' :'High blood sugar/Diabetes Test','X_TOTINDA':'Workout','X_SMOKER3':'Smoker Status',\n",
    "                                                'X_RFDRHV7':'Heavy Drinker','CHCOCNCR':'Cancer'})"
   ]
  },
  {
   "cell_type": "code",
<<<<<<< HEAD
   "execution_count": 88,
=======
   "execution_count": 87,
>>>>>>> 3e90a1679471ee37c05cdadf35aa823e19a4e519
   "id": "c173433a",
   "metadata": {
    "id": "9139045e"
   },
   "outputs": [],
   "source": [
<<<<<<< HEAD
    "selected_data_2016 = selected_data_2016.rename(columns = {'_AGE_G'  :'Age Category', 'SEX':'Sex', 'HTM4':'Height', \n",
    "                                                'WTKG3'    :'Weight', '_BMI5':'BMI',\n",
    "                                                '_INCOMG' :'Income Category', '_EDUCAG':\"Education Level\", \n",
    "                                                'GENHLTH'  :'General Health', 'PHYSHLTH':'Physical Health','MENTHLTH':'Mental Health',  \n",
    "                                                'SLEPTIM1' :'Total Sleep', 'MARITAL':'Marital Status',\n",
=======
    "selected_data_2017 = selected_data_2017.rename(columns = {'_AGE_G'  :'Age Category', 'SEX':'Sex', 'HTM4':'Height', \n",
    "                                                'WTKG3'    :'Weight', '_BMI5':'BMI',\n",
    "                                                '_INCOMG' :'Income Category', '_EDUCAG':\"Education Level\", \n",
    "                                                'GENHLTH'  :'General Health', 'PHYSHLTH':'No of Days of Poor Physical Health','MENTHLTH':'No of Days of Poor Mental Health ',  \n",
    "                                                'SLEPTIM1' :'Total Sleeping Time', 'MARITAL':'Marital Status',\n",
>>>>>>> 3e90a1679471ee37c05cdadf35aa823e19a4e519
    "                                                '_MICHD'  :'Coronary Heart Disease/Myocardial Infarction', 'CVDSTRK3':'Stroke', 'ADDEPEV2':'Depressive Disorder', 'CHCKIDNY':'Kidney Disease', \n",
    "                                                'DIABETE3' :'Diabetes', '_DRDXAR1':'Arthritis', 'CHECKUP1':'Time since last routine checkup',\n",
    "                                                'PDIABTST' :'High blood sugar/Diabetes Test','_TOTINDA':'Workout','_SMOKER3':'Smoker Status',\n",
    "                                                '_RFDRHV5':'Heavy Drinker','CHCOCNCR':'Cancer'})"
   ]
  },
  {
   "cell_type": "code",
<<<<<<< HEAD
   "execution_count": 89,
=======
   "execution_count": 88,
>>>>>>> 3e90a1679471ee37c05cdadf35aa823e19a4e519
   "id": "f3ceb2a2",
   "metadata": {
    "id": "9139045e"
   },
   "outputs": [],
   "source": [
    "selected_data_2018 = selected_data_2018.rename(columns = {'_AGE_G'  :'Age Category', 'SEX1':'Sex', 'HTM4':'Height', \n",
    "                                                'WTKG3'    :'Weight', '_BMI5':'BMI', 'INCOME2':'Income Level',\n",
    "                                                '_INCOMG' :'Income Category', '_EDUCAG':\"Education Level\", \n",
<<<<<<< HEAD
    "                                                'GENHLTH'  :'General Health', 'PHYSHLTH':'Physical Health','MENTHLTH':'Mental Health',  \n",
    "                                                'SLEPTIM1' :'Total Sleep', 'MARITAL':'Marital Status',\n",
=======
    "                                                'GENHLTH'  :'General Health', 'PHYSHLTH':'No of Days of Poor Physical Health','MENTHLTH':'No of Days of Poor Mental Health ',  \n",
    "                                                'SLEPTIM1' :'Total Sleeping Time', 'MARITAL':'Marital Status',\n",
>>>>>>> 3e90a1679471ee37c05cdadf35aa823e19a4e519
    "                                                '_MICHD'  :'Coronary Heart Disease/Myocardial Infarction', 'CVDSTRK3':'Stroke', 'ADDEPEV2':'Depressive Disorder', 'CHCKDNY1':'Kidney Disease', \n",
    "                                                'DIABETE3' :'Diabetes', '_DRDXAR1':'Arthritis', 'CHECKUP1':'Time since last routine checkup',\n",
    "                                                'PDIABTST' :'High blood sugar/Diabetes Test','_TOTINDA':'Workout','_SMOKER3':'Smoker Status',\n",
    "                                                '_RFDRHV6':'Heavy Drinker','CHCOCNCR':'Cancer'})"
   ]
  },
  {
   "cell_type": "code",
<<<<<<< HEAD
   "execution_count": 90,
=======
   "execution_count": 89,
>>>>>>> 3e90a1679471ee37c05cdadf35aa823e19a4e519
   "id": "94436688",
   "metadata": {},
   "outputs": [
    {
     "name": "stdout",
     "output_type": "stream",
     "text": [
      "<class 'pandas.core.frame.DataFrame'>\n",
<<<<<<< HEAD
      "Int64Index: 144844 entries, 7 to 401956\n",
      "Data columns (total 24 columns):\n",
      " #   Column                                        Non-Null Count   Dtype   \n",
      "---  ------                                        --------------   -----   \n",
      " 0   Age Category                                  144844 non-null  category\n",
      " 1   Sex                                           144844 non-null  category\n",
      " 2   Height                                        144844 non-null  float64 \n",
      " 3   Weight                                        144844 non-null  float64 \n",
      " 4   BMI                                           144844 non-null  float64 \n",
      " 5   Marital Status                                144844 non-null  category\n",
      " 6   Income Category                               144844 non-null  category\n",
      " 7   Education Level                               144844 non-null  category\n",
      " 8   General Health                                144844 non-null  category\n",
      " 9   Physical Health                               144844 non-null  float64 \n",
      " 10  Mental Health                                 144844 non-null  float64 \n",
      " 11  Total Sleep                                   144844 non-null  float64 \n",
      " 12  Smoker Status                                 144844 non-null  category\n",
      " 13  Coronary Heart Disease/Myocardial Infarction  144844 non-null  category\n",
      " 14  Stroke                                        144844 non-null  category\n",
      " 15  Depressive Disorder                           144844 non-null  category\n",
      " 16  Kidney Disease                                144844 non-null  category\n",
      " 17  Cancer                                        144844 non-null  category\n",
      " 18  Arthritis                                     144844 non-null  category\n",
      " 19  Time since last routine checkup               144844 non-null  category\n",
      " 20  Heavy Drinker                                 144844 non-null  category\n",
      " 21  High blood sugar/Diabetes Test                144844 non-null  category\n",
      " 22  Workout                                       144844 non-null  category\n",
      " 23  Diabetes                                      144844 non-null  category\n",
      "dtypes: category(18), float64(6)\n",
      "memory usage: 10.2 MB\n"
=======
      "Int64Index: 144917 entries, 6 to 401955\n",
      "Data columns (total 24 columns):\n",
      " #   Column                                        Non-Null Count   Dtype  \n",
      "---  ------                                        --------------   -----  \n",
      " 0   Age Category                                  144917 non-null  int64  \n",
      " 1   Sex                                           144917 non-null  int64  \n",
      " 2   Height                                        144917 non-null  float64\n",
      " 3   Weight                                        144917 non-null  float64\n",
      " 4   BMI                                           144917 non-null  float64\n",
      " 5   Marital Status                                144917 non-null  float64\n",
      " 6   Income Category                               144917 non-null  int64  \n",
      " 7   Education Level                               144917 non-null  int64  \n",
      " 8   General Health                                144917 non-null  float64\n",
      " 9   No of Days of Poor Physical Health            144917 non-null  float64\n",
      " 10  No of Days of Poor Mental Health              144917 non-null  float64\n",
      " 11  Total Sleeping Time                           144917 non-null  float64\n",
      " 12  Smoker Status                                 144917 non-null  int64  \n",
      " 13  Coronary Heart Disease/Myocardial Infarction  144917 non-null  float64\n",
      " 14  Stroke                                        144917 non-null  float64\n",
      " 15  Depressive Disorder                           144917 non-null  float64\n",
      " 16  Kidney Disease                                144917 non-null  float64\n",
      " 17  Cancer                                        144917 non-null  float64\n",
      " 18  Arthritis                                     144917 non-null  float64\n",
      " 19  Time since last routine checkup               144917 non-null  float64\n",
      " 20  Heavy Drinker                                 144917 non-null  int64  \n",
      " 21  High blood sugar/Diabetes Test                144917 non-null  float64\n",
      " 22  Workout                                       144917 non-null  int64  \n",
      " 23  Diabetes                                      144917 non-null  float64\n",
      "dtypes: float64(17), int64(7)\n",
      "memory usage: 27.6 MB\n"
>>>>>>> 3e90a1679471ee37c05cdadf35aa823e19a4e519
     ]
    }
   ],
   "source": [
    "selected_data_2020.info()"
   ]
  },
  {
   "cell_type": "code",
<<<<<<< HEAD
   "execution_count": 91,
=======
   "execution_count": 90,
>>>>>>> 3e90a1679471ee37c05cdadf35aa823e19a4e519
   "id": "0c25eafc",
   "metadata": {},
   "outputs": [
    {
     "name": "stdout",
     "output_type": "stream",
     "text": [
      "<class 'pandas.core.frame.DataFrame'>\n",
<<<<<<< HEAD
      "Int64Index: 132555 entries, 1 to 486302\n",
      "Data columns (total 24 columns):\n",
      " #   Column                                        Non-Null Count   Dtype   \n",
      "---  ------                                        --------------   -----   \n",
      " 0   Age Category                                  132555 non-null  category\n",
      " 1   Sex                                           132555 non-null  category\n",
      " 2   Height                                        132555 non-null  float64 \n",
      " 3   Weight                                        132555 non-null  float64 \n",
      " 4   BMI                                           132555 non-null  float64 \n",
      " 5   Marital Status                                132555 non-null  category\n",
      " 6   Income Category                               132555 non-null  category\n",
      " 7   Education Level                               132555 non-null  category\n",
      " 8   General Health                                132555 non-null  category\n",
      " 9   Physical Health                               132555 non-null  float64 \n",
      " 10  Mental Health                                 132555 non-null  float64 \n",
      " 11  Total Sleep                                   132555 non-null  float64 \n",
      " 12  Smoker Status                                 132555 non-null  category\n",
      " 13  Coronary Heart Disease/Myocardial Infarction  132555 non-null  category\n",
      " 14  Stroke                                        132555 non-null  category\n",
      " 15  Depressive Disorder                           132555 non-null  category\n",
      " 16  Kidney Disease                                132555 non-null  category\n",
      " 17  Cancer                                        132555 non-null  category\n",
      " 18  Arthritis                                     132555 non-null  category\n",
      " 19  Time since last routine checkup               132555 non-null  category\n",
      " 20  High blood sugar/Diabetes Test                132555 non-null  category\n",
      " 21  Workout                                       132555 non-null  category\n",
      " 22  Diabetes                                      132555 non-null  category\n",
      " 23  Heavy Drinker                                 132555 non-null  category\n",
      "dtypes: category(18), float64(6)\n",
      "memory usage: 9.4 MB\n"
=======
      "Int64Index: 28369 entries, 9962 to 339832\n",
      "Data columns (total 24 columns):\n",
      " #   Column                                        Non-Null Count  Dtype   \n",
      "---  ------                                        --------------  -----   \n",
      " 0   Age Category                                  28369 non-null  int64   \n",
      " 1   Sex                                           28369 non-null  category\n",
      " 2   Height                                        28369 non-null  float64 \n",
      " 3   Weight                                        28369 non-null  float64 \n",
      " 4   BMI                                           28369 non-null  float64 \n",
      " 5   Marital Status                                28369 non-null  category\n",
      " 6   Income Category                               28369 non-null  category\n",
      " 7   Education Level                               28369 non-null  category\n",
      " 8   General Health                                28369 non-null  category\n",
      " 9   No of Days of Poor Physical Health            28369 non-null  float64 \n",
      " 10  No of Days of Poor Mental Health              28369 non-null  float64 \n",
      " 11  Total Sleeping Time                           28369 non-null  float64 \n",
      " 12  Smoker Status                                 28369 non-null  category\n",
      " 13  Coronary Heart Disease/Myocardial Infarction  28369 non-null  category\n",
      " 14  Stroke                                        28369 non-null  category\n",
      " 15  Depressive Disorder                           28369 non-null  category\n",
      " 16  Kidney Disease                                28369 non-null  category\n",
      " 17  Cancer                                        28369 non-null  category\n",
      " 18  Arthritis                                     28369 non-null  category\n",
      " 19  Time since last routine checkup               28369 non-null  category\n",
      " 20  High blood sugar/Diabetes Test                28369 non-null  category\n",
      " 21  Workout                                       28369 non-null  category\n",
      " 22  Diabetes                                      28369 non-null  category\n",
      " 23  Heavy Drinker                                 28369 non-null  category\n",
      "dtypes: category(17), float64(6), int64(1)\n",
      "memory usage: 2.2 MB\n"
>>>>>>> 3e90a1679471ee37c05cdadf35aa823e19a4e519
     ]
    }
   ],
   "source": [
<<<<<<< HEAD
    "selected_data_2016.info()"
=======
    "selected_data_2017.info()"
>>>>>>> 3e90a1679471ee37c05cdadf35aa823e19a4e519
   ]
  },
  {
   "cell_type": "code",
<<<<<<< HEAD
   "execution_count": 92,
=======
   "execution_count": 91,
>>>>>>> 3e90a1679471ee37c05cdadf35aa823e19a4e519
   "id": "48ce9006",
   "metadata": {},
   "outputs": [
    {
     "name": "stdout",
     "output_type": "stream",
     "text": [
      "<class 'pandas.core.frame.DataFrame'>\n",
      "Int64Index: 137399 entries, 0 to 437435\n",
      "Data columns (total 24 columns):\n",
      " #   Column                                        Non-Null Count   Dtype   \n",
      "---  ------                                        --------------   -----   \n",
<<<<<<< HEAD
      " 0   Age Category                                  137399 non-null  category\n",
=======
      " 0   Age Category                                  137399 non-null  int64   \n",
>>>>>>> 3e90a1679471ee37c05cdadf35aa823e19a4e519
      " 1   Sex                                           137399 non-null  category\n",
      " 2   Height                                        137399 non-null  float64 \n",
      " 3   Weight                                        137399 non-null  float64 \n",
      " 4   BMI                                           137399 non-null  float64 \n",
      " 5   Marital Status                                137399 non-null  category\n",
      " 6   Income Category                               137399 non-null  category\n",
      " 7   Education Level                               137399 non-null  category\n",
      " 8   General Health                                137399 non-null  category\n",
<<<<<<< HEAD
      " 9   Physical Health                               137399 non-null  float64 \n",
      " 10  Mental Health                                 137399 non-null  float64 \n",
      " 11  Total Sleep                                   137399 non-null  float64 \n",
=======
      " 9   No of Days of Poor Physical Health            137399 non-null  float64 \n",
      " 10  No of Days of Poor Mental Health              137399 non-null  float64 \n",
      " 11  Total Sleeping Time                           137399 non-null  float64 \n",
>>>>>>> 3e90a1679471ee37c05cdadf35aa823e19a4e519
      " 12  Smoker Status                                 137399 non-null  category\n",
      " 13  Coronary Heart Disease/Myocardial Infarction  137399 non-null  category\n",
      " 14  Stroke                                        137399 non-null  category\n",
      " 15  Depressive Disorder                           137399 non-null  category\n",
      " 16  Kidney Disease                                137399 non-null  category\n",
      " 17  Cancer                                        137399 non-null  category\n",
      " 18  Arthritis                                     137399 non-null  category\n",
      " 19  Time since last routine checkup               137399 non-null  category\n",
      " 20  High blood sugar/Diabetes Test                137399 non-null  category\n",
      " 21  Workout                                       137399 non-null  category\n",
      " 22  Diabetes                                      137399 non-null  category\n",
      " 23  Heavy Drinker                                 137399 non-null  category\n",
<<<<<<< HEAD
      "dtypes: category(18), float64(6)\n",
      "memory usage: 9.7 MB\n"
=======
      "dtypes: category(17), float64(6), int64(1)\n",
      "memory usage: 10.6 MB\n"
>>>>>>> 3e90a1679471ee37c05cdadf35aa823e19a4e519
     ]
    }
   ],
   "source": [
    "selected_data_2018.info()"
   ]
  },
  {
<<<<<<< HEAD
   "cell_type": "markdown",
   "id": "ba70fdb5",
   "metadata": {},
   "source": [
    "### Merging the datasets"
   ]
  },
  {
   "cell_type": "code",
   "execution_count": 93,
=======
   "cell_type": "code",
   "execution_count": 92,
>>>>>>> 3e90a1679471ee37c05cdadf35aa823e19a4e519
   "id": "81330bed",
   "metadata": {},
   "outputs": [
    {
     "name": "stdout",
     "output_type": "stream",
     "text": [
      "<class 'pandas.core.frame.DataFrame'>\n",
<<<<<<< HEAD
      "Int64Index: 414798 entries, 1 to 401956\n",
      "Data columns (total 24 columns):\n",
      " #   Column                                        Non-Null Count   Dtype   \n",
      "---  ------                                        --------------   -----   \n",
      " 0   Age Category                                  414798 non-null  category\n",
      " 1   Sex                                           414798 non-null  category\n",
      " 2   Height                                        414798 non-null  float64 \n",
      " 3   Weight                                        414798 non-null  float64 \n",
      " 4   BMI                                           414798 non-null  float64 \n",
      " 5   Marital Status                                414798 non-null  category\n",
      " 6   Income Category                               414798 non-null  category\n",
      " 7   Education Level                               414798 non-null  category\n",
      " 8   General Health                                414798 non-null  category\n",
      " 9   Physical Health                               414798 non-null  float64 \n",
      " 10  Mental Health                                 414798 non-null  float64 \n",
      " 11  Total Sleep                                   414798 non-null  float64 \n",
      " 12  Smoker Status                                 414798 non-null  category\n",
      " 13  Coronary Heart Disease/Myocardial Infarction  414798 non-null  category\n",
      " 14  Stroke                                        414798 non-null  category\n",
      " 15  Depressive Disorder                           414798 non-null  category\n",
      " 16  Kidney Disease                                414798 non-null  category\n",
      " 17  Cancer                                        414798 non-null  category\n",
      " 18  Arthritis                                     414798 non-null  category\n",
      " 19  Time since last routine checkup               414798 non-null  category\n",
      " 20  High blood sugar/Diabetes Test                414798 non-null  category\n",
      " 21  Workout                                       414798 non-null  category\n",
      " 22  Diabetes                                      414798 non-null  float64 \n",
      " 23  Heavy Drinker                                 414798 non-null  category\n",
      "dtypes: category(17), float64(7)\n",
      "memory usage: 32.0 MB\n"
=======
      "Int64Index: 310685 entries, 9962 to 401955\n",
      "Data columns (total 24 columns):\n",
      " #   Column                                        Non-Null Count   Dtype  \n",
      "---  ------                                        --------------   -----  \n",
      " 0   Age Category                                  310685 non-null  int64  \n",
      " 1   Sex                                           310685 non-null  int64  \n",
      " 2   Height                                        310685 non-null  float64\n",
      " 3   Weight                                        310685 non-null  float64\n",
      " 4   BMI                                           310685 non-null  float64\n",
      " 5   Marital Status                                310685 non-null  float64\n",
      " 6   Income Category                               310685 non-null  int64  \n",
      " 7   Education Level                               310685 non-null  int64  \n",
      " 8   General Health                                310685 non-null  float64\n",
      " 9   No of Days of Poor Physical Health            310685 non-null  float64\n",
      " 10  No of Days of Poor Mental Health              310685 non-null  float64\n",
      " 11  Total Sleeping Time                           310685 non-null  float64\n",
      " 12  Smoker Status                                 310685 non-null  int64  \n",
      " 13  Coronary Heart Disease/Myocardial Infarction  310685 non-null  float64\n",
      " 14  Stroke                                        310685 non-null  float64\n",
      " 15  Depressive Disorder                           310685 non-null  float64\n",
      " 16  Kidney Disease                                310685 non-null  float64\n",
      " 17  Cancer                                        310685 non-null  float64\n",
      " 18  Arthritis                                     310685 non-null  float64\n",
      " 19  Time since last routine checkup               310685 non-null  float64\n",
      " 20  High blood sugar/Diabetes Test                310685 non-null  float64\n",
      " 21  Workout                                       310685 non-null  int64  \n",
      " 22  Diabetes                                      310685 non-null  float64\n",
      " 23  Heavy Drinker                                 310685 non-null  int64  \n",
      "dtypes: float64(17), int64(7)\n",
      "memory usage: 59.3 MB\n"
>>>>>>> 3e90a1679471ee37c05cdadf35aa823e19a4e519
     ]
    }
   ],
   "source": [
<<<<<<< HEAD
    "selected_datas = [selected_data_2016, selected_data_2018, selected_data_2020]\n",
=======
    "selected_datas = [selected_data_2017, selected_data_2018, selected_data_2020]\n",
>>>>>>> 3e90a1679471ee37c05cdadf35aa823e19a4e519
    "selected_data = pd.concat(selected_datas)\n",
    "selected_data.info()"
   ]
  },
  {
<<<<<<< HEAD
   "cell_type": "markdown",
   "id": "6547bc65",
   "metadata": {},
   "source": [
    "### Exporting merged dataset to csv file"
   ]
  },
  {
   "cell_type": "code",
   "execution_count": 94,
=======
   "cell_type": "code",
   "execution_count": 93,
>>>>>>> 3e90a1679471ee37c05cdadf35aa823e19a4e519
   "id": "b18bb712",
   "metadata": {},
   "outputs": [],
   "source": [
    "selected_data.to_csv(\"Data/selected_data.csv\")"
   ]
<<<<<<< HEAD
=======
  },
  {
   "cell_type": "code",
   "execution_count": 94,
   "id": "7e99245e",
   "metadata": {},
   "outputs": [
    {
     "data": {
      "text/plain": [
       "0.0    288776\n",
       "1.0     21909\n",
       "Name: Coronary Heart Disease/Myocardial Infarction, dtype: int64"
      ]
     },
     "execution_count": 94,
     "metadata": {},
     "output_type": "execute_result"
    }
   ],
   "source": [
    "selected_data['Coronary Heart Disease/Myocardial Infarction'].value_counts()"
   ]
  },
  {
   "cell_type": "code",
   "execution_count": null,
   "id": "2b0cccf8",
   "metadata": {},
   "outputs": [],
   "source": []
>>>>>>> 3e90a1679471ee37c05cdadf35aa823e19a4e519
  }
 ],
 "metadata": {
  "colab": {
   "name": "Mini-project.ipynb",
   "provenance": []
  },
  "kernelspec": {
   "display_name": "Python 3 (ipykernel)",
   "language": "python",
   "name": "python3"
  },
  "language_info": {
   "codemirror_mode": {
    "name": "ipython",
    "version": 3
   },
   "file_extension": ".py",
   "mimetype": "text/x-python",
   "name": "python",
   "nbconvert_exporter": "python",
   "pygments_lexer": "ipython3",
   "version": "3.9.7"
  }
 },
 "nbformat": 4,
 "nbformat_minor": 5
}
