{
 "cells": [
  {
   "cell_type": "code",
   "execution_count": 1,
   "id": "998d020c",
   "metadata": {},
   "outputs": [],
   "source": [
    "import pandas as pd\n",
    "import numpy as np\n",
    "import matplotlib.pyplot  as plt\n",
    "import seaborn as sns\n",
    "import sklearn as sk\n",
    "import regex as re\n",
    "from sklearn.preprocessing import MinMaxScaler\n",
    "from sklearn.model_selection import train_test_split\n",
    "from sklearn.linear_model import LogisticRegression\n",
    "import matplotlib.pyplot as plt\n",
    "import seaborn as sns\n",
    "from sklearn import metrics"
   ]
  },
  {
   "cell_type": "code",
   "execution_count": 2,
   "id": "a72a7597",
   "metadata": {},
   "outputs": [],
   "source": [
    "#import data \n",
    "data = pd.read_csv(\"selected_data.csv\") \n",
    "data.drop(\"Unnamed: 0\",inplace=True, axis=1)\n"
   ]
  },
  {
   "cell_type": "code",
   "execution_count": 3,
   "id": "5956d5fe",
   "metadata": {},
   "outputs": [],
   "source": [
    "# Normalize the data \n",
    "scaler = MinMaxScaler()\n",
    "n = scaler.fit_transform(data)\n",
    "n_data = pd.DataFrame(n, columns = data.columns)"
   ]
  },
  {
   "cell_type": "code",
   "execution_count": 4,
   "id": "1ef06689",
   "metadata": {},
   "outputs": [],
   "source": [
    "data2 = n_data.copy()\n",
    "data2.drop('Coronary Heart Disease/Myocardial Infarction',inplace=True, axis=1)\n",
    "y = data2.iloc[:, :-1]\n",
    "x = n_data[\"Coronary Heart Disease/Myocardial Infarction\"]"
   ]
  },
  {
   "cell_type": "code",
   "execution_count": 5,
   "id": "a2e82038",
   "metadata": {},
   "outputs": [],
   "source": [
    "#Traning data\n",
    "x_train, x_test, y_train, y_test = train_test_split(y, x, test_size=0.25)\n",
    "logisticRegr = LogisticRegression(max_iter = 1000)\n"
   ]
  },
  {
   "cell_type": "code",
   "execution_count": 6,
   "id": "5db3702a",
   "metadata": {},
   "outputs": [
    {
     "data": {
      "text/plain": [
       "LogisticRegression(max_iter=1000)"
      ]
     },
     "execution_count": 6,
     "metadata": {},
     "output_type": "execute_result"
    }
   ],
   "source": [
    "logisticRegr.fit(x_train, y_train)"
   ]
  },
  {
   "cell_type": "code",
   "execution_count": 7,
   "id": "898bf206",
   "metadata": {},
   "outputs": [],
   "source": [
    "y_pred = logisticRegr.predict(x_test)"
   ]
  },
  {
   "cell_type": "code",
   "execution_count": 8,
   "id": "f9563b5b",
   "metadata": {},
   "outputs": [
    {
     "data": {
      "text/plain": [
       "<AxesSubplot:>"
      ]
     },
     "execution_count": 8,
     "metadata": {},
     "output_type": "execute_result"
    },
    {
     "data": {
      "image/png": "[encoded data removed]",
      "text/plain": [
       "<Figure size 432x288 with 2 Axes>"
      ]
     },
     "metadata": {
      "needs_background": "light"
     },
     "output_type": "display_data"
    }
   ],
   "source": [
    "#Confusion Matrix\n",
    "from sklearn.metrics import confusion_matrix\n",
    "cm =confusion_matrix(y_test, y_pred)\n",
    "sns.heatmap(cm, annot = True, fmt = \".0f\", annot_kws={'size' :18})"
   ]
  },
  {
   "cell_type": "code",
   "execution_count": 9,
   "id": "56e2f3d6",
   "metadata": {},
   "outputs": [
    {
     "name": "stdout",
     "output_type": "stream",
     "text": [
      "Metrics for Predicted data\n",
      "True Positive Rate: 5.56%\n",
      "True Negative Rate: 99.59%\n",
      "False Positive Rate: 5.21%\n",
      "False Negative Rate: 94.44%\n",
      "\n"
     ]
    }
   ],
   "source": [
    "#Evaluation\n",
    "print(\"Metrics for Predicted data\")\n",
    "tp = cm[1][1] # True Positives : Good (1) predicted Good (1)\n",
    "fp = cm[0][1] # False Positives : Bad (0) predicted Good (1)\n",
    "tn = cm[0][0] # True Negatives : Bad (0) predicted Bad (0)\n",
    "fn = cm[1][0] # False Negatives : Good (1) predicted Bad (0)\n",
    "\n",
    "\n",
    "print(\"True Positive Rate: {x}%\".format(x=round(100*tp/(tp+fn), 2)))\n",
    "print(\"True Negative Rate: {x}%\".format(x=round(100*tn/(tn+fp), 2)))\n",
    "print(\"False Positive Rate: {x}%\".format(x=round(100*fp/(fn+fp), 2)))\n",
    "print(\"False Negative Rate: {x}%\\n\".format(x=round(100*fn/(tp+fn), 2)))"
   ]
  },
  {
   "cell_type": "code",
   "execution_count": 11,
   "id": "7a7ef506",
   "metadata": {},
   "outputs": [
    {
     "name": "stdout",
     "output_type": "stream",
     "text": [
      "The Accuracy for Test Set is 92.65508397770878\n"
     ]
    }
   ],
   "source": [
    "from sklearn.metrics import accuracy_score\n",
    "test_acc = accuracy_score(y_test, y_pred)\n",
    "print(\"The Accuracy for Test Set is {}\".format(test_acc*100))"
   ]
  },
  {
   "cell_type": "code",
   "execution_count": 12,
   "id": "1b2e7b46",
   "metadata": {},
   "outputs": [
    {
     "name": "stdout",
     "output_type": "stream",
     "text": [
      "              precision    recall  f1-score   support\n",
      "\n",
      "         0.0       0.93      1.00      0.96     96072\n",
      "         1.0       0.52      0.06      0.10      7646\n",
      "\n",
      "    accuracy                           0.93    103718\n",
      "   macro avg       0.72      0.53      0.53    103718\n",
      "weighted avg       0.90      0.93      0.90    103718\n",
      "\n"
     ]
    }
   ],
   "source": [
    "# Print classification report\n",
    "from sklearn.metrics import classification_report\n",
    "print(classification_report(y_test, y_pred))"
   ]
  },
  {
   "cell_type": "code",
   "execution_count": 13,
   "id": "7c341324",
   "metadata": {
    "scrolled": true
   },
   "outputs": [
    {
     "name": "stdout",
     "output_type": "stream",
     "text": [
      "AUC - ROC Curve\n"
     ]
    },
    {
     "data": {
      "image/png": "[encoded data removed]",
      "text/plain": [
       "<Figure size 432x288 with 1 Axes>"
      ]
     },
     "metadata": {
      "needs_background": "light"
     },
     "output_type": "display_data"
    }
   ],
   "source": [
    "#AUC - ROC Curve\n",
    "print(\"AUC - ROC Curve\")\n",
    "y_pred_proba = logisticRegr.predict_proba(x_test)[::,1]\n",
    "fpr, tpr, _ = metrics.roc_curve(y_test,  y_pred_proba)\n",
    "auc = metrics.roc_auc_score(y_test, y_pred_proba)\n",
    "plt.plot(fpr,tpr,label=\"data 1, auc=\"+str(auc))\n",
    "plt.legend(loc=4)\n",
    "plt.show()"
   ]
  },
  {
   "cell_type": "code",
   "execution_count": 4,
   "id": "0ee37478",
   "metadata": {},
   "outputs": [],
   "source": [
    "import nbdev"
   ]
  },
  {
   "cell_type": "code",
   "execution_count": 5,
   "id": "848cbf32",
   "metadata": {},
   "outputs": [
    {
     "ename": "NameError",
     "evalue": "name 'nbdev_fix_merge' is not defined",
     "output_type": "error",
     "traceback": [
      "\u001b[1;31m---------------------------------------------------------------------------\u001b[0m",
      "\u001b[1;31mNameError\u001b[0m                                 Traceback (most recent call last)",
      "\u001b[1;32m~\\AppData\\Local\\Temp/ipykernel_6888/2286408347.py\u001b[0m in \u001b[0;36m<module>\u001b[1;34m\u001b[0m\n\u001b[1;32m----> 1\u001b[1;33m \u001b[0mnbdev_fix_merge\u001b[0m\u001b[1;33m(\u001b[0m\u001b[0mfname\u001b[0m\u001b[1;33m=\u001b[0m\u001b[1;34m\"exploratory_data_analysis.ipynb\"\u001b[0m\u001b[1;33m,\u001b[0m \u001b[0mfast\u001b[0m\u001b[1;33m=\u001b[0m\u001b[1;32mTrue\u001b[0m\u001b[1;33m,\u001b[0m \u001b[0mtrust_us\u001b[0m\u001b[1;33m=\u001b[0m\u001b[1;32mTrue\u001b[0m\u001b[1;33m)\u001b[0m\u001b[1;33m\u001b[0m\u001b[1;33m\u001b[0m\u001b[0m\n\u001b[0m",
      "\u001b[1;31mNameError\u001b[0m: name 'nbdev_fix_merge' is not defined"
     ]
    }
   ],
   "source": [
    "nbdev_fix_merge(fname=\"exploratory_data_analysis.ipynb\", fast=True, trust_us=True)"
   ]
  },
  {
   "cell_type": "code",
   "execution_count": null,
   "id": "d037b797",
   "metadata": {},
   "outputs": [],
   "source": []
  }
 ],
 "metadata": {
  "kernelspec": {
   "display_name": "Python 3 (ipykernel)",
   "language": "python",
   "name": "python3"
  },
  "language_info": {
   "codemirror_mode": {
    "name": "ipython",
    "version": 3
   },
   "file_extension": ".py",
   "mimetype": "text/x-python",
   "name": "python",
   "nbconvert_exporter": "python",
   "pygments_lexer": "ipython3",
   "version": "3.9.7"
  }
 },
 "nbformat": 4,
 "nbformat_minor": 5
}
