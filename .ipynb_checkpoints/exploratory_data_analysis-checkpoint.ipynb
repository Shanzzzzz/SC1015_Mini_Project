{
 "cells": [
  {
   "cell_type": "markdown",
   "id": "6b836bb0",
   "metadata": {},
   "source": [
    "# Exploratory Data Analysis"
   ]
  },
  {
   "cell_type": "markdown",
   "id": "0fb19428",
   "metadata": {},
   "source": [
    "### Importing essential libraries"
   ]
  },
  {
   "cell_type": "code",
   "execution_count": 1,
   "id": "e50ae463",
   "metadata": {},
   "outputs": [],
   "source": [
    "import numpy as np\n",
    "import pandas as pd\n",
    "import seaborn as sb\n",
    "import matplotlib.pyplot as plt\n",
    "import matplotlib.patches as mpatches\n",
    "import seaborn as sns\n",
    "sns.set()"
   ]
  },
  {
   "cell_type": "markdown",
   "id": "fd4d61d4",
   "metadata": {},
   "source": [
    "### Importing dataset "
   ]
  },
  {
   "cell_type": "code",
   "execution_count": 2,
   "id": "7cd225cc",
   "metadata": {},
   "outputs": [],
   "source": [
    "#Import basic libraries\n",
    "import numpy as np\n",
    "import pandas as pd\n",
    "import seaborn as sb\n",
    "import matplotlib.pyplot as plt\n",
    "import seaborn as sns"
   ]
  },
  {
   "cell_type": "code",
   "execution_count": 3,
   "id": "357eb9a1",
   "metadata": {},
   "outputs": [
    {
     "data": {
      "text/html": [
       "<div>\n",
       "<style scoped>\n",
       "    .dataframe tbody tr th:only-of-type {\n",
       "        vertical-align: middle;\n",
       "    }\n",
       "\n",
       "    .dataframe tbody tr th {\n",
       "        vertical-align: top;\n",
       "    }\n",
       "\n",
       "    .dataframe thead th {\n",
       "        text-align: right;\n",
       "    }\n",
       "</style>\n",
       "<table border=\"1\" class=\"dataframe\">\n",
       "  <thead>\n",
       "    <tr style=\"text-align: right;\">\n",
       "      <th></th>\n",
       "      <th>Age Category</th>\n",
       "      <th>Sex</th>\n",
       "      <th>Height</th>\n",
       "      <th>Weight</th>\n",
       "      <th>BMI</th>\n",
       "      <th>Marital Status</th>\n",
       "      <th>Income Category</th>\n",
       "      <th>Education Level</th>\n",
       "      <th>General Health</th>\n",
       "      <th>No of Days of Poor Physical Health</th>\n",
       "      <th>...</th>\n",
       "      <th>Stroke</th>\n",
       "      <th>Depressive Disorder</th>\n",
       "      <th>Kidney Disease</th>\n",
       "      <th>Cancer</th>\n",
       "      <th>Arthritis</th>\n",
       "      <th>Time since last routine checkup</th>\n",
       "      <th>High blood sugar/Diabetes Test</th>\n",
       "      <th>Workout</th>\n",
       "      <th>Diabetes</th>\n",
       "      <th>Heavy Drinker</th>\n",
       "    </tr>\n",
       "  </thead>\n",
       "  <tbody>\n",
       "    <tr>\n",
       "      <th>0</th>\n",
       "      <td>5</td>\n",
       "      <td>0</td>\n",
       "      <td>1.60</td>\n",
       "      <td>69.0</td>\n",
       "      <td>27.0</td>\n",
       "      <td>1.0</td>\n",
       "      <td>5</td>\n",
       "      <td>2</td>\n",
       "      <td>2.0</td>\n",
       "      <td>0.0</td>\n",
       "      <td>...</td>\n",
       "      <td>0.0</td>\n",
       "      <td>1.0</td>\n",
       "      <td>0.0</td>\n",
       "      <td>0.0</td>\n",
       "      <td>0.0</td>\n",
       "      <td>1.0</td>\n",
       "      <td>0.0</td>\n",
       "      <td>1</td>\n",
       "      <td>0.0</td>\n",
       "      <td>1</td>\n",
       "    </tr>\n",
       "    <tr>\n",
       "      <th>1</th>\n",
       "      <td>6</td>\n",
       "      <td>0</td>\n",
       "      <td>1.65</td>\n",
       "      <td>54.0</td>\n",
       "      <td>20.0</td>\n",
       "      <td>3.0</td>\n",
       "      <td>5</td>\n",
       "      <td>3</td>\n",
       "      <td>3.0</td>\n",
       "      <td>0.0</td>\n",
       "      <td>...</td>\n",
       "      <td>0.0</td>\n",
       "      <td>0.0</td>\n",
       "      <td>0.0</td>\n",
       "      <td>0.0</td>\n",
       "      <td>1.0</td>\n",
       "      <td>1.0</td>\n",
       "      <td>1.0</td>\n",
       "      <td>1</td>\n",
       "      <td>0.0</td>\n",
       "      <td>1</td>\n",
       "    </tr>\n",
       "    <tr>\n",
       "      <th>2</th>\n",
       "      <td>3</td>\n",
       "      <td>0</td>\n",
       "      <td>1.68</td>\n",
       "      <td>91.0</td>\n",
       "      <td>32.0</td>\n",
       "      <td>1.0</td>\n",
       "      <td>5</td>\n",
       "      <td>3</td>\n",
       "      <td>2.0</td>\n",
       "      <td>0.0</td>\n",
       "      <td>...</td>\n",
       "      <td>0.0</td>\n",
       "      <td>0.0</td>\n",
       "      <td>0.0</td>\n",
       "      <td>0.0</td>\n",
       "      <td>0.0</td>\n",
       "      <td>1.0</td>\n",
       "      <td>0.0</td>\n",
       "      <td>1</td>\n",
       "      <td>0.0</td>\n",
       "      <td>1</td>\n",
       "    </tr>\n",
       "    <tr>\n",
       "      <th>3</th>\n",
       "      <td>5</td>\n",
       "      <td>1</td>\n",
       "      <td>1.83</td>\n",
       "      <td>104.0</td>\n",
       "      <td>31.0</td>\n",
       "      <td>5.0</td>\n",
       "      <td>4</td>\n",
       "      <td>2</td>\n",
       "      <td>2.0</td>\n",
       "      <td>0.0</td>\n",
       "      <td>...</td>\n",
       "      <td>0.0</td>\n",
       "      <td>0.0</td>\n",
       "      <td>0.0</td>\n",
       "      <td>0.0</td>\n",
       "      <td>0.0</td>\n",
       "      <td>1.0</td>\n",
       "      <td>1.0</td>\n",
       "      <td>1</td>\n",
       "      <td>0.0</td>\n",
       "      <td>1</td>\n",
       "    </tr>\n",
       "    <tr>\n",
       "      <th>4</th>\n",
       "      <td>6</td>\n",
       "      <td>0</td>\n",
       "      <td>1.57</td>\n",
       "      <td>56.0</td>\n",
       "      <td>23.0</td>\n",
       "      <td>3.0</td>\n",
       "      <td>3</td>\n",
       "      <td>3</td>\n",
       "      <td>1.0</td>\n",
       "      <td>0.0</td>\n",
       "      <td>...</td>\n",
       "      <td>0.0</td>\n",
       "      <td>0.0</td>\n",
       "      <td>0.0</td>\n",
       "      <td>0.0</td>\n",
       "      <td>1.0</td>\n",
       "      <td>1.0</td>\n",
       "      <td>1.0</td>\n",
       "      <td>1</td>\n",
       "      <td>0.0</td>\n",
       "      <td>1</td>\n",
       "    </tr>\n",
       "  </tbody>\n",
       "</table>\n",
       "<p>5 rows × 24 columns</p>\n",
       "</div>"
      ],
      "text/plain": [
       "   Age Category  Sex  Height  Weight   BMI  Marital Status  Income Category  \\\n",
       "0             5    0    1.60    69.0  27.0             1.0                5   \n",
       "1             6    0    1.65    54.0  20.0             3.0                5   \n",
       "2             3    0    1.68    91.0  32.0             1.0                5   \n",
       "3             5    1    1.83   104.0  31.0             5.0                4   \n",
       "4             6    0    1.57    56.0  23.0             3.0                3   \n",
       "\n",
       "   Education Level  General Health  No of Days of Poor Physical Health  ...  \\\n",
       "0                2             2.0                                 0.0  ...   \n",
       "1                3             3.0                                 0.0  ...   \n",
       "2                3             2.0                                 0.0  ...   \n",
       "3                2             2.0                                 0.0  ...   \n",
       "4                3             1.0                                 0.0  ...   \n",
       "\n",
       "   Stroke  Depressive Disorder  Kidney Disease  Cancer  Arthritis  \\\n",
       "0     0.0                  1.0             0.0     0.0        0.0   \n",
       "1     0.0                  0.0             0.0     0.0        1.0   \n",
       "2     0.0                  0.0             0.0     0.0        0.0   \n",
       "3     0.0                  0.0             0.0     0.0        0.0   \n",
       "4     0.0                  0.0             0.0     0.0        1.0   \n",
       "\n",
       "   Time since last routine checkup  High blood sugar/Diabetes Test  Workout  \\\n",
       "0                              1.0                             0.0        1   \n",
       "1                              1.0                             1.0        1   \n",
       "2                              1.0                             0.0        1   \n",
       "3                              1.0                             1.0        1   \n",
       "4                              1.0                             1.0        1   \n",
       "\n",
       "   Diabetes  Heavy Drinker  \n",
       "0       0.0              1  \n",
       "1       0.0              1  \n",
       "2       0.0              1  \n",
       "3       0.0              1  \n",
       "4       0.0              1  \n",
       "\n",
       "[5 rows x 24 columns]"
      ]
     },
     "execution_count": 3,
     "metadata": {},
     "output_type": "execute_result"
    }
   ],
   "source": [
    "data = pd.read_csv('Data/selected_data.csv', index_col=0)\n",
    "data.reset_index(inplace=True, drop=True)\n",
    "data.head()"
   ]
  },
  {
   "cell_type": "markdown",
   "id": "4a7488e6",
   "metadata": {},
   "source": [
    "### Basic exploration of dataset"
   ]
  },
  {
   "cell_type": "code",
   "execution_count": 4,
   "id": "282dffae",
   "metadata": {
    "scrolled": false
   },
   "outputs": [
    {
     "name": "stdout",
     "output_type": "stream",
     "text": [
      "<class 'pandas.core.frame.DataFrame'>\n",
      "RangeIndex: 414871 entries, 0 to 414870\n",
      "Data columns (total 24 columns):\n",
      " #   Column                                        Non-Null Count   Dtype  \n",
      "---  ------                                        --------------   -----  \n",
      " 0   Age Category                                  414871 non-null  int64  \n",
      " 1   Sex                                           414871 non-null  int64  \n",
      " 2   Height                                        414871 non-null  float64\n",
      " 3   Weight                                        414871 non-null  float64\n",
      " 4   BMI                                           414871 non-null  float64\n",
      " 5   Marital Status                                414871 non-null  float64\n",
      " 6   Income Category                               414871 non-null  int64  \n",
      " 7   Education Level                               414871 non-null  int64  \n",
      " 8   General Health                                414871 non-null  float64\n",
      " 9   No of Days of Poor Physical Health            414871 non-null  float64\n",
      " 10  No of Days of Poor Mental Health              414871 non-null  float64\n",
      " 11  Total Sleeping Time                           414871 non-null  float64\n",
      " 12  Smoker Status                                 414871 non-null  int64  \n",
      " 13  Coronary Heart Disease/Myocardial Infarction  414871 non-null  float64\n",
      " 14  Stroke                                        414871 non-null  float64\n",
      " 15  Depressive Disorder                           414871 non-null  float64\n",
      " 16  Kidney Disease                                414871 non-null  float64\n",
      " 17  Cancer                                        414871 non-null  float64\n",
      " 18  Arthritis                                     414871 non-null  float64\n",
      " 19  Time since last routine checkup               414871 non-null  float64\n",
      " 20  High blood sugar/Diabetes Test                414871 non-null  float64\n",
      " 21  Workout                                       414871 non-null  int64  \n",
      " 22  Diabetes                                      414871 non-null  float64\n",
      " 23  Heavy Drinker                                 414871 non-null  int64  \n",
      "dtypes: float64(17), int64(7)\n",
      "memory usage: 76.0 MB\n"
     ]
    }
   ],
   "source": [
    "data.info()"
   ]
  },
  {
   "cell_type": "markdown",
   "id": "3301c123",
   "metadata": {},
   "source": [
    "The variable Coronary Heart Disease/Myocardial Infarction is renamed to CHD/MI for easier visualisation as it is our respondent variable."
   ]
  },
  {
   "cell_type": "code",
   "execution_count": 5,
   "id": "db3671a3",
   "metadata": {},
   "outputs": [],
   "source": [
    "data = data.rename(columns = {'Coronary Heart Disease/Myocardial Infarction':'CHD/MI'})"
   ]
  },
  {
   "cell_type": "markdown",
   "id": "b9a3b71e",
   "metadata": {},
   "source": [
    "## Numerical Variables"
   ]
  },
  {
   "cell_type": "markdown",
   "id": "b06d6606",
   "metadata": {},
   "source": [
    "### The numerical variables are:\n",
    "Height, Weight, BMI, Physical Health,  Mental Health, Total Sleep"
   ]
  },
  {
   "cell_type": "code",
   "execution_count": 6,
   "id": "69560053",
   "metadata": {},
   "outputs": [
    {
     "ename": "KeyError",
     "evalue": "\"['Physical Health', 'Mental Health', 'Total Sleep'] not in index\"",
     "output_type": "error",
     "traceback": [
      "\u001b[1;31m---------------------------------------------------------------------------\u001b[0m",
      "\u001b[1;31mKeyError\u001b[0m                                  Traceback (most recent call last)",
      "\u001b[1;32m~\\AppData\\Local\\Temp/ipykernel_21584/4229049862.py\u001b[0m in \u001b[0;36m<module>\u001b[1;34m\u001b[0m\n\u001b[0;32m      1\u001b[0m \u001b[0mnum_var\u001b[0m \u001b[1;33m=\u001b[0m \u001b[1;33m[\u001b[0m\u001b[1;34m'Height'\u001b[0m\u001b[1;33m,\u001b[0m \u001b[1;34m'Weight'\u001b[0m\u001b[1;33m,\u001b[0m \u001b[1;34m'BMI'\u001b[0m\u001b[1;33m,\u001b[0m \u001b[1;34m'Physical Health'\u001b[0m\u001b[1;33m,\u001b[0m \u001b[1;34m'Mental Health'\u001b[0m\u001b[1;33m,\u001b[0m \u001b[1;34m'Total Sleep'\u001b[0m\u001b[1;33m]\u001b[0m\u001b[1;33m\u001b[0m\u001b[1;33m\u001b[0m\u001b[0m\n\u001b[0;32m      2\u001b[0m \u001b[1;33m\u001b[0m\u001b[0m\n\u001b[1;32m----> 3\u001b[1;33m \u001b[0mnum_data\u001b[0m \u001b[1;33m=\u001b[0m \u001b[0mpd\u001b[0m\u001b[1;33m.\u001b[0m\u001b[0mDataFrame\u001b[0m\u001b[1;33m(\u001b[0m\u001b[0mdata\u001b[0m\u001b[1;33m[\u001b[0m\u001b[0mnum_var\u001b[0m\u001b[1;33m]\u001b[0m\u001b[1;33m)\u001b[0m\u001b[1;33m\u001b[0m\u001b[1;33m\u001b[0m\u001b[0m\n\u001b[0m\u001b[0;32m      4\u001b[0m \u001b[0mnum_data\u001b[0m\u001b[1;33m.\u001b[0m\u001b[0mhead\u001b[0m\u001b[1;33m(\u001b[0m\u001b[1;33m)\u001b[0m\u001b[1;33m\u001b[0m\u001b[1;33m\u001b[0m\u001b[0m\n",
      "\u001b[1;32m~\\anaconda3\\lib\\site-packages\\pandas\\core\\frame.py\u001b[0m in \u001b[0;36m__getitem__\u001b[1;34m(self, key)\u001b[0m\n\u001b[0;32m   3462\u001b[0m             \u001b[1;32mif\u001b[0m \u001b[0mis_iterator\u001b[0m\u001b[1;33m(\u001b[0m\u001b[0mkey\u001b[0m\u001b[1;33m)\u001b[0m\u001b[1;33m:\u001b[0m\u001b[1;33m\u001b[0m\u001b[1;33m\u001b[0m\u001b[0m\n\u001b[0;32m   3463\u001b[0m                 \u001b[0mkey\u001b[0m \u001b[1;33m=\u001b[0m \u001b[0mlist\u001b[0m\u001b[1;33m(\u001b[0m\u001b[0mkey\u001b[0m\u001b[1;33m)\u001b[0m\u001b[1;33m\u001b[0m\u001b[1;33m\u001b[0m\u001b[0m\n\u001b[1;32m-> 3464\u001b[1;33m             \u001b[0mindexer\u001b[0m \u001b[1;33m=\u001b[0m \u001b[0mself\u001b[0m\u001b[1;33m.\u001b[0m\u001b[0mloc\u001b[0m\u001b[1;33m.\u001b[0m\u001b[0m_get_listlike_indexer\u001b[0m\u001b[1;33m(\u001b[0m\u001b[0mkey\u001b[0m\u001b[1;33m,\u001b[0m \u001b[0maxis\u001b[0m\u001b[1;33m=\u001b[0m\u001b[1;36m1\u001b[0m\u001b[1;33m)\u001b[0m\u001b[1;33m[\u001b[0m\u001b[1;36m1\u001b[0m\u001b[1;33m]\u001b[0m\u001b[1;33m\u001b[0m\u001b[1;33m\u001b[0m\u001b[0m\n\u001b[0m\u001b[0;32m   3465\u001b[0m \u001b[1;33m\u001b[0m\u001b[0m\n\u001b[0;32m   3466\u001b[0m         \u001b[1;31m# take() does not accept boolean indexers\u001b[0m\u001b[1;33m\u001b[0m\u001b[1;33m\u001b[0m\u001b[0m\n",
      "\u001b[1;32m~\\anaconda3\\lib\\site-packages\\pandas\\core\\indexing.py\u001b[0m in \u001b[0;36m_get_listlike_indexer\u001b[1;34m(self, key, axis)\u001b[0m\n\u001b[0;32m   1312\u001b[0m             \u001b[0mkeyarr\u001b[0m\u001b[1;33m,\u001b[0m \u001b[0mindexer\u001b[0m\u001b[1;33m,\u001b[0m \u001b[0mnew_indexer\u001b[0m \u001b[1;33m=\u001b[0m \u001b[0max\u001b[0m\u001b[1;33m.\u001b[0m\u001b[0m_reindex_non_unique\u001b[0m\u001b[1;33m(\u001b[0m\u001b[0mkeyarr\u001b[0m\u001b[1;33m)\u001b[0m\u001b[1;33m\u001b[0m\u001b[1;33m\u001b[0m\u001b[0m\n\u001b[0;32m   1313\u001b[0m \u001b[1;33m\u001b[0m\u001b[0m\n\u001b[1;32m-> 1314\u001b[1;33m         \u001b[0mself\u001b[0m\u001b[1;33m.\u001b[0m\u001b[0m_validate_read_indexer\u001b[0m\u001b[1;33m(\u001b[0m\u001b[0mkeyarr\u001b[0m\u001b[1;33m,\u001b[0m \u001b[0mindexer\u001b[0m\u001b[1;33m,\u001b[0m \u001b[0maxis\u001b[0m\u001b[1;33m)\u001b[0m\u001b[1;33m\u001b[0m\u001b[1;33m\u001b[0m\u001b[0m\n\u001b[0m\u001b[0;32m   1315\u001b[0m \u001b[1;33m\u001b[0m\u001b[0m\n\u001b[0;32m   1316\u001b[0m         if needs_i8_conversion(ax.dtype) or isinstance(\n",
      "\u001b[1;32m~\\anaconda3\\lib\\site-packages\\pandas\\core\\indexing.py\u001b[0m in \u001b[0;36m_validate_read_indexer\u001b[1;34m(self, key, indexer, axis)\u001b[0m\n\u001b[0;32m   1375\u001b[0m \u001b[1;33m\u001b[0m\u001b[0m\n\u001b[0;32m   1376\u001b[0m             \u001b[0mnot_found\u001b[0m \u001b[1;33m=\u001b[0m \u001b[0mlist\u001b[0m\u001b[1;33m(\u001b[0m\u001b[0mensure_index\u001b[0m\u001b[1;33m(\u001b[0m\u001b[0mkey\u001b[0m\u001b[1;33m)\u001b[0m\u001b[1;33m[\u001b[0m\u001b[0mmissing_mask\u001b[0m\u001b[1;33m.\u001b[0m\u001b[0mnonzero\u001b[0m\u001b[1;33m(\u001b[0m\u001b[1;33m)\u001b[0m\u001b[1;33m[\u001b[0m\u001b[1;36m0\u001b[0m\u001b[1;33m]\u001b[0m\u001b[1;33m]\u001b[0m\u001b[1;33m.\u001b[0m\u001b[0munique\u001b[0m\u001b[1;33m(\u001b[0m\u001b[1;33m)\u001b[0m\u001b[1;33m)\u001b[0m\u001b[1;33m\u001b[0m\u001b[1;33m\u001b[0m\u001b[0m\n\u001b[1;32m-> 1377\u001b[1;33m             \u001b[1;32mraise\u001b[0m \u001b[0mKeyError\u001b[0m\u001b[1;33m(\u001b[0m\u001b[1;34mf\"{not_found} not in index\"\u001b[0m\u001b[1;33m)\u001b[0m\u001b[1;33m\u001b[0m\u001b[1;33m\u001b[0m\u001b[0m\n\u001b[0m\u001b[0;32m   1378\u001b[0m \u001b[1;33m\u001b[0m\u001b[0m\n\u001b[0;32m   1379\u001b[0m \u001b[1;33m\u001b[0m\u001b[0m\n",
      "\u001b[1;31mKeyError\u001b[0m: \"['Physical Health', 'Mental Health', 'Total Sleep'] not in index\""
     ]
    }
   ],
   "source": [
    "num_var = ['Height', 'Weight', 'BMI', 'Physical Health', 'Mental Health', 'Total Sleep']\n",
    "\n",
    "num_data = pd.DataFrame(data[num_var])\n",
    "num_data.head()"
   ]
  },
  {
   "cell_type": "code",
   "execution_count": null,
   "id": "c6624994",
   "metadata": {
    "scrolled": true
   },
   "outputs": [],
   "source": [
    "num_data.describe()"
   ]
  },
  {
   "cell_type": "code",
   "execution_count": null,
   "id": "49306c47",
   "metadata": {},
   "outputs": [],
   "source": [
    "num_data.info()"
   ]
  },
  {
   "cell_type": "markdown",
   "id": "8033f9a7",
   "metadata": {},
   "source": [
    "Plot the boxplot, histogram, violin plot and pairplot for the numerical variables"
   ]
  },
  {
   "cell_type": "code",
   "execution_count": null,
   "id": "8bb2abe5",
   "metadata": {
    "scrolled": false
   },
   "outputs": [],
   "source": [
    "#Draw the distributions of all variables\n",
    "f, axes = plt.subplots(6, 3, figsize=(18, 24))\n",
    "\n",
    "axes[1][1].set_xlim([20, 300])\n",
    "\n",
    "w = 1\n",
    "count = 0\n",
    "for var in num_data:\n",
    "    sb.boxplot(data = num_data[var], orient = \"h\", ax = axes[count,0])\n",
    "    sb.histplot(data = num_data[var], ax = axes[count,1], bins=np.arange(num_data[var].min(), num_data[var].max() + w, w))\n",
    "    sb.violinplot(data = num_data[var], orient = \"h\", ax = axes[count,2])\n",
    "    count += 1"
   ]
  },
  {
   "cell_type": "markdown",
   "id": "304a1786",
   "metadata": {},
   "source": [
    "We want to observe the relationship between the variables and heart disease. Hence, Coronary Heart Disease/Myocardial Infarction is added to the dataset."
   ]
  },
  {
   "cell_type": "code",
   "execution_count": null,
   "id": "3b439e81",
   "metadata": {},
   "outputs": [],
   "source": [
    "num_data = pd.concat([num_data, data['CHD/MI']], axis = 1)"
   ]
  },
  {
   "cell_type": "markdown",
   "id": "2bb2c524",
   "metadata": {},
   "source": [
    "Plot a heatmap to analyse the correlation for the numerical variables "
   ]
  },
  {
   "cell_type": "code",
   "execution_count": null,
   "id": "2fb0a09e",
   "metadata": {
    "scrolled": false
   },
   "outputs": [],
   "source": [
    "# Correlation Matrix\n",
    "print(num_data.corr())\n",
    "\n",
    "sns.set(font_scale=1.2)\n",
    "# Plot the heatmap for the corr matrixb\n",
    "f = plt.figure(figsize=(16, 16))\n",
    "sb.heatmap(num_data.corr(), vmin = -1, vmax = 1, linewidths = 1,\n",
    "           annot = True, fmt = \".2f\", annot_kws = {\"size\": 12})\n"
   ]
  },
  {
   "cell_type": "markdown",
   "id": "26f0f613",
   "metadata": {},
   "source": [
    "We observe that there is hardly any correlation between CHD/MI and the numerical variables. However, they could have a non-linear relationship."
   ]
  },
  {
   "cell_type": "code",
   "execution_count": null,
   "id": "2866b55e",
   "metadata": {},
   "outputs": [],
   "source": [
    "num_data.describe()"
   ]
  },
  {
   "cell_type": "markdown",
   "id": "e170bfe0",
   "metadata": {},
   "source": [
    "Next, the numerical variables are plotted against CHD/MI to observe the distribution of values."
   ]
  },
  {
   "cell_type": "code",
   "execution_count": null,
   "id": "3ccee65c",
   "metadata": {
    "scrolled": false
   },
   "outputs": [],
   "source": [
    "num_var = ['Height', 'Weight', 'BMI', 'Physical Health', 'Mental Health', 'Total Sleep']\n",
    "\n",
    "sb.set(font_scale=1)\n",
    "f, axes = plt.subplots(6,1,figsize=(16,24))\n",
    "count = 0\n",
    "for var in num_var:\n",
    "    sb.boxplot(x = var, y = 'CHD/MI', data = data, orient = 'h', ax = axes[count])\n",
    "    count += 1"
   ]
  },
  {
   "cell_type": "markdown",
   "id": "aea30dcf",
   "metadata": {},
   "source": [
    "It can be seen that most of the distributions are similar except physical health and weight. <br>\n",
    "Physical Health here denotes the number of days of poor physical health the respondent experienced in the past 30 days and it shows that people who have more poor days might be more likely to have heart disease. <br>\n",
    "There is a small difference in the distribution of Weight that indicates people with higher weight might be more likely to have heart disease."
   ]
  },
  {
   "cell_type": "markdown",
   "id": "c6014846",
   "metadata": {},
   "source": [
    "## Categorical Variables"
   ]
  },
  {
   "cell_type": "markdown",
   "id": "e3aae366",
   "metadata": {},
   "source": [
    "### The categorical variables are:\n",
    "Age Category, Sex, Marital Status, Income Category, Education Level, General Health, Physical Health, Mental Health, Total Sleep, Smoker Status, Coronary Heart Disease/Myocardial Infarction, Stroke, Depressive Disorder, Kidney Disease, Cancer, Arthritis, Time since last routine checkup, Heavy Drinker, High blood sugar/Diabetes Test, Workout, Diabetes"
   ]
  },
  {
   "cell_type": "code",
   "execution_count": null,
   "id": "4a2e1e47",
   "metadata": {},
   "outputs": [],
   "source": [
    "#Drop the numerical variables to obtain the categorical data\n",
    "num_var = ['Height', 'Weight', 'BMI', 'Physical Health', 'Mental Health', 'Total Sleep']\n",
    "\n",
    "cat_data = data.drop(columns=num_var)\n",
    "cat_data.head()"
   ]
  },
  {
   "cell_type": "code",
   "execution_count": null,
   "id": "697b330b",
   "metadata": {},
   "outputs": [],
   "source": [
    "cat_data.info()"
   ]
  },
  {
   "cell_type": "markdown",
   "id": "7610e586",
   "metadata": {},
   "source": [
    "Convert the variables to categorical."
   ]
  },
  {
   "cell_type": "code",
   "execution_count": null,
   "id": "3de9f68b",
   "metadata": {},
   "outputs": [],
   "source": [
    "cat_data = cat_data.astype('category')\n",
    "cat_data.info()"
   ]
  },
  {
   "cell_type": "code",
   "execution_count": null,
   "id": "ba9ffb71",
   "metadata": {},
   "outputs": [],
   "source": [
    "cat_data.describe()"
   ]
  },
  {
   "cell_type": "markdown",
   "id": "1aa77f67",
   "metadata": {},
   "source": [
    "Plot the countplot for the categorical variables."
   ]
  },
  {
   "cell_type": "code",
   "execution_count": null,
   "id": "d010962b",
   "metadata": {
    "scrolled": false
   },
   "outputs": [],
   "source": [
    "f, axes = plt.subplots(18, 1, figsize=(16,80))\n",
    "\n",
    "sb.set(font_scale=1)\n",
    "count = 0\n",
    "for var in cat_data:\n",
    "    sb.countplot(y = var, data = cat_data, ax = axes[count])\n",
    "    count += 1"
   ]
  },
  {
   "cell_type": "markdown",
   "id": "3cb6a11d",
   "metadata": {},
   "source": [
    "To check the effect of the categorical variables on CHD/MI. Stacked Bar Chart (SBC) is used because we considered that our dataset is very imbalanced. SBC can show the percentage of CHD/MI values at each category level which allows better comparison between the different levels."
   ]
  },
  {
   "cell_type": "code",
   "execution_count": null,
   "id": "2ac272b2",
   "metadata": {
    "scrolled": false
   },
   "outputs": [],
   "source": [
    "#Stacked Bar Chart\n",
    "plt.figure(figsize=(32,14))\n",
    "for var in cat_data:\n",
    "    table=pd.crosstab(data[var],data['CHD/MI'])\n",
    "    table.div(table.sum(1).astype(float), axis=0).plot(kind='bar', stacked=True)\n",
    "    plt.xlabel(var)\n",
    "    plt.ylabel('CHD/MI')\n",
    "    plt.legend(loc=3)\n",
    "    plt.xticks(rotation=0)"
   ]
  },
  {
   "cell_type": "markdown",
   "id": "762b1111",
   "metadata": {},
   "source": [
    "The observations are as follow:\n",
    "- Age Category: The likelihood of having CHD/MI increases with age\n",
    "- Sex: Men has a slightly higher percentage of having CHD/MI\n",
    "- Marital Status: Widowed respondents are more likely to have CHD/MI compared to the other statuses\n",
    "- Income Category: Decreasing trend of CHD/MI as income increases\n",
    "- Education Level: Higher education levels show lower CHD/MI percentage\n",
    "- General Health (Higher value indicates poorer health): The trend could be because of having CHD/MI affects the respondent's answer\n",
    "- Smoker Status: Percentage of respondent who has CHD/MI is lower for the Never Smoked category\n",
    "- Stroke: Respondent who has stroke are more likely to have CHD/MI\n",
    "- Depressive Disorder: Respondent with depressive disorder has a higher percentage of CHD/MI\n",
    "- Kidney Disease: The percentage of CHD/MI values of kidney disease patients are higher\n",
    "- Cander: Cancer patients are more likely to have CHD/MI\n",
    "- Arthritis: Having arthritis indicates a higher chance of the respondent having CHD/MI\n",
    "- Time since last routine checkup: Results show that recent medical checkups might mean the respondent is more likely to have CHD/MI\n",
    "- High blood sugar/Diabetes Test: Chart shows that test for high blood sugar or diabetes within past three years points to slightly higher percentage of having CHD/MI \n",
    "- Workout: People who workout have a lower chance of having CHD/MI\n",
    "- Diabetes: Diabetes patients have a higher percentage of having CHD/MI\n",
    "- Heavy Drinker: Heavy drinkers are slightly more likely to have CHD/MI\n"
   ]
  },
  {
   "cell_type": "markdown",
   "id": "ce56ea08",
   "metadata": {},
   "source": [
    "## Principal Component Analysis (PCA)"
   ]
  },
  {
   "cell_type": "code",
   "execution_count": null,
   "id": "b568b0ce",
   "metadata": {},
   "outputs": [],
   "source": [
    "from sklearn.preprocessing import StandardScaler\n",
    "from sklearn.decomposition import PCA\n",
    "\n",
    "# Drop target \n",
    "drop_list = [ 'CHD/MI']\n",
    "features = list(data.drop(drop_list, axis=1).columns)\n",
    "\n",
    "# Standardise the data \n",
    "x = data.loc[:, features].values\n",
    "y = data.loc[:, ['CHD/MI']].values\n",
    "x = StandardScaler().fit_transform(x)\n",
    "\n",
    "pd.DataFrame(data = x, columns = features).head()"
   ]
  },
  {
   "cell_type": "code",
   "execution_count": null,
   "id": "e8f671a5",
   "metadata": {},
   "outputs": [],
   "source": [
    "from sklearn.preprocessing import StandardScaler\n",
    "from sklearn.decomposition import PCA\n",
    "\n",
    "# Drop target \n",
    "drop_list = ['CHD/MI']\n",
    "features = list(data.drop(drop_list, axis=1).columns)\n",
    "\n",
    "# Standardise the data \n",
    "x = data.loc[:, features].values\n",
    "y = data.loc[:, ['CHD/MI']].values\n",
    "x = StandardScaler().fit_transform(x)\n",
    "\n",
    "pd.DataFrame(data = x, columns = features).head()"
   ]
  },
  {
   "cell_type": "markdown",
   "id": "13e44974",
   "metadata": {},
   "source": [
    "Principle Component Analysis (PCA)\n",
    "Purpose of PCA: simplifies the complexity in high-dimensional data while retaining trends and patterns\n",
    "Since PCA yields a feature subspace that maximizes the variance along the axes, \n",
    "it makes sense to standardize the data,  which is a requirement for the optimal performance of \n",
    "many machine learning algorithms."
   ]
  },
  {
   "cell_type": "code",
   "execution_count": null,
   "id": "324a2c48",
   "metadata": {},
   "outputs": [],
   "source": [
    "# Importing key libraries for PCA \n",
    "\n",
    "from sklearn.decomposition import PCA\n",
    "\n",
    "## Visualising result from PCA \n",
    "\n",
    "# Checking min no. of principal component to retain 90% of the variance \n",
    "pca = PCA(.90)   \n",
    "pca.fit(x)\n",
    "n = pca.n_components_\n",
    "\n",
    "# PCA Projection to n dimension\n",
    "pca_x = pca.fit_transform(x)\n",
    "pca_names = ['PCA_{x}'.format(x=num) for num in range(1,n+1)]\n",
    "pca_data = pd.DataFrame(data=pca_x, columns=pca_names)\n",
    "\n",
    "f_data = pd.concat([pca_data, data['CHD/MI']], axis=1)"
   ]
  },
  {
   "cell_type": "code",
   "execution_count": null,
   "id": "7f88da57",
   "metadata": {},
   "outputs": [],
   "source": [
    "## Explained Variance plot for 90% explained variance\n",
    "f, axes = plt.subplots(1,1, figsize = (13, 5))\n",
    "total = pca.explained_variance_ratio_.sum()*100\n",
    "\n",
    "print(\"Total Explained Variance: {:.2f}%\".format(total))\n",
    "sns.barplot(x=pca_names, y=pca.explained_variance_ratio_)"
   ]
  },
  {
   "cell_type": "markdown",
   "id": "c95f4462",
   "metadata": {},
   "source": [
    "PCA Projection to 2D"
   ]
  },
  {
   "cell_type": "code",
   "execution_count": null,
   "id": "aea80542",
   "metadata": {},
   "outputs": [],
   "source": [
    "pca = PCA(n_components=2)"
   ]
  },
  {
   "cell_type": "code",
   "execution_count": null,
   "id": "cdfa7ebe",
   "metadata": {},
   "outputs": [],
   "source": [
    "principalComponents = pca.fit_transform(x)"
   ]
  },
  {
   "cell_type": "code",
   "execution_count": null,
   "id": "27ab0c3b",
   "metadata": {},
   "outputs": [],
   "source": [
    "principalDf = pd.DataFrame(data = principalComponents\n",
    "             , columns = ['principal component 1', 'principal component 2'])"
   ]
  },
  {
   "cell_type": "code",
   "execution_count": null,
   "id": "25bf3af8",
   "metadata": {},
   "outputs": [],
   "source": [
    "finalDf = pd.concat([principalDf, data[['CHD/MI']]], axis = 1)\n",
    "finalDf.head(5)"
   ]
  },
  {
   "cell_type": "code",
   "execution_count": null,
   "id": "56d9b289",
   "metadata": {},
   "outputs": [],
   "source": [
    "# Use a PCA projection to 2d to visualize the entire data set. \n",
    "fig = plt.figure(figsize = (8,8))\n",
    "ax = fig.add_subplot(1,1,1) \n",
    "ax.set_xlabel('Principal Component 1', fontsize = 15)\n",
    "ax.set_ylabel('Principal Component 2', fontsize = 15)\n",
    "ax.set_title('2 Component PCA', fontsize = 20)\n",
    "\n",
    "\n",
    "targets = [0, 1]\n",
    "colors = ['r', 'g']\n",
    "for target, color in zip(targets,colors):\n",
    "    indicesToKeep = finalDf['CHD/MI'] == target\n",
    "    ax.scatter(finalDf.loc[indicesToKeep, 'principal component 1']\n",
    "               , finalDf.loc[indicesToKeep, 'principal component 2']\n",
    "               , c = color\n",
    "               , s = 50)\n",
    "ax.legend(targets)\n",
    "ax.grid()"
   ]
  },
  {
   "cell_type": "markdown",
   "id": "3eafc56c",
   "metadata": {},
   "source": [
    "The explained variance tells us how much information (variance) can be attributed to each of the \n",
    "principal components."
   ]
  },
  {
   "cell_type": "code",
   "execution_count": null,
   "id": "6d76a7c1",
   "metadata": {},
   "outputs": [],
   "source": [
    "print('Explained variation per principal component: {}'.format(pca.explained_variance_ratio_))"
   ]
  }
 ],
 "metadata": {
  "kernelspec": {
   "display_name": "Python 3 (ipykernel)",
   "language": "python",
   "name": "python3"
  },
  "language_info": {
   "codemirror_mode": {
    "name": "ipython",
    "version": 3
   },
   "file_extension": ".py",
   "mimetype": "text/x-python",
   "name": "python",
   "nbconvert_exporter": "python",
   "pygments_lexer": "ipython3",
   "version": "3.9.7"
  }
 },
 "nbformat": 4,
 "nbformat_minor": 5
}
