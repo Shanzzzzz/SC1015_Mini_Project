{
 "cells": [
  {
   "cell_type": "markdown",
   "id": "ee014cf4",
   "metadata": {},
   "source": [
    "# Data Splitting and Resampling"
   ]
  },
  {
   "cell_type": "markdown",
   "id": "6153f9d2",
   "metadata": {},
   "source": [
    "## Importing essential libraries"
   ]
  },
  {
   "cell_type": "code",
   "execution_count": 1,
   "id": "4d3f649d",
   "metadata": {},
   "outputs": [],
   "source": [
    "# Import basic libraries\n",
    "import numpy as np\n",
    "import pandas as pd\n",
    "import sklearn\n",
    "import seaborn as sb\n",
    "import matplotlib.pyplot as plt\n",
    "\n",
    "from sklearn.model_selection import train_test_split\n",
    "\n",
    "from imblearn.under_sampling import TomekLinks\n",
    "from imblearn.combine import SMOTEENN \n",
    "from imblearn.combine import SMOTETomek"
   ]
  },
  {
   "cell_type": "markdown",
   "id": "ac1a9254",
   "metadata": {},
   "source": [
    "## Splitting the dataset into train and test data"
   ]
  },
  {
   "cell_type": "code",
   "execution_count": 2,
   "id": "5a6b79bb",
   "metadata": {},
   "outputs": [
    {
     "data": {
      "text/plain": [
       "0.0    384638\n",
       "1.0     30161\n",
       "Name: Coronary Heart Disease/Myocardial Infarction, dtype: int64"
      ]
     },
     "execution_count": 2,
     "metadata": {},
     "output_type": "execute_result"
    }
   ],
   "source": [
    "# Import filtered data\n",
    "selected_data = pd.read_csv('Data/selected_data.csv', index_col = 0)\n",
    "selected_data['Coronary Heart Disease/Myocardial Infarction'].value_counts()"
   ]
  },
  {
   "cell_type": "code",
   "execution_count": 3,
   "id": "69563e32",
   "metadata": {},
   "outputs": [],
   "source": [
    "train_data, test_data = train_test_split(selected_data, test_size = 0.2, random_state = 516)\n",
    "train_data, val_data = train_test_split(train_data, test_size = 0.2, random_state = 516)"
   ]
  },
  {
   "cell_type": "code",
   "execution_count": 4,
   "id": "f484ba84",
   "metadata": {
    "scrolled": false
   },
   "outputs": [
    {
     "data": {
      "text/plain": [
       "<seaborn.axisgrid.FacetGrid at 0x1fdddf9e160>"
      ]
     },
     "execution_count": 4,
     "metadata": {},
     "output_type": "execute_result"
    },
    {
     "data": {
      "image/png": "[encoded data removed]",
      "text/plain": [
       "<Figure size 432x432 with 1 Axes>"
      ]
     },
     "metadata": {
      "needs_background": "light"
     },
     "output_type": "display_data"
    }
   ],
   "source": [
    "#Visualizing the imbalanced dataset\n",
    "sb.catplot(x = 'Coronary Heart Disease/Myocardial Infarction', data = train_data, kind = \"count\", height = 6)"
   ]
  },
  {
   "cell_type": "code",
   "execution_count": 5,
   "id": "11b68874",
   "metadata": {},
   "outputs": [
    {
     "data": {
      "text/plain": [
       "19286"
      ]
     },
     "execution_count": 5,
     "metadata": {},
     "output_type": "execute_result"
    }
   ],
   "source": [
    "# Setting up labels for resampling techniques\n",
    "labels = train_data['Coronary Heart Disease/Myocardial Infarction'] == 1\n",
    "labels = [1 if x==True else 0 for x in labels]\n",
    "labels.count(1)"
   ]
  },
  {
   "cell_type": "markdown",
   "id": "32128cbc",
   "metadata": {},
   "source": [
    "## Resampling"
   ]
  },
  {
   "cell_type": "markdown",
   "id": "ebad3531",
   "metadata": {},
   "source": [
    "### TomekLinks (Under-sampling)"
   ]
  },
  {
   "cell_type": "code",
   "execution_count": 6,
   "id": "26d18702",
   "metadata": {},
   "outputs": [],
   "source": [
    "tl = TomekLinks()"
   ]
  },
  {
   "cell_type": "code",
   "execution_count": 7,
   "id": "cfb9967d",
   "metadata": {},
   "outputs": [],
   "source": [
    "tomek_data, tomek_labels = tl.fit_resample(train_data, labels)"
   ]
  },
  {
   "cell_type": "code",
   "execution_count": 8,
   "id": "ee7d3c52",
   "metadata": {},
   "outputs": [
    {
     "data": {
      "text/plain": [
       "0.0    242237\n",
       "1.0     19286\n",
       "Name: Coronary Heart Disease/Myocardial Infarction, dtype: int64"
      ]
     },
     "execution_count": 8,
     "metadata": {},
     "output_type": "execute_result"
    }
   ],
   "source": [
    "tomek_data['Coronary Heart Disease/Myocardial Infarction'].value_counts()"
   ]
  },
  {
   "cell_type": "code",
   "execution_count": 9,
   "id": "7fc12ddc",
   "metadata": {
    "scrolled": false
   },
   "outputs": [
    {
     "data": {
      "text/plain": [
       "<seaborn.axisgrid.FacetGrid at 0x1fddeefe580>"
      ]
     },
     "execution_count": 9,
     "metadata": {},
     "output_type": "execute_result"
    },
    {
     "data": {
      "image/png": "[encoded data removed]",
      "text/plain": [
       "<Figure size 432x432 with 1 Axes>"
      ]
     },
     "metadata": {
      "needs_background": "light"
     },
     "output_type": "display_data"
    }
   ],
   "source": [
    "sb.catplot(x = 'Coronary Heart Disease/Myocardial Infarction', data = tomek_data, kind = \"count\", height = 6)"
   ]
  },
  {
   "cell_type": "markdown",
   "id": "c09ab8ba",
   "metadata": {},
   "source": [
    "## SMOTEENN (Under-sampling + Over-sampling)"
   ]
  },
  {
   "cell_type": "code",
   "execution_count": 10,
   "id": "193345fc",
   "metadata": {},
   "outputs": [],
   "source": [
    "sme = SMOTEENN(random_state=516)"
   ]
  },
  {
   "cell_type": "code",
   "execution_count": 12,
   "id": "c86eadaf",
   "metadata": {},
   "outputs": [],
   "source": [
    "smoteenn_data, smoteenn_label = sme.fit_resample(train_data, labels)"
   ]
  },
  {
   "cell_type": "code",
   "execution_count": 13,
   "id": "4bedae1f",
   "metadata": {},
   "outputs": [
    {
     "data": {
      "text/plain": [
       "<seaborn.axisgrid.FacetGrid at 0x1fdde75b850>"
      ]
     },
     "execution_count": 13,
     "metadata": {},
     "output_type": "execute_result"
    },
    {
     "data": {
      "image/png": "[encoded data removed]",
      "text/plain": [
       "<Figure size 432x432 with 1 Axes>"
      ]
     },
     "metadata": {
      "needs_background": "light"
     },
     "output_type": "display_data"
    }
   ],
   "source": [
    "sb.catplot(x = 'Coronary Heart Disease/Myocardial Infarction', data = smoteenn_data, kind = \"count\", height = 6)"
   ]
  },
  {
   "cell_type": "markdown",
   "id": "ed1783b8",
   "metadata": {},
   "source": [
    "## SMOTETomek (Under-sampling + Over-sampling)"
   ]
  },
  {
   "cell_type": "code",
   "execution_count": 14,
   "id": "ab429288",
   "metadata": {},
   "outputs": [],
   "source": [
    "smt = SMOTETomek(random_state=516)"
   ]
  },
  {
   "cell_type": "code",
   "execution_count": 15,
   "id": "b4dce1d8",
   "metadata": {},
   "outputs": [],
   "source": [
    "smotetomek_data, smotetomek_label = smt.fit_resample(train_data, labels)"
   ]
  },
  {
   "cell_type": "code",
   "execution_count": 16,
   "id": "98de9a86",
   "metadata": {},
   "outputs": [
    {
     "data": {
      "text/plain": [
       "<seaborn.axisgrid.FacetGrid at 0x1fd80632e20>"
      ]
     },
     "execution_count": 16,
     "metadata": {},
     "output_type": "execute_result"
    },
    {
     "data": {
      "image/png": "[encoded data removed]",
      "text/plain": [
       "<Figure size 432x432 with 1 Axes>"
      ]
     },
     "metadata": {
      "needs_background": "light"
     },
     "output_type": "display_data"
    }
   ],
   "source": [
    "sb.catplot(x = 'Coronary Heart Disease/Myocardial Infarction', data = smotetomek_data, kind = \"count\", height = 6)"
   ]
  },
  {
   "cell_type": "markdown",
   "id": "bd574bbf",
   "metadata": {},
   "source": [
    "## Exporting the resampled and test dataset"
   ]
  },
  {
   "cell_type": "code",
   "execution_count": 17,
   "id": "a3260c92",
   "metadata": {},
   "outputs": [],
   "source": [
    "smotetomek_data.to_csv(\"Data/smotetomek_data.csv\")"
   ]
  },
  {
   "cell_type": "code",
   "execution_count": 18,
   "id": "cde132f8",
   "metadata": {},
   "outputs": [],
   "source": [
    "smoteenn_data.to_csv(\"Data/smoteenn_data.csv\")"
   ]
  },
  {
   "cell_type": "code",
   "execution_count": 19,
   "id": "8a4ec886",
   "metadata": {},
   "outputs": [],
   "source": [
    "tomek_data.to_csv(\"Data/tomek_data.csv\")"
   ]
  },
  {
   "cell_type": "code",
   "execution_count": 20,
   "id": "8bbf8f0f",
   "metadata": {},
   "outputs": [],
   "source": [
    "test_data.to_csv(\"Data/test.csv\")"
   ]
  },
  {
   "cell_type": "code",
   "execution_count": 21,
   "id": "9c97d0f5",
   "metadata": {},
   "outputs": [],
   "source": [
    "val_data.to_csv(\"Data/val.csv\")"
   ]
  },
  {
   "cell_type": "code",
   "execution_count": 22,
   "id": "0aa3bb2f",
   "metadata": {},
   "outputs": [],
   "source": [
    "selected_data   = pd.read_csv(\"Data/selected_data.csv\")\n",
    "tomek_data      = pd.read_csv(\"Data/tomek_data.csv\")\n",
    "smoteenn_data   = pd.read_csv(\"Data/SMOTEENN_data.csv\")\n",
    "smotetomek_data = pd.read_csv(\"Data/SMOTETOMEK_data.csv\")"
   ]
  },
  {
   "cell_type": "markdown",
   "id": "9f0a81d9",
   "metadata": {},
   "source": [
    "## Comparing the datasets"
   ]
  },
  {
   "cell_type": "code",
   "execution_count": 23,
   "id": "b691497f",
   "metadata": {},
   "outputs": [
    {
     "name": "stdout",
     "output_type": "stream",
     "text": [
      "Ratio of Coronary Heart Disease/Myocardial Infarction values\n",
      "Original dataset:\t 384638 : 30161\n",
      "TomekLinks dataset:\t 242237 : 19286\n",
      "SMOTEENN dataset:\t 194028 : 245746\n",
      "SMOTETOMEK dataset:\t 246143 : 246143\n"
     ]
    }
   ],
   "source": [
    "print(\"Ratio of Coronary Heart Disease/Myocardial Infarction values\")\n",
    "print(\"Original dataset:\\t\",selected_data[\"Coronary Heart Disease/Myocardial Infarction\"].value_counts()[0],\":\"\n",
    "      ,selected_data[\"Coronary Heart Disease/Myocardial Infarction\"].value_counts()[1])\n",
    "print(\"TomekLinks dataset:\\t\",tomek_data[\"Coronary Heart Disease/Myocardial Infarction\"].value_counts()[0],\":\"\n",
    "      ,tomek_data[\"Coronary Heart Disease/Myocardial Infarction\"].value_counts()[1])\n",
    "print(\"SMOTEENN dataset:\\t\",smoteenn_data[\"Coronary Heart Disease/Myocardial Infarction\"].value_counts()[0],\":\"\n",
    "      ,smoteenn_data[\"Coronary Heart Disease/Myocardial Infarction\"].value_counts()[1])\n",
    "print(\"SMOTETOMEK dataset:\\t\",smotetomek_data[\"Coronary Heart Disease/Myocardial Infarction\"].value_counts()[0],\":\"\n",
    "      ,smotetomek_data[\"Coronary Heart Disease/Myocardial Infarction\"].value_counts()[1])"
   ]
  },
  {
   "cell_type": "code",
   "execution_count": 31,
   "id": "244f49e1",
   "metadata": {},
   "outputs": [
    {
     "data": {
      "image/png": "[encoded data removed]",
      "text/plain": [
       "<Figure size 936x720 with 1 Axes>"
      ]
     },
     "metadata": {},
     "output_type": "display_data"
    }
   ],
   "source": [
    "labels = ['Original dataset','TomekLinks dataset', 'SMOTEENN dataset', 'SMOTETOMEK dataset']\n",
    "zeros  = [selected_data[\"Coronary Heart Disease/Myocardial Infarction\"].value_counts()[0],\n",
    "          tomek_data[\"Coronary Heart Disease/Myocardial Infarction\"].value_counts()[0]   ,\n",
    "          smoteenn_data[\"Coronary Heart Disease/Myocardial Infarction\"].value_counts()[0],\n",
    "          smotetomek_data[\"Coronary Heart Disease/Myocardial Infarction\"].value_counts()[0]]\n",
    "ones   = [selected_data[\"Coronary Heart Disease/Myocardial Infarction\"].value_counts()[1],\n",
    "          tomek_data[\"Coronary Heart Disease/Myocardial Infarction\"].value_counts()[1]   ,\n",
    "          smoteenn_data[\"Coronary Heart Disease/Myocardial Infarction\"].value_counts()[1],\n",
    "          smotetomek_data[\"Coronary Heart Disease/Myocardial Infarction\"].value_counts()[1]]\n",
    "\n",
    "x = np.arange(len(labels))\n",
    "width = 0.35\n",
    "\n",
    "sb.set_theme(style=\"darkgrid\")\n",
    "sb.set(font_scale=1.2)\n",
    "fig, axes = plt.subplots(figsize = (13,10))\n",
    "boxes1 = axes.bar(x - width/2, zeros, width, label='0')\n",
    "boxes2 = axes.bar(x + width/2, ones, width, label='1')\n",
    "\n",
    "axes.set_ylabel('Count')\n",
    "axes.set_title('Coronary Heart Disease/Myocardial Infarction')\n",
    "axes.set_xticks(x)\n",
    "axes.set_xticklabels(labels)\n",
    "axes.legend()\n",
    "\n",
    "axes.bar_label(boxes1, padding=3)\n",
    "axes.bar_label(boxes2, padding=3)\n",
    "\n",
    "plt.tight_layout()\n",
    "\n",
    "plt.show()"
   ]
  },
  {
   "cell_type": "markdown",
   "id": "c72fa712",
   "metadata": {},
   "source": [
    "### From the graphs, we can see that the resampled datasets are more balanced in terms of the ratio between 0 and 1 values of the variable 'Coronary Heart Disease/Myocardial Infarction'"
   ]
  }
 ],
 "metadata": {
  "kernelspec": {
   "display_name": "Python 3 (ipykernel)",
   "language": "python",
   "name": "python3"
  },
  "language_info": {
   "codemirror_mode": {
    "name": "ipython",
    "version": 3
   },
   "file_extension": ".py",
   "mimetype": "text/x-python",
   "name": "python",
   "nbconvert_exporter": "python",
   "pygments_lexer": "ipython3",
   "version": "3.9.7"
  }
 },
 "nbformat": 4,
 "nbformat_minor": 5
}
