{
 "cells": [
  {
   "cell_type": "markdown",
   "id": "5253853d",
   "metadata": {
    "id": "5253853d"
   },
   "source": [
    "# Deep Learning (Keras)"
   ]
  },
  {
   "cell_type": "markdown",
   "id": "feb7db02",
   "metadata": {},
   "source": [
    "### Importing essential libraries"
   ]
  },
  {
   "cell_type": "code",
   "execution_count": 1,
   "id": "db1b7d17",
   "metadata": {
    "id": "db1b7d17",
    "scrolled": true
   },
   "outputs": [],
   "source": [
    "import numpy as np\n",
    "import pandas as pd\n",
    "\n",
    "from tensorflow import keras\n",
    "from keras.models import Sequential\n",
    "from keras.layers import Dense, Flatten, Softmax\n",
    "import tensorflow as tf\n",
    "from tensorflow.keras import layers\n",
    "from sklearn.model_selection import train_test_split\n",
    "from sklearn.utils import resample"
   ]
  },
  {
   "cell_type": "code",
   "execution_count": 3,
   "id": "8242f22f",
   "metadata": {},
   "outputs": [],
   "source": [
    "selected_data = pd.read_csv(\"Data/selected_data.csv\")"
   ]
  },
  {
   "cell_type": "code",
   "execution_count": 4,
   "id": "f19dd573",
   "metadata": {
    "id": "f19dd573"
   },
   "outputs": [],
   "source": [
    "\n",
    "#features.drop('General Health',inplace=True, axis=1)\n",
    "#features.drop('No of Days of Poor Physical Health',inplace=True, axis=1)\n",
    "#features.drop('Cancer',inplace=True, axis=1)\n",
    "\n",
    "#features.drop('Stroke',inplace=True, axis=1)\n",
    "\n",
    "#train_features,test_features,train_labels,test_labels = train_test_split(features,labels,test_size=0.2)\n",
    "\n",
    "#Separating the target variable (Heart) from predictor variables\n",
    "features = selected_data.copy()\n",
    "labels= selected_data.pop('Coronary Heart Disease/Myocardial Infarction')\n",
    "features.drop('Coronary Heart Disease/Myocardial Infarction',inplace=True, axis=1)\n",
    "\n",
    "#Split the train/test set\n",
    "train_features,test_features,train_labels,test_labels = train_test_split(features,labels,test_size=0.2)\n",
    "\n",
    "#Re-merge the training features and labels for upsampling\n",
    "selected_data= pd.concat([train_features, train_labels], axis=1)\n",
    "\n",
    "#Detecting negative and positive for upsampling\n",
    "negative = selected_data.loc[selected_data['Coronary Heart Disease/Myocardial Infarction']==0]\n",
    "positive = selected_data.loc[selected_data['Coronary Heart Disease/Myocardial Infarction']==1]\n",
    "\n",
    "#upsampling code\n",
    "pos_upsampled = resample(positive,replace=True, # sample with replacement\n",
    "                        n_samples=len(negative), # match number in majority class\n",
    " random_state=27) \n",
    "\n",
    "#Get the BIG,UPSAMPLED dataset\n",
    "selected_data = pd.concat([negative, pos_upsampled])\n",
    "\n",
    "selected_data.shape\n",
    "\n",
    "#Again, splitting the already upsampled dataset\n",
    "features = selected_data.copy()\n",
    "labels= selected_data.pop('Coronary Heart Disease/Myocardial Infarction')\n",
    "features.drop('Coronary Heart Disease/Myocardial Infarction',inplace=True, axis=1)\n",
    "train_features,test_features,train_labels,test_labels = train_test_split(features,labels,test_size=0.2)\n"
   ]
  },
  {
   "cell_type": "code",
   "execution_count": 5,
   "id": "f55b94d6",
   "metadata": {
    "id": "f55b94d6"
   },
   "outputs": [],
   "source": [
    "model = Sequential([\n",
    "    Dense(100,  activation='relu'),\n",
    "    Dense(50,  activation='relu'),\n",
    "    Dense(50,  activation='relu'),\n",
    "    Dense(1, activation='sigmoid'),\n",
    "    \n",
    "])\n",
    "\n",
    "model.compile(loss='binary_crossentropy', optimizer='adam', metrics=[tf.keras.metrics.Recall(),'accuracy',tf.keras.metrics.Precision()])"
   ]
  },
  {
   "cell_type": "code",
   "execution_count": 6,
   "id": "0eff47b6",
   "metadata": {
    "id": "0eff47b6",
    "outputId": "e33fbcba-2571-4285-cb80-abe1b9fc9715",
    "scrolled": false
   },
   "outputs": [
    {
     "name": "stdout",
     "output_type": "stream",
     "text": [
      "Epoch 1/10\n",
      "19233/19233 [==============================] - 14s 676us/step - loss: 20.6622 - recall: 0.4649 - accuracy: 0.5049 - precision: 0.5053\n",
      "Epoch 2/10\n",
      "19233/19233 [==============================] - 13s 697us/step - loss: 0.6932 - recall: 0.4832 - accuracy: 0.5004 - precision: 0.5005\n",
      "Epoch 3/10\n",
      "19233/19233 [==============================] - 13s 684us/step - loss: 0.6976 - recall: 0.4447 - accuracy: 0.5011 - precision: 0.5013\n",
      "Epoch 4/10\n",
      "19233/19233 [==============================] - 13s 676us/step - loss: 0.6932 - recall: 0.4832 - accuracy: 0.4995 - precision: 0.4995\n",
      "Epoch 5/10\n",
      "19233/19233 [==============================] - 14s 729us/step - loss: 0.6932 - recall: 0.5159 - accuracy: 0.4990 - precision: 0.4990\n",
      "Epoch 6/10\n",
      "19233/19233 [==============================] - 14s 704us/step - loss: 0.6932 - recall: 0.5129 - accuracy: 0.5000 - precision: 0.5000\n",
      "Epoch 7/10\n",
      "19233/19233 [==============================] - 13s 694us/step - loss: 0.6932 - recall: 0.4783 - accuracy: 0.4996 - precision: 0.4995\n",
      "Epoch 8/10\n",
      "19233/19233 [==============================] - 14s 707us/step - loss: 0.6932 - recall: 0.4635 - accuracy: 0.5004 - precision: 0.5004\n",
      "Epoch 9/10\n",
      "19233/19233 [==============================] - 13s 690us/step - loss: 0.6932 - recall: 0.4823 - accuracy: 0.4990 - precision: 0.4990\n",
      "Epoch 10/10\n",
      "19233/19233 [==============================] - 14s 702us/step - loss: 0.6932 - recall: 0.5102 - accuracy: 0.4996 - precision: 0.4996\n"
     ]
    },
    {
     "data": {
      "text/plain": [
       "<keras.callbacks.History at 0x2b083392d90>"
      ]
     },
     "execution_count": 6,
     "metadata": {},
     "output_type": "execute_result"
    }
   ],
   "source": [
    "model.fit(features,labels, epochs=10,batch_size=32)"
   ]
  },
  {
   "cell_type": "code",
   "execution_count": 7,
   "id": "b39b8724",
   "metadata": {
    "id": "b39b8724",
    "outputId": "add9d3b7-23ce-4dbe-cffa-6011afd57fdf"
   },
   "outputs": [
    {
     "name": "stdout",
     "output_type": "stream",
     "text": [
      "123091/123091 [==============================] - 61s 494us/step - loss: 0.6927 - recall: 1.0000 - accuracy: 0.5020 - precision: 0.5020\n"
     ]
    },
    {
     "data": {
      "text/plain": [
       "[0.6926771402359009, 1.0, 0.5020431876182556, 0.5020431876182556]"
      ]
     },
     "execution_count": 7,
     "metadata": {},
     "output_type": "execute_result"
    }
   ],
   "source": [
    "model.evaluate(test_features,test_labels,verbose=1, batch_size=1)"
   ]
  },
  {
   "cell_type": "code",
   "execution_count": null,
   "id": "dc8f4c92",
   "metadata": {
    "id": "dc8f4c92"
   },
   "outputs": [],
   "source": []
  }
 ],
 "metadata": {
  "colab": {
   "name": "Mini_project.ipynb",
   "provenance": []
  },
  "kernelspec": {
   "display_name": "Python 3 (ipykernel)",
   "language": "python",
   "name": "python3"
  },
  "language_info": {
   "codemirror_mode": {
    "name": "ipython",
    "version": 3
   },
   "file_extension": ".py",
   "mimetype": "text/x-python",
   "name": "python",
   "nbconvert_exporter": "python",
   "pygments_lexer": "ipython3",
   "version": "3.9.7"
  }
 },
 "nbformat": 4,
 "nbformat_minor": 5
}
