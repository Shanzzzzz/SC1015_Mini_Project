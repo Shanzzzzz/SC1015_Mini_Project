{
  "cells": [
    {
      "cell_type": "markdown",
      "id": "5253853d",
      "metadata": {
        "id": "5253853d"
      },
      "source": [
        "### SC1015 Mini Project"
      ]
    },
    {
      "cell_type": "code",
      "execution_count": null,
      "id": "b0230066",
      "metadata": {
        "id": "b0230066"
      },
      "outputs": [],
      "source": [
        "#### The dataset used is the 2020 Behavioral Risk Factor Surveillance System (BRFSS) data provided by the Centers for Disease Control and Prevention (CDC), a national public health agency of the United States. \n",
        "#### The chosen dataset contains information of 401,958 records of the surveys conducted through landline and cellular telephone. According to CDC, the BRFSS's aims to collect data about chronic diseases and conditions, health risk behaviors, accessibility to health care facilities, and use of health services related to causes of disability and death.\n",
        "#### Dataset source url: https://www.cdc.gov/brfss/annual_data/annual_2020.html "
      ]
    },
    {
      "cell_type": "code",
      "execution_count": null,
      "id": "80837b7d",
      "metadata": {
        "id": "80837b7d"
      },
      "outputs": [],
      "source": [
        "# Import basic libraries\n",
        "import numpy as np\n",
        "import pandas as pd\n"
      ]
    },
    {
      "cell_type": "code",
      "execution_count": null,
      "id": "7943d8d3",
      "metadata": {
        "id": "7943d8d3",
        "outputId": "99a8cb7f-1390-4af5-a826-1c10f7dd1ebc"
      },
      "outputs": [
        {
          "data": {
            "text/html": [
              "<div>\n",
              "<style scoped>\n",
              "    .dataframe tbody tr th:only-of-type {\n",
              "        vertical-align: middle;\n",
              "    }\n",
              "\n",
              "    .dataframe tbody tr th {\n",
              "        vertical-align: top;\n",
              "    }\n",
              "\n",
              "    .dataframe thead th {\n",
              "        text-align: right;\n",
              "    }\n",
              "</style>\n",
              "<table border=\"1\" class=\"dataframe\">\n",
              "  <thead>\n",
              "    <tr style=\"text-align: right;\">\n",
              "      <th></th>\n",
              "      <th>Unnamed: 0</th>\n",
              "      <th>X_AGE_G</th>\n",
              "      <th>X_SEX</th>\n",
              "      <th>HTM4</th>\n",
              "      <th>WTKG3</th>\n",
              "      <th>X_BMI5</th>\n",
              "      <th>MARITAL</th>\n",
              "      <th>X_INCOMG</th>\n",
              "      <th>X_EDUCAG</th>\n",
              "      <th>GENHLTH</th>\n",
              "      <th>...</th>\n",
              "      <th>CVDSTRK3</th>\n",
              "      <th>ADDEPEV3</th>\n",
              "      <th>CHCKDNY2</th>\n",
              "      <th>CHCOCNCR</th>\n",
              "      <th>X_DRDXAR2</th>\n",
              "      <th>CHECKUP1</th>\n",
              "      <th>X_RFDRHV7</th>\n",
              "      <th>PDIABTST</th>\n",
              "      <th>X_TOTINDA</th>\n",
              "      <th>DIABETE4</th>\n",
              "    </tr>\n",
              "  </thead>\n",
              "  <tbody>\n",
              "    <tr>\n",
              "      <th>0</th>\n",
              "      <td>0</td>\n",
              "      <td>6</td>\n",
              "      <td>0</td>\n",
              "      <td>0.0168</td>\n",
              "      <td>1.0</td>\n",
              "      <td>0.0</td>\n",
              "      <td>1.0</td>\n",
              "      <td>4</td>\n",
              "      <td>2</td>\n",
              "      <td>3.0</td>\n",
              "      <td>...</td>\n",
              "      <td>0.0</td>\n",
              "      <td>0.0</td>\n",
              "      <td>0.0</td>\n",
              "      <td>1.0</td>\n",
              "      <td>0.0</td>\n",
              "      <td>1.0</td>\n",
              "      <td>1.0</td>\n",
              "      <td>0</td>\n",
              "      <td>0.0</td>\n",
              "      <td>1</td>\n",
              "    </tr>\n",
              "    <tr>\n",
              "      <th>1</th>\n",
              "      <td>1</td>\n",
              "      <td>3</td>\n",
              "      <td>0</td>\n",
              "      <td>0.0180</td>\n",
              "      <td>1.0</td>\n",
              "      <td>0.0</td>\n",
              "      <td>2.0</td>\n",
              "      <td>4</td>\n",
              "      <td>4</td>\n",
              "      <td>2.0</td>\n",
              "      <td>...</td>\n",
              "      <td>0.0</td>\n",
              "      <td>0.0</td>\n",
              "      <td>0.0</td>\n",
              "      <td>0.0</td>\n",
              "      <td>0.0</td>\n",
              "      <td>1.0</td>\n",
              "      <td>0.0</td>\n",
              "      <td>1</td>\n",
              "      <td>0.0</td>\n",
              "      <td>1</td>\n",
              "    </tr>\n",
              "    <tr>\n",
              "      <th>2</th>\n",
              "      <td>2</td>\n",
              "      <td>6</td>\n",
              "      <td>0</td>\n",
              "      <td>0.0168</td>\n",
              "      <td>1.0</td>\n",
              "      <td>0.0</td>\n",
              "      <td>1.0</td>\n",
              "      <td>5</td>\n",
              "      <td>4</td>\n",
              "      <td>4.0</td>\n",
              "      <td>...</td>\n",
              "      <td>0.0</td>\n",
              "      <td>0.0</td>\n",
              "      <td>0.0</td>\n",
              "      <td>0.0</td>\n",
              "      <td>0.0</td>\n",
              "      <td>1.0</td>\n",
              "      <td>1.0</td>\n",
              "      <td>1</td>\n",
              "      <td>0.0</td>\n",
              "      <td>1</td>\n",
              "    </tr>\n",
              "    <tr>\n",
              "      <th>3</th>\n",
              "      <td>3</td>\n",
              "      <td>6</td>\n",
              "      <td>0</td>\n",
              "      <td>0.0155</td>\n",
              "      <td>1.0</td>\n",
              "      <td>0.0</td>\n",
              "      <td>2.0</td>\n",
              "      <td>2</td>\n",
              "      <td>1</td>\n",
              "      <td>4.0</td>\n",
              "      <td>...</td>\n",
              "      <td>0.0</td>\n",
              "      <td>0.0</td>\n",
              "      <td>1.0</td>\n",
              "      <td>0.0</td>\n",
              "      <td>1.0</td>\n",
              "      <td>1.0</td>\n",
              "      <td>1.0</td>\n",
              "      <td>0</td>\n",
              "      <td>2.0</td>\n",
              "      <td>1</td>\n",
              "    </tr>\n",
              "    <tr>\n",
              "      <th>4</th>\n",
              "      <td>4</td>\n",
              "      <td>6</td>\n",
              "      <td>1</td>\n",
              "      <td>0.0183</td>\n",
              "      <td>1.0</td>\n",
              "      <td>0.0</td>\n",
              "      <td>2.0</td>\n",
              "      <td>1</td>\n",
              "      <td>2</td>\n",
              "      <td>3.0</td>\n",
              "      <td>...</td>\n",
              "      <td>0.0</td>\n",
              "      <td>0.0</td>\n",
              "      <td>0.0</td>\n",
              "      <td>1.0</td>\n",
              "      <td>1.0</td>\n",
              "      <td>1.0</td>\n",
              "      <td>1.0</td>\n",
              "      <td>1</td>\n",
              "      <td>0.0</td>\n",
              "      <td>1</td>\n",
              "    </tr>\n",
              "  </tbody>\n",
              "</table>\n",
              "<p>5 rows × 25 columns</p>\n",
              "</div>"
            ],
            "text/plain": [
              "   Unnamed: 0  X_AGE_G  X_SEX    HTM4  WTKG3  X_BMI5  MARITAL  X_INCOMG  \\\n",
              "0           0        6      0  0.0168    1.0     0.0      1.0         4   \n",
              "1           1        3      0  0.0180    1.0     0.0      2.0         4   \n",
              "2           2        6      0  0.0168    1.0     0.0      1.0         5   \n",
              "3           3        6      0  0.0155    1.0     0.0      2.0         2   \n",
              "4           4        6      1  0.0183    1.0     0.0      2.0         1   \n",
              "\n",
              "   X_EDUCAG  GENHLTH  ...  CVDSTRK3  ADDEPEV3  CHCKDNY2  CHCOCNCR  X_DRDXAR2  \\\n",
              "0         2      3.0  ...       0.0       0.0       0.0       1.0        0.0   \n",
              "1         4      2.0  ...       0.0       0.0       0.0       0.0        0.0   \n",
              "2         4      4.0  ...       0.0       0.0       0.0       0.0        0.0   \n",
              "3         1      4.0  ...       0.0       0.0       1.0       0.0        1.0   \n",
              "4         2      3.0  ...       0.0       0.0       0.0       1.0        1.0   \n",
              "\n",
              "   CHECKUP1  X_RFDRHV7  PDIABTST  X_TOTINDA  DIABETE4  \n",
              "0       1.0        1.0         0        0.0         1  \n",
              "1       1.0        0.0         1        0.0         1  \n",
              "2       1.0        1.0         1        0.0         1  \n",
              "3       1.0        1.0         0        2.0         1  \n",
              "4       1.0        1.0         1        0.0         1  \n",
              "\n",
              "[5 rows x 25 columns]"
            ]
          },
          "execution_count": 3,
          "metadata": {},
          "output_type": "execute_result"
        }
      ],
      "source": [
        "# Importing raw data in csv format\n",
        "raw_data = pd.read_csv('Selected_Data_2020.csv')\n",
        "raw_data.head()"
      ]
    },
    {
      "cell_type": "code",
      "execution_count": null,
      "id": "d66fabe3",
      "metadata": {
        "id": "d66fabe3",
        "outputId": "acb29d3f-ce5b-41f8-b245-fb21a6a36b04"
      },
      "outputs": [
        {
          "name": "stdout",
          "output_type": "stream",
          "text": [
            "<class 'pandas.core.frame.DataFrame'>\n",
            "RangeIndex: 144917 entries, 0 to 144916\n",
            "Data columns (total 25 columns):\n",
            " #   Column      Non-Null Count   Dtype  \n",
            "---  ------      --------------   -----  \n",
            " 0   Unnamed: 0  144917 non-null  int64  \n",
            " 1   X_AGE_G     144917 non-null  int64  \n",
            " 2   X_SEX       144917 non-null  int64  \n",
            " 3   HTM4        144917 non-null  float64\n",
            " 4   WTKG3       144917 non-null  float64\n",
            " 5   X_BMI5      144917 non-null  float64\n",
            " 6   MARITAL     144917 non-null  float64\n",
            " 7   X_INCOMG    144917 non-null  int64  \n",
            " 8   X_EDUCAG    144917 non-null  int64  \n",
            " 9   GENHLTH     144917 non-null  float64\n",
            " 10  PHYSHLTH    144917 non-null  float64\n",
            " 11  MENTHLTH    144917 non-null  float64\n",
            " 12  SLEPTIM1    144917 non-null  float64\n",
            " 13  X_SMOKER3   144917 non-null  int64  \n",
            " 14  X_MICHD     144917 non-null  float64\n",
            " 15  CVDSTRK3    144917 non-null  float64\n",
            " 16  ADDEPEV3    144917 non-null  float64\n",
            " 17  CHCKDNY2    144917 non-null  float64\n",
            " 18  CHCOCNCR    144917 non-null  float64\n",
            " 19  X_DRDXAR2   144917 non-null  float64\n",
            " 20  CHECKUP1    144917 non-null  float64\n",
            " 21  X_RFDRHV7   144917 non-null  float64\n",
            " 22  PDIABTST    144917 non-null  int64  \n",
            " 23  X_TOTINDA   144917 non-null  float64\n",
            " 24  DIABETE4    144917 non-null  int64  \n",
            "dtypes: float64(17), int64(8)\n",
            "memory usage: 27.6 MB\n"
          ]
        }
      ],
      "source": [
        "raw_data.info()"
      ]
    },
    {
      "cell_type": "markdown",
      "id": "7254c6d8",
      "metadata": {
        "id": "7254c6d8"
      },
      "source": [
        "#### There are too many variables in the dataset. Hence, we decided to filter the dataset and select the variables that are more important for the diseases we are studying. The chosen variables and their description along with their redefined variable name which is assigned to improve readability are listed in the \"variable.xlsx\" file. *(To prevent overloading the notebook with content)*"
      ]
    },
    {
      "cell_type": "code",
      "execution_count": null,
      "id": "7833f937",
      "metadata": {
        "id": "7833f937"
      },
      "outputs": [],
      "source": [
        "# Data is filtered based on variables chosen\n",
        "selected_data  =  raw_data[['X_AGE_G' , 'X_SEX'    , 'HTM4'     , 'WTKG3'    , 'X_BMI5'   , 'MARITAL'  ,\n",
        "                          'X_INCOMG'  , 'X_EDUCAG' , 'GENHLTH'  , 'PHYSHLTH' , 'MENTHLTH' , 'SLEPTIM1' ,\n",
        "                          'X_SMOKER3' , 'X_MICHD'  , 'CVDSTRK3' , 'ADDEPEV3' , 'CHCKDNY2' , 'CHCOCNCR' ,\n",
        "                          'X_DRDXAR2' , 'CHECKUP1' ,  'PDIABTST' , 'X_TOTINDA', 'DIABETE4' ,\n",
        "                          'X_RFDRHV7' ]]"
      ]
    },
    {
      "cell_type": "code",
      "execution_count": null,
      "id": "565ffb15",
      "metadata": {
        "id": "565ffb15",
        "outputId": "1863fcb6-1361-4c9c-d892-9778661d48ba"
      },
      "outputs": [
        {
          "name": "stdout",
          "output_type": "stream",
          "text": [
            "<class 'pandas.core.frame.DataFrame'>\n",
            "RangeIndex: 144917 entries, 0 to 144916\n",
            "Data columns (total 24 columns):\n",
            " #   Column     Non-Null Count   Dtype  \n",
            "---  ------     --------------   -----  \n",
            " 0   X_AGE_G    144917 non-null  int64  \n",
            " 1   X_SEX      144917 non-null  int64  \n",
            " 2   HTM4       144917 non-null  float64\n",
            " 3   WTKG3      144917 non-null  float64\n",
            " 4   X_BMI5     144917 non-null  float64\n",
            " 5   MARITAL    144917 non-null  float64\n",
            " 6   X_INCOMG   144917 non-null  int64  \n",
            " 7   X_EDUCAG   144917 non-null  int64  \n",
            " 8   GENHLTH    144917 non-null  float64\n",
            " 9   PHYSHLTH   144917 non-null  float64\n",
            " 10  MENTHLTH   144917 non-null  float64\n",
            " 11  SLEPTIM1   144917 non-null  float64\n",
            " 12  X_SMOKER3  144917 non-null  int64  \n",
            " 13  X_MICHD    144917 non-null  float64\n",
            " 14  CVDSTRK3   144917 non-null  float64\n",
            " 15  ADDEPEV3   144917 non-null  float64\n",
            " 16  CHCKDNY2   144917 non-null  float64\n",
            " 17  CHCOCNCR   144917 non-null  float64\n",
            " 18  X_DRDXAR2  144917 non-null  float64\n",
            " 19  CHECKUP1   144917 non-null  float64\n",
            " 20  PDIABTST   144917 non-null  int64  \n",
            " 21  X_TOTINDA  144917 non-null  float64\n",
            " 22  DIABETE4   144917 non-null  int64  \n",
            " 23  X_RFDRHV7  144917 non-null  float64\n",
            "dtypes: float64(17), int64(7)\n",
            "memory usage: 26.5 MB\n"
          ]
        }
      ],
      "source": [
        "# The rows that contains null values are removed\n",
        "selected_data = selected_data.dropna()\n",
        "selected_data.info()"
      ]
    },
    {
      "cell_type": "markdown",
      "id": "8f26fd21",
      "metadata": {
        "id": "8f26fd21"
      },
      "source": [
        "#### The variables are explored invididually and renamed to be more readable. \n",
        "#### The values of the categorical variables are also listed here."
      ]
    },
    {
      "cell_type": "markdown",
      "id": "39a1f8bb",
      "metadata": {
        "id": "39a1f8bb"
      },
      "source": [
        "#### X_AGE_G"
      ]
    },
    {
      "cell_type": "code",
      "execution_count": null,
      "id": "080a4b11",
      "metadata": {
        "id": "080a4b11",
        "outputId": "ce91b212-6c38-49cc-f56f-566ed758d286"
      },
      "outputs": [
        {
          "data": {
            "text/plain": [
              "array([6, 3, 5, 4, 1, 2], dtype=int64)"
            ]
          },
          "execution_count": 7,
          "metadata": {},
          "output_type": "execute_result"
        }
      ],
      "source": [
        "# Age category of the respondent\n",
        "\n",
        "# Values:\n",
        "# 1: Age 18 to 24\n",
        "# 2: Age 25 to 34\n",
        "# 3: Age 35 to 44\n",
        "# 4: Age 45 to 54\n",
        "# 5: Age 55 to 64\n",
        "# 6: Age 65 or older\n",
        "\n",
        "selected_data.X_AGE_G.unique()"
      ]
    },
    {
      "cell_type": "markdown",
      "id": "40b8bf36",
      "metadata": {
        "id": "40b8bf36"
      },
      "source": [
        "#### X_SEX"
      ]
    },
    {
      "cell_type": "code",
      "execution_count": null,
      "id": "7d08f4c2",
      "metadata": {
        "id": "7d08f4c2",
        "outputId": "d3713471-f898-4ee3-cc01-a2e42bf5f0d4"
      },
      "outputs": [
        {
          "data": {
            "text/plain": [
              "array([0, 1], dtype=int64)"
            ]
          },
          "execution_count": 8,
          "metadata": {},
          "output_type": "execute_result"
        }
      ],
      "source": [
        "# Sex of the respondent\n",
        "\n",
        "# Values:\n",
        "# 0: Male\n",
        "# 1: Female\n",
        "\n",
        "#selected_data = selected_data[selected_data.X_SEX != 9]\n",
        "selected_data['X_SEX'] = selected_data['X_SEX'].replace({2:0})\n",
        "selected_data['X_SEX'].unique()"
      ]
    },
    {
      "cell_type": "markdown",
      "id": "f6127a96",
      "metadata": {
        "id": "f6127a96"
      },
      "source": [
        "#### HTM4"
      ]
    },
    {
      "cell_type": "code",
      "execution_count": null,
      "id": "05ac6c83",
      "metadata": {
        "id": "05ac6c83",
        "outputId": "3412019c-11d5-405b-b45c-e50c130dcce3",
        "scrolled": true
      },
      "outputs": [
        {
          "data": {
            "text/plain": [
              "array([1.68e-04, 1.80e-04, 1.55e-04, 1.83e-04, 1.52e-04, 1.63e-04,\n",
              "       1.50e-04, 1.85e-04, 1.70e-04, 1.57e-04, 1.60e-04, 1.73e-04,\n",
              "       1.78e-04, 1.88e-04, 1.75e-04, 1.65e-04, 1.91e-04, 2.01e-04,\n",
              "       1.96e-04, 1.98e-04, 1.93e-04, 2.06e-04, 1.47e-04, 1.42e-04,\n",
              "       1.45e-04, 1.37e-04, 1.32e-04, 1.22e-04, 1.24e-04, 1.40e-04,\n",
              "       1.62e-04, 1.61e-04, 1.53e-04, 1.90e-04, 1.05e-04, 1.06e-04,\n",
              "       1.69e-04, 1.76e-04, 1.54e-04, 2.03e-04, 1.67e-04, 1.82e-04,\n",
              "       1.27e-04, 2.08e-04, 2.11e-04, 2.13e-04, 1.19e-04, 1.35e-04,\n",
              "       2.16e-04, 1.56e-04, 1.72e-04, 1.58e-04, 1.66e-04, 1.04e-04,\n",
              "       1.59e-04, 1.14e-04, 1.25e-04, 1.71e-04, 1.01e-04, 1.44e-04,\n",
              "       1.64e-04, 1.38e-04, 1.20e-04, 1.30e-04, 1.74e-04, 1.07e-04,\n",
              "       1.48e-04, 2.29e-04, 9.10e-05, 1.86e-04, 1.77e-04, 2.18e-04,\n",
              "       1.49e-04, 1.17e-04, 1.51e-04, 1.09e-04, 1.03e-04, 1.95e-04,\n",
              "       1.79e-04, 1.23e-04, 1.00e-04, 2.09e-04, 1.39e-04])"
            ]
          },
          "execution_count": 9,
          "metadata": {},
          "output_type": "execute_result"
        }
      ],
      "source": [
        "# Height of respondent in meters\n",
        "\n",
        "selected_data['HTM4'] = selected_data['HTM4'].div(100)\n",
        "selected_data['HTM4'].unique()"
      ]
    },
    {
      "cell_type": "markdown",
      "id": "ec46afc1",
      "metadata": {
        "id": "ec46afc1"
      },
      "source": [
        "#### WTKG3"
      ]
    },
    {
      "cell_type": "code",
      "execution_count": null,
      "id": "4ab455e8",
      "metadata": {
        "id": "4ab455e8",
        "outputId": "45ab677b-6252-421f-8c37-1c2a39ccbd34"
      },
      "outputs": [
        {
          "data": {
            "text/plain": [
              "array([0.])"
            ]
          },
          "execution_count": 10,
          "metadata": {},
          "output_type": "execute_result"
        }
      ],
      "source": [
        "# Weight of respondent in kilograms\n",
        "\n",
        "selected_data['WTKG3'] = selected_data['WTKG3'].div(100).round(0)\n",
        "selected_data['WTKG3'].unique()"
      ]
    },
    {
      "cell_type": "markdown",
      "id": "ce2d3443",
      "metadata": {
        "id": "ce2d3443"
      },
      "source": [
        "#### X_BMI5 "
      ]
    },
    {
      "cell_type": "code",
      "execution_count": null,
      "id": "406575cb",
      "metadata": {
        "id": "406575cb",
        "outputId": "d0a81649-5e21-47a4-ae2a-43ea668b2543"
      },
      "outputs": [
        {
          "data": {
            "text/plain": [
              "array([0.])"
            ]
          },
          "execution_count": 11,
          "metadata": {},
          "output_type": "execute_result"
        }
      ],
      "source": [
        "# Body Mass Index (BMI) of respondent\n",
        "\n",
        "selected_data['X_BMI5'] = selected_data['X_BMI5'].div(100).round(0)\n",
        "selected_data['X_BMI5'].unique()"
      ]
    },
    {
      "cell_type": "markdown",
      "id": "63ea01a5",
      "metadata": {
        "id": "63ea01a5"
      },
      "source": [
        "#### MARITAL"
      ]
    },
    {
      "cell_type": "code",
      "execution_count": null,
      "id": "ec662918",
      "metadata": {
        "id": "ec662918",
        "outputId": "b226993a-b588-49af-d124-e282cca8e869"
      },
      "outputs": [
        {
          "data": {
            "text/plain": [
              "array([1., 2., 3., 5., 4., 6.])"
            ]
          },
          "execution_count": 12,
          "metadata": {},
          "output_type": "execute_result"
        }
      ],
      "source": [
        "# Marital status of respondent\n",
        "\n",
        "selected_data = selected_data[selected_data['MARITAL'] != 9]\n",
        "selected_data['MARITAL'].unique()"
      ]
    },
    {
      "cell_type": "markdown",
      "id": "87bfa5a3",
      "metadata": {
        "id": "87bfa5a3"
      },
      "source": [
        "#### X_INCOMG "
      ]
    },
    {
      "cell_type": "code",
      "execution_count": null,
      "id": "aa3f8cf4",
      "metadata": {
        "id": "aa3f8cf4",
        "outputId": "aae21b29-6c54-4ed8-e65f-0311fe7e63bf"
      },
      "outputs": [
        {
          "data": {
            "text/plain": [
              "array([4, 5, 2, 1, 3], dtype=int64)"
            ]
          },
          "execution_count": 13,
          "metadata": {},
          "output_type": "execute_result"
        }
      ],
      "source": [
        "# Income category of respondent\n",
        "\n",
        "selected_data = selected_data[selected_data['X_INCOMG'] != 9]\n",
        "selected_data['X_INCOMG'].unique()"
      ]
    },
    {
      "cell_type": "markdown",
      "id": "37a464a0",
      "metadata": {
        "id": "37a464a0"
      },
      "source": [
        "#### X_EDUCAG "
      ]
    },
    {
      "cell_type": "code",
      "execution_count": null,
      "id": "25fe6d0e",
      "metadata": {
        "id": "25fe6d0e",
        "outputId": "1eb4204f-ea8e-4c67-cdc1-bc5cac1e3df3"
      },
      "outputs": [
        {
          "data": {
            "text/plain": [
              "array([2, 4, 1, 3], dtype=int64)"
            ]
          },
          "execution_count": 14,
          "metadata": {},
          "output_type": "execute_result"
        }
      ],
      "source": [
        "# Level of education completed by respondent\n",
        "\n",
        "selected_data = selected_data[selected_data['X_EDUCAG'] != 9]\n",
        "selected_data['X_EDUCAG'].unique()"
      ]
    },
    {
      "cell_type": "markdown",
      "id": "ab10205e",
      "metadata": {
        "id": "ab10205e"
      },
      "source": [
        "#### GENHLTH "
      ]
    },
    {
      "cell_type": "code",
      "execution_count": null,
      "id": "a15a6a28",
      "metadata": {
        "id": "a15a6a28",
        "outputId": "5ab33908-73c3-4cd0-dd34-654f8c496b84"
      },
      "outputs": [
        {
          "data": {
            "text/plain": [
              "array([3., 2., 4., 5., 1.])"
            ]
          },
          "execution_count": 15,
          "metadata": {},
          "output_type": "execute_result"
        }
      ],
      "source": [
        "# General health of respondent (Self-opinion)\n",
        "\n",
        "selected_data = selected_data[selected_data['GENHLTH'] != 7]\n",
        "selected_data = selected_data[selected_data['GENHLTH'] != 9]\n",
        "selected_data['GENHLTH'].unique()"
      ]
    },
    {
      "cell_type": "markdown",
      "id": "4636a18b",
      "metadata": {
        "id": "4636a18b"
      },
      "source": [
        "#### MENTHLTH "
      ]
    },
    {
      "cell_type": "code",
      "execution_count": null,
      "id": "7fd637b9",
      "metadata": {
        "id": "7fd637b9",
        "outputId": "85976b8d-84b3-46fc-8372-9ed026b1e501"
      },
      "outputs": [
        {
          "data": {
            "text/plain": [
              "array([ 0., 30.,  2., 15.,  8.,  4.,  5., 10.,  3., 14., 20.,  1.,  7.,\n",
              "       24., 28., 16., 25., 17.,  9., 12., 18., 29.,  6., 23., 21., 22.,\n",
              "       13., 26., 27., 11., 19.])"
            ]
          },
          "execution_count": 16,
          "metadata": {},
          "output_type": "execute_result"
        }
      ],
      "source": [
        "# Number of days when mental health is poor (In past 30 days)\n",
        "\n",
        "selected_data = selected_data[selected_data['MENTHLTH'] != 77]\n",
        "selected_data['MENTHLTH'] = selected_data['MENTHLTH'].replace({88:0})\n",
        "selected_data = selected_data[selected_data['MENTHLTH'] != 99]\n",
        "selected_data['MENTHLTH'].unique()"
      ]
    },
    {
      "cell_type": "markdown",
      "id": "dd1710f7",
      "metadata": {
        "id": "dd1710f7"
      },
      "source": [
        "#### PHYSHLTH"
      ]
    },
    {
      "cell_type": "code",
      "execution_count": null,
      "id": "43e2e46f",
      "metadata": {
        "id": "43e2e46f",
        "outputId": "401dddc8-4762-4375-cbaa-05b1ae6a4f8f"
      },
      "outputs": [
        {
          "data": {
            "text/plain": [
              "array([ 0., 28., 15.,  7.,  1.,  5., 30., 21.,  4.,  3.,  2., 20., 14.,\n",
              "       18.,  6., 10., 25., 27., 17.,  8., 12., 23., 16., 19., 29.,  9.,\n",
              "       26., 22., 13., 24., 11.])"
            ]
          },
          "execution_count": 17,
          "metadata": {},
          "output_type": "execute_result"
        }
      ],
      "source": [
        "# Number of days when physical health is poor (In past 30 days)\n",
        "\n",
        "selected_data = selected_data[selected_data['PHYSHLTH'] != 77]\n",
        "selected_data['PHYSHLTH'] = selected_data['PHYSHLTH'].replace({88:0})\n",
        "selected_data = selected_data[selected_data['PHYSHLTH'] != 99]\n",
        "selected_data['PHYSHLTH'].unique()"
      ]
    },
    {
      "cell_type": "markdown",
      "id": "4c6cbfe6",
      "metadata": {
        "id": "4c6cbfe6"
      },
      "source": [
        "#### SLEPTIM1"
      ]
    },
    {
      "cell_type": "code",
      "execution_count": null,
      "id": "5fbdf295",
      "metadata": {
        "id": "5fbdf295",
        "outputId": "e4088572-7348-4591-b18d-b2cc170be853"
      },
      "outputs": [
        {
          "data": {
            "text/plain": [
              "array([ 6.,  8.,  4.,  5., 10.,  7.,  9., 12.,  3.,  2., 15.,  1., 16.,\n",
              "       18., 99., 14., 11., 20., 13., 24., 22., 17., 19.])"
            ]
          },
          "execution_count": 18,
          "metadata": {},
          "output_type": "execute_result"
        }
      ],
      "source": [
        "# Hours of sleep in 24-hour period\n",
        "\n",
        "selected_data = selected_data[selected_data['SLEPTIM1'] != 77]\n",
        "selected_data['SLEPTIM1'].unique()"
      ]
    },
    {
      "cell_type": "markdown",
      "id": "91ffc26c",
      "metadata": {
        "id": "91ffc26c"
      },
      "source": [
        "#### X_MICHD"
      ]
    },
    {
      "cell_type": "code",
      "execution_count": null,
      "id": "d27dee1d",
      "metadata": {
        "id": "d27dee1d",
        "outputId": "8667fb12-740b-4291-8917-39eee6d4de09"
      },
      "outputs": [
        {
          "data": {
            "text/plain": [
              "array([0., 1.])"
            ]
          },
          "execution_count": 19,
          "metadata": {},
          "output_type": "execute_result"
        }
      ],
      "source": [
        "# Coronary heart disease/Myocardial infarction\n",
        "\n",
        "# Values:\n",
        "# 0: Did not report having MI or CHD\n",
        "# 1: Reported having MI or CHD\n",
        "\n",
        "selected_data['X_MICHD'] = selected_data['X_MICHD'].replace({2:0})\n",
        "selected_data['X_MICHD'].unique()"
      ]
    },
    {
      "cell_type": "markdown",
      "id": "18eabd76",
      "metadata": {
        "id": "18eabd76"
      },
      "source": [
        "#### CVDSTRK3"
      ]
    },
    {
      "cell_type": "code",
      "execution_count": null,
      "id": "de83c16c",
      "metadata": {
        "id": "de83c16c",
        "outputId": "4a788cb3-9fd9-4583-855d-a7a2469021d6"
      },
      "outputs": [
        {
          "data": {
            "text/plain": [
              "array([0., 1.])"
            ]
          },
          "execution_count": 20,
          "metadata": {},
          "output_type": "execute_result"
        }
      ],
      "source": [
        "# Stroke\n",
        "\n",
        "# Values:\n",
        "# 0: No\n",
        "# 1: Yes\n",
        "\n",
        "selected_data = selected_data[selected_data['CVDSTRK3'] != 7]\n",
        "selected_data = selected_data[selected_data['CVDSTRK3'] != 9]\n",
        "selected_data['CVDSTRK3'] = selected_data['CVDSTRK3'].replace({2:0})\n",
        "selected_data['CVDSTRK3'].unique()"
      ]
    },
    {
      "cell_type": "markdown",
      "id": "3e3e35cb",
      "metadata": {
        "id": "3e3e35cb"
      },
      "source": [
        "#### ADDEPEV3"
      ]
    },
    {
      "cell_type": "code",
      "execution_count": null,
      "id": "ffe33a73",
      "metadata": {
        "id": "ffe33a73",
        "outputId": "5b5ed584-bf3f-41a7-f102-dc219e6bdb2c"
      },
      "outputs": [
        {
          "data": {
            "text/plain": [
              "array([0., 1.])"
            ]
          },
          "execution_count": 21,
          "metadata": {},
          "output_type": "execute_result"
        }
      ],
      "source": [
        "# Depressive disorder\n",
        "\n",
        "# Values:\n",
        "# 0: No\n",
        "# 1: Yes\n",
        "\n",
        "selected_data = selected_data[selected_data['ADDEPEV3'] != 7]\n",
        "selected_data = selected_data[selected_data['ADDEPEV3'] != 9]\n",
        "selected_data['ADDEPEV3'] = selected_data['ADDEPEV3'].replace({2:0})\n",
        "selected_data['ADDEPEV3'].unique()"
      ]
    },
    {
      "cell_type": "markdown",
      "id": "34ef8e26",
      "metadata": {
        "id": "34ef8e26"
      },
      "source": [
        "#### CHCKDNY2"
      ]
    },
    {
      "cell_type": "code",
      "execution_count": null,
      "id": "68018854",
      "metadata": {
        "id": "68018854",
        "outputId": "8d401dd1-9954-40b9-8737-5720b15cbfcf"
      },
      "outputs": [
        {
          "data": {
            "text/plain": [
              "array([0., 1.])"
            ]
          },
          "execution_count": 22,
          "metadata": {},
          "output_type": "execute_result"
        }
      ],
      "source": [
        "# Kidney disease\n",
        "\n",
        "# Values:\n",
        "# 0: No\n",
        "# 1: Yes\n",
        "\n",
        "selected_data = selected_data[selected_data['CHCKDNY2'] != 7]\n",
        "selected_data = selected_data[selected_data['CHCKDNY2'] != 9]\n",
        "selected_data['CHCKDNY2'] = selected_data['CHCKDNY2'].replace({2:0})\n",
        "selected_data['CHCKDNY2'].unique()"
      ]
    },
    {
      "cell_type": "markdown",
      "id": "699953a8",
      "metadata": {
        "id": "699953a8"
      },
      "source": [
        "#### DIABETE4"
      ]
    },
    {
      "cell_type": "code",
      "execution_count": null,
      "id": "26dd20d7",
      "metadata": {
        "id": "26dd20d7",
        "outputId": "25b1f7cd-c16c-44e1-d6b6-a17ac46491c4"
      },
      "outputs": [
        {
          "data": {
            "text/plain": [
              "array([2, 0], dtype=int64)"
            ]
          },
          "execution_count": 23,
          "metadata": {},
          "output_type": "execute_result"
        }
      ],
      "source": [
        "# Diabetes\n",
        "\n",
        "# Values:\n",
        "# 0: No\n",
        "# 1: Pre-diabetes/Borderline diabetes\n",
        "# 2: Yes\n",
        "\n",
        "selected_data['DIABETE4'] = selected_data['DIABETE4'].replace({2:0, 3:0, 1:2, 4:1})\n",
        "selected_data = selected_data[selected_data.DIABETE4 != 7]\n",
        "selected_data = selected_data[selected_data.DIABETE4 != 9]\n",
        "selected_data['DIABETE4'].unique()\n"
      ]
    },
    {
      "cell_type": "markdown",
      "id": "056b634d",
      "metadata": {
        "id": "056b634d"
      },
      "source": [
        "#### X_DRDXAR2"
      ]
    },
    {
      "cell_type": "code",
      "execution_count": null,
      "id": "8070b2b5",
      "metadata": {
        "id": "8070b2b5",
        "outputId": "e1260421-8af2-4270-87a0-d17165340e8f"
      },
      "outputs": [
        {
          "data": {
            "text/plain": [
              "array([0., 1.])"
            ]
          },
          "execution_count": 24,
          "metadata": {},
          "output_type": "execute_result"
        }
      ],
      "source": [
        "# Arthritis\n",
        "\n",
        "# Values:\n",
        "# 0: Not diagnosed with arthritis\n",
        "# 1: Diagnosed with arthritis\n",
        "\n",
        "selected_data['X_DRDXAR2'] = selected_data['X_DRDXAR2'].replace({2:0})\n",
        "selected_data.X_DRDXAR2.unique()"
      ]
    },
    {
      "cell_type": "markdown",
      "id": "de2ec684",
      "metadata": {
        "id": "de2ec684"
      },
      "source": [
        "#### CHECKUP1"
      ]
    },
    {
      "cell_type": "code",
      "execution_count": null,
      "id": "f4f42df6",
      "metadata": {
        "id": "f4f42df6",
        "outputId": "6090eff5-2eeb-4c96-9469-8318cabb5ca1",
        "scrolled": true
      },
      "outputs": [
        {
          "data": {
            "text/plain": [
              "array([1., 3., 2., 4.])"
            ]
          },
          "execution_count": 25,
          "metadata": {},
          "output_type": "execute_result"
        }
      ],
      "source": [
        "# How long since last routine checkup\n",
        "\n",
        "# Values:\n",
        "# 1: Less than 12 months\n",
        "# 2: 1 to 2 years\n",
        "# 3: 2 to 5 years\n",
        "# 4: 5 or more years\n",
        "\n",
        "selected_data = selected_data[selected_data.CHECKUP1 != 7]\n",
        "selected_data = selected_data[selected_data.CHECKUP1 != 8]\n",
        "selected_data = selected_data[selected_data.CHECKUP1 != 9]\n",
        "selected_data.CHECKUP1.unique()"
      ]
    },
    {
      "cell_type": "markdown",
      "id": "cd94c2e2",
      "metadata": {
        "id": "cd94c2e2"
      },
      "source": [
        "#### PDIABTST"
      ]
    },
    {
      "cell_type": "code",
      "execution_count": null,
      "id": "a9af890b",
      "metadata": {
        "id": "a9af890b",
        "outputId": "83345482-c55f-462c-c58c-d73680d29de6"
      },
      "outputs": [
        {
          "data": {
            "text/plain": [
              "array([0, 1], dtype=int64)"
            ]
          },
          "execution_count": 26,
          "metadata": {},
          "output_type": "execute_result"
        }
      ],
      "source": [
        "# High blood sugar/diabetes test (In the past 3 years)\n",
        "\n",
        "# Values:\n",
        "# 0: No\n",
        "# 1: Yes\n",
        "\n",
        "selected_data['PDIABTST'] = selected_data['PDIABTST'].replace({2:0})\n",
        "selected_data = selected_data[selected_data.PDIABTST != 7]\n",
        "selected_data = selected_data[selected_data.PDIABTST != 9]\n",
        "selected_data.PDIABTST.unique()"
      ]
    },
    {
      "cell_type": "markdown",
      "id": "1a1b22de",
      "metadata": {
        "id": "1a1b22de"
      },
      "source": [
        "#### X_TOTINDA"
      ]
    },
    {
      "cell_type": "code",
      "execution_count": null,
      "id": "a1ffa719",
      "metadata": {
        "id": "a1ffa719",
        "outputId": "17a9a0a9-e4fe-4f59-ec4b-068e8b3bc284"
      },
      "outputs": [
        {
          "data": {
            "text/plain": [
              "array([0.])"
            ]
          },
          "execution_count": 27,
          "metadata": {},
          "output_type": "execute_result"
        }
      ],
      "source": [
        "# Exercise in the past 30 days\n",
        "\n",
        "# Values:\n",
        "# 0: No exercise (in last 30 days)\n",
        "# 1: Had exercise \n",
        "\n",
        "selected_data['X_TOTINDA'] = selected_data['X_TOTINDA'].replace({2:0})\n",
        "selected_data = selected_data[selected_data.X_TOTINDA != 9]\n",
        "selected_data.X_TOTINDA.unique()"
      ]
    },
    {
      "cell_type": "markdown",
      "id": "5c19e53f",
      "metadata": {
        "id": "5c19e53f"
      },
      "source": [
        "#### X_SMOKER3"
      ]
    },
    {
      "cell_type": "code",
      "execution_count": null,
      "id": "44db19e4",
      "metadata": {
        "id": "44db19e4",
        "outputId": "5bda46f4-1b92-45df-c291-4945eafc4099"
      },
      "outputs": [
        {
          "data": {
            "text/plain": [
              "array([4, 3, 1, 2], dtype=int64)"
            ]
          },
          "execution_count": 28,
          "metadata": {},
          "output_type": "execute_result"
        }
      ],
      "source": [
        "# Smoker status\n",
        "\n",
        "# Values:\n",
        "# 1: Current smoker (Every day)\n",
        "# 2: Current smoker (Some days)\n",
        "# 3: Former smoker\n",
        "# 4: Never smoked\n",
        "\n",
        "selected_data = selected_data[selected_data.X_SMOKER3 != 9]\n",
        "selected_data.X_SMOKER3.unique()"
      ]
    },
    {
      "cell_type": "markdown",
      "id": "a9c7cf7b",
      "metadata": {
        "id": "a9c7cf7b"
      },
      "source": [
        "#### X_RFDRHV7"
      ]
    },
    {
      "cell_type": "code",
      "execution_count": null,
      "id": "613c37e4",
      "metadata": {
        "id": "613c37e4",
        "outputId": "344741f0-ea86-4074-bd2a-a5978106f832"
      },
      "outputs": [
        {
          "data": {
            "text/plain": [
              "array([1., 0.])"
            ]
          },
          "execution_count": 29,
          "metadata": {},
          "output_type": "execute_result"
        }
      ],
      "source": [
        "# Heavy drinker\n",
        "\n",
        "# Values:\n",
        "# 0: Yes\n",
        "# 1: No\n",
        "\n",
        "selected_data['X_RFDRHV7'] = selected_data['X_RFDRHV7'].replace({2:0})\n",
        "selected_data = selected_data[selected_data.X_RFDRHV7 != 9]\n",
        "selected_data['X_RFDRHV7'].unique()"
      ]
    },
    {
      "cell_type": "markdown",
      "id": "0a095b4b",
      "metadata": {
        "id": "0a095b4b"
      },
      "source": [
        "#### CHCOCNCR"
      ]
    },
    {
      "cell_type": "code",
      "execution_count": null,
      "id": "0eb23f42",
      "metadata": {
        "id": "0eb23f42",
        "outputId": "46171265-19d9-4e65-de8a-18d65fa5a4ef"
      },
      "outputs": [
        {
          "data": {
            "text/plain": [
              "array([1., 0.])"
            ]
          },
          "execution_count": 30,
          "metadata": {},
          "output_type": "execute_result"
        }
      ],
      "source": [
        "# (Did the respondent have any type of) Cancer\n",
        "\n",
        "# Values:\n",
        "# 0: No\n",
        "# 1: Yes\n",
        "\n",
        "selected_data['CHCOCNCR'] = selected_data['CHCOCNCR'].replace({2:0})\n",
        "selected_data = selected_data[selected_data['CHCOCNCR'] != 7]\n",
        "selected_data = selected_data[selected_data['CHCOCNCR'] != 9]\n",
        "selected_data['CHCOCNCR'].unique()"
      ]
    },
    {
      "cell_type": "markdown",
      "id": "fe15d096",
      "metadata": {
        "id": "fe15d096"
      },
      "source": [
        "### Renaming the variables"
      ]
    },
    {
      "cell_type": "code",
      "execution_count": null,
      "id": "9139045e",
      "metadata": {
        "id": "9139045e"
      },
      "outputs": [],
      "source": [
        "selected_data = selected_data.rename(columns = {'X_AGE_G'  :'Age Category', 'X_SEX':'Sex', 'HTM4':'Height', \n",
        "                                                'WTKG3'    :'Weight', 'X_BMI5':'BMI', 'INCOME2':'Income Level',\n",
        "                                                'X_INCOMG' :'Income Category', 'X_EDUCAG':\"Education Level\", \n",
        "                                                'GENHLTH'  :'General Health', 'PHYSHLTH':'No of Days of Poor Physical Health','MENTHLTH':'No of Days of Poor Mental Health ',  \n",
        "                                                'SLEPTIM1' :'Total Sleeping Time', 'MARITAL':'Marital Status',\n",
        "                                                'X_MICHD'  :'Coronary Heart Disease/Myocardial Infarction', 'CVDSTRK3':'Stroke', 'ADDEPEV3':'Depressive Disorder', 'CHCKDNY2':'Kidney Disease', \n",
        "                                                'DIABETE4' :'Diabetes', 'X_DRDXAR2':'Arthritis', 'CHECKUP1':'Time since last routine checkup', 'COLNSCPY':'Colonoscopy Check',\n",
        "                                                'PDIABTST' :'High blood sugar/Diabetes Test','X_TOTINDA':'Workout','X_SMOKER3':'Smoker Status',\n",
        "                                                'X_RFDRHV7':'Heavy Drinker','X_URBSTAT':'Urban/Rural','CHCOCNCR':'Cancer'})"
      ]
    },
    {
      "cell_type": "code",
      "execution_count": null,
      "id": "341b6ccf",
      "metadata": {
        "id": "341b6ccf",
        "outputId": "6d122af3-03ac-4b74-f95b-adae29d346b6"
      },
      "outputs": [
        {
          "name": "stdout",
          "output_type": "stream",
          "text": [
            "<class 'pandas.core.frame.DataFrame'>\n",
            "Int64Index: 144917 entries, 0 to 144916\n",
            "Data columns (total 24 columns):\n",
            " #   Column                                        Non-Null Count   Dtype  \n",
            "---  ------                                        --------------   -----  \n",
            " 0   Age Category                                  144917 non-null  int64  \n",
            " 1   Sex                                           144917 non-null  int64  \n",
            " 2   Height                                        144917 non-null  float64\n",
            " 3   Weight                                        144917 non-null  float64\n",
            " 4   BMI                                           144917 non-null  float64\n",
            " 5   Marital Status                                144917 non-null  float64\n",
            " 6   Income Category                               144917 non-null  int64  \n",
            " 7   Education Level                               144917 non-null  int64  \n",
            " 8   General Health                                144917 non-null  float64\n",
            " 9   No of Days of Poor Physical Health            144917 non-null  float64\n",
            " 10  No of Days of Poor Mental Health              144917 non-null  float64\n",
            " 11  Total Sleeping Time                           144917 non-null  float64\n",
            " 12  Smoker Status                                 144917 non-null  int64  \n",
            " 13  Coronary Heart Disease/Myocardial Infarction  144917 non-null  float64\n",
            " 14  Stroke                                        144917 non-null  float64\n",
            " 15  Depressive Disorder                           144917 non-null  float64\n",
            " 16  Kidney Disease                                144917 non-null  float64\n",
            " 17  Cancer                                        144917 non-null  float64\n",
            " 18  Arthritis                                     144917 non-null  float64\n",
            " 19  Time since last routine checkup               144917 non-null  float64\n",
            " 20  High blood sugar/Diabetes Test                144917 non-null  int64  \n",
            " 21  Workout                                       144917 non-null  float64\n",
            " 22  Diabetes                                      144917 non-null  int64  \n",
            " 23  Heavy Drinker                                 144917 non-null  float64\n",
            "dtypes: float64(17), int64(7)\n",
            "memory usage: 27.6 MB\n"
          ]
        }
      ],
      "source": [
        "selected_data.info()"
      ]
    },
    {
      "cell_type": "code",
      "execution_count": null,
      "id": "06fb4bd9",
      "metadata": {
        "id": "06fb4bd9"
      },
      "outputs": [],
      "source": [
        "selected_data.to_csv(\"New_Selected_Data_2020.csv\")"
      ]
    },
    {
      "cell_type": "code",
      "execution_count": null,
      "id": "db1b7d17",
      "metadata": {
        "id": "db1b7d17"
      },
      "outputs": [],
      "source": [
        "from keras.models import Sequential\n",
        "from keras.layers import Dense, Flatten, Softmax\n",
        "import tensorflow as tf\n",
        "from tensorflow.keras import layers\n",
        "from sklearn.model_selection import train_test_split\n",
        "from sklearn.utils import resample\n"
      ]
    },
    {
      "cell_type": "code",
      "execution_count": null,
      "id": "f19dd573",
      "metadata": {
        "id": "f19dd573"
      },
      "outputs": [],
      "source": [
        "\n",
        "#features.drop('General Health',inplace=True, axis=1)\n",
        "#features.drop('No of Days of Poor Physical Health',inplace=True, axis=1)\n",
        "#features.drop('Cancer',inplace=True, axis=1)\n",
        "\n",
        "#features.drop('Stroke',inplace=True, axis=1)\n",
        "\n",
        "#train_features,test_features,train_labels,test_labels = train_test_split(features,labels,test_size=0.2)\n",
        "\n",
        "#Separating the target variable (Heart) from predictor variables\n",
        "features = selected_data.copy()\n",
        "labels= selected_data.pop('Coronary Heart Disease/Myocardial Infarction')\n",
        "features.drop('Coronary Heart Disease/Myocardial Infarction',inplace=True, axis=1)\n",
        "\n",
        "#Split the train/test set\n",
        "train_features,test_features,train_labels,test_labels = train_test_split(features,labels,test_size=0.2)\n",
        "\n",
        "#Re-merge the training features and labels for upsampling\n",
        "selected_data= pd.concat([train_features, train_labels], axis=1)\n",
        "\n",
        "#Detecting negative and positive for upsampling\n",
        "negative = selected_data.loc[selected_data['Coronary Heart Disease/Myocardial Infarction']==0]\n",
        "positive = selected_data.loc[selected_data['Coronary Heart Disease/Myocardial Infarction']==1]\n",
        "\n",
        "#upsampling code\n",
        "pos_upsampled = resample(positive,replace=True, # sample with replacement\n",
        "                        n_samples=len(negative), # match number in majority class\n",
        " random_state=27) \n",
        "\n",
        "#Get the BIG,UPSAMPLED dataset\n",
        "selected_data = pd.concat([negative, pos_upsampled])\n",
        "\n",
        "selected_data.shape\n",
        "\n",
        "#Again, splitting the already upsampled dataset\n",
        "features = selected_data.copy()\n",
        "labels= selected_data.pop('Coronary Heart Disease/Myocardial Infarction')\n",
        "features.drop('Coronary Heart Disease/Myocardial Infarction',inplace=True, axis=1)\n",
        "train_features,test_features,train_labels,test_labels = train_test_split(features,labels,test_size=0.2)\n"
      ]
    },
    {
      "cell_type": "code",
      "execution_count": null,
      "id": "f55b94d6",
      "metadata": {
        "id": "f55b94d6"
      },
      "outputs": [],
      "source": [
        "model = Sequential([\n",
        "    Dense(100,  activation='relu'),\n",
        "    Dense(50,  activation='relu'),\n",
        "    Dense(50,  activation='relu'),\n",
        "    Dense(1, activation='sigmoid'),\n",
        "    \n",
        "])\n",
        "\n",
        "model.compile(loss='binary_crossentropy', optimizer='adam', metrics=[tf.keras.metrics.Recall(),'accuracy',tf.keras.metrics.Precision()])"
      ]
    },
    {
      "cell_type": "code",
      "execution_count": null,
      "id": "0eff47b6",
      "metadata": {
        "scrolled": true,
        "id": "0eff47b6",
        "outputId": "e33fbcba-2571-4285-cb80-abe1b9fc9715"
      },
      "outputs": [
        {
          "name": "stdout",
          "output_type": "stream",
          "text": [
            "Epoch 1/10\n",
            "6764/6764 [==============================] - 13s 2ms/step - loss: 0.5195 - recall_2: 0.7988 - accuracy: 0.7463 - precision_2: 0.7229: 0s - loss: 0.5197 - recall_2: 0.7989 - accuracy: 0.7461 - precisi\n",
            "Epoch 2/10\n",
            "6764/6764 [==============================] - 12s 2ms/step - loss: 0.5057 - recall_2: 0.8042 - accuracy: 0.7541 - precision_2: 0.7310\n",
            "Epoch 3/10\n",
            "6764/6764 [==============================] - 12s 2ms/step - loss: 0.4974 - recall_2: 0.8108 - accuracy: 0.7582 - precision_2: 0.7336\n",
            "Epoch 4/10\n",
            "6764/6764 [==============================] - 12s 2ms/step - loss: 0.4890 - recall_2: 0.8174 - accuracy: 0.7623 - precision_2: 0.7362: 3s - loss: \n",
            "Epoch 5/10\n",
            "6764/6764 [==============================] - 12s 2ms/step - loss: 0.4802 - recall_2: 0.8244 - accuracy: 0.7657 - precision_2: 0.7378\n",
            "Epoch 6/10\n",
            "6764/6764 [==============================] - 13s 2ms/step - loss: 0.4695 - recall_2: 0.8340 - accuracy: 0.7710 - precision_2: 0.7406\n",
            "Epoch 7/10\n",
            "6764/6764 [==============================] - 12s 2ms/step - loss: 0.4590 - recall_2: 0.8449 - accuracy: 0.7756 - precision_2: 0.7421\n",
            "Epoch 8/10\n",
            "6764/6764 [==============================] - 12s 2ms/step - loss: 0.4494 - recall_2: 0.8547 - accuracy: 0.7817 - precision_2: 0.7459\n",
            "Epoch 9/10\n",
            "6764/6764 [==============================] - 13s 2ms/step - loss: 0.4414 - recall_2: 0.8634 - accuracy: 0.7861 - precision_2: 0.7478\n",
            "Epoch 10/10\n",
            "6764/6764 [==============================] - 13s 2ms/step - loss: 0.4338 - recall_2: 0.8708 - accuracy: 0.7908 - precision_2: 0.7507\n"
          ]
        },
        {
          "data": {
            "text/plain": [
              "<keras.callbacks.History at 0x176006963d0>"
            ]
          },
          "execution_count": 43,
          "metadata": {},
          "output_type": "execute_result"
        }
      ],
      "source": [
        "model.fit(features,labels, epochs=10,batch_size=32)"
      ]
    },
    {
      "cell_type": "code",
      "execution_count": null,
      "id": "b39b8724",
      "metadata": {
        "id": "b39b8724",
        "outputId": "add9d3b7-23ce-4dbe-cffa-6011afd57fdf"
      },
      "outputs": [
        {
          "name": "stdout",
          "output_type": "stream",
          "text": [
            "28984/28984 [==============================] - 40s 1ms/step - loss: 0.4718 - recall_2: 0.7735 - accuracy: 0.7327 - precision_2: 0.1685\n"
          ]
        },
        {
          "data": {
            "text/plain": [
              "[0.47178518772125244,\n",
              " 0.7734864354133606,\n",
              " 0.7327145934104919,\n",
              " 0.16850483417510986]"
            ]
          },
          "execution_count": 44,
          "metadata": {},
          "output_type": "execute_result"
        }
      ],
      "source": [
        "model.evaluate(test_features,test_labels,verbose=1, batch_size=1)"
      ]
    },
    {
      "cell_type": "code",
      "execution_count": null,
      "id": "dc8f4c92",
      "metadata": {
        "id": "dc8f4c92"
      },
      "outputs": [],
      "source": [
        ""
      ]
    }
  ],
  "metadata": {
    "colab": {
      "name": "Mini_project.ipynb",
      "provenance": []
    },
    "kernelspec": {
      "display_name": "Python 3 (ipykernel)",
      "language": "python",
      "name": "python3"
    },
    "language_info": {
      "codemirror_mode": {
        "name": "ipython",
        "version": 3
      },
      "file_extension": ".py",
      "mimetype": "text/x-python",
      "name": "python",
      "nbconvert_exporter": "python",
      "pygments_lexer": "ipython3",
      "version": "3.9.12"
    }
  },
  "nbformat": 4,
  "nbformat_minor": 5
}