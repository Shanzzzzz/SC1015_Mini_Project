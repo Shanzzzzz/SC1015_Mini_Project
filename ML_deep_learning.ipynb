{
 "cells": [
  {
   "cell_type": "markdown",
   "id": "5253853d",
   "metadata": {
    "id": "5253853d"
   },
   "source": [
    "# Deep Learning (Keras)"
   ]
  },
  {
   "cell_type": "markdown",
   "id": "feb7db02",
   "metadata": {},
   "source": [
    "### Importing essential libraries"
   ]
  },
  {
   "cell_type": "code",
   "execution_count": 8,
   "id": "db1b7d17",
   "metadata": {
    "id": "db1b7d17",
    "scrolled": true
   },
   "outputs": [],
   "source": [
    "import numpy as np\n",
    "import pandas as pd\n",
    "\n",
    "from tensorflow import keras\n",
    "from keras.models import Sequential\n",
    "from keras.layers import Dense, Flatten, Softmax\n",
    "import tensorflow as tf\n",
    "from tensorflow.keras import layers\n",
    "from sklearn.model_selection import train_test_split\n",
    "from sklearn.utils import resample"
   ]
  },
  {
   "cell_type": "code",
   "execution_count": null,
   "id": "f19dd573",
   "metadata": {
    "id": "f19dd573"
   },
   "outputs": [],
   "source": [
    "\n",
    "#features.drop('General Health',inplace=True, axis=1)\n",
    "#features.drop('No of Days of Poor Physical Health',inplace=True, axis=1)\n",
    "#features.drop('Cancer',inplace=True, axis=1)\n",
    "\n",
    "#features.drop('Stroke',inplace=True, axis=1)\n",
    "\n",
    "#train_features,test_features,train_labels,test_labels = train_test_split(features,labels,test_size=0.2)\n",
    "\n",
    "#Separating the target variable (Heart) from predictor variables\n",
    "features = selected_data.copy()\n",
    "labels= selected_data.pop('Coronary Heart Disease/Myocardial Infarction')\n",
    "features.drop('Coronary Heart Disease/Myocardial Infarction',inplace=True, axis=1)\n",
    "\n",
    "#Split the train/test set\n",
    "train_features,test_features,train_labels,test_labels = train_test_split(features,labels,test_size=0.2)\n",
    "\n",
    "#Re-merge the training features and labels for upsampling\n",
    "selected_data= pd.concat([train_features, train_labels], axis=1)\n",
    "\n",
    "#Detecting negative and positive for upsampling\n",
    "negative = selected_data.loc[selected_data['Coronary Heart Disease/Myocardial Infarction']==0]\n",
    "positive = selected_data.loc[selected_data['Coronary Heart Disease/Myocardial Infarction']==1]\n",
    "\n",
    "#upsampling code\n",
    "pos_upsampled = resample(positive,replace=True, # sample with replacement\n",
    "                        n_samples=len(negative), # match number in majority class\n",
    " random_state=27) \n",
    "\n",
    "#Get the BIG,UPSAMPLED dataset\n",
    "selected_data = pd.concat([negative, pos_upsampled])\n",
    "\n",
    "selected_data.shape\n",
    "\n",
    "#Again, splitting the already upsampled dataset\n",
    "features = selected_data.copy()\n",
    "labels= selected_data.pop('Coronary Heart Disease/Myocardial Infarction')\n",
    "features.drop('Coronary Heart Disease/Myocardial Infarction',inplace=True, axis=1)\n",
    "train_features,test_features,train_labels,test_labels = train_test_split(features,labels,test_size=0.2)\n"
   ]
  },
  {
   "cell_type": "code",
   "execution_count": 3,
   "id": "640ffc15",
   "metadata": {},
   "outputs": [],
   "source": [
    "selected_data = pd.read_csv(\"Data/selected_data.csv\")"
   ]
  },
  {
   "cell_type": "code",
   "execution_count": 6,
   "id": "f55b94d6",
   "metadata": {
    "id": "f55b94d6"
   },
   "outputs": [
    {
     "ename": "NameError",
     "evalue": "name 'Sequential' is not defined",
     "output_type": "error",
     "traceback": [
      "\u001b[1;31m---------------------------------------------------------------------------\u001b[0m",
      "\u001b[1;31mNameError\u001b[0m                                 Traceback (most recent call last)",
      "\u001b[1;32m~\\AppData\\Local\\Temp/ipykernel_18056/181900531.py\u001b[0m in \u001b[0;36m<module>\u001b[1;34m\u001b[0m\n\u001b[1;32m----> 1\u001b[1;33m model = Sequential([\n\u001b[0m\u001b[0;32m      2\u001b[0m     \u001b[0mDense\u001b[0m\u001b[1;33m(\u001b[0m\u001b[1;36m100\u001b[0m\u001b[1;33m,\u001b[0m  \u001b[0mactivation\u001b[0m\u001b[1;33m=\u001b[0m\u001b[1;34m'relu'\u001b[0m\u001b[1;33m)\u001b[0m\u001b[1;33m,\u001b[0m\u001b[1;33m\u001b[0m\u001b[1;33m\u001b[0m\u001b[0m\n\u001b[0;32m      3\u001b[0m     \u001b[0mDense\u001b[0m\u001b[1;33m(\u001b[0m\u001b[1;36m50\u001b[0m\u001b[1;33m,\u001b[0m  \u001b[0mactivation\u001b[0m\u001b[1;33m=\u001b[0m\u001b[1;34m'relu'\u001b[0m\u001b[1;33m)\u001b[0m\u001b[1;33m,\u001b[0m\u001b[1;33m\u001b[0m\u001b[1;33m\u001b[0m\u001b[0m\n\u001b[0;32m      4\u001b[0m     \u001b[0mDense\u001b[0m\u001b[1;33m(\u001b[0m\u001b[1;36m50\u001b[0m\u001b[1;33m,\u001b[0m  \u001b[0mactivation\u001b[0m\u001b[1;33m=\u001b[0m\u001b[1;34m'relu'\u001b[0m\u001b[1;33m)\u001b[0m\u001b[1;33m,\u001b[0m\u001b[1;33m\u001b[0m\u001b[1;33m\u001b[0m\u001b[0m\n\u001b[0;32m      5\u001b[0m     \u001b[0mDense\u001b[0m\u001b[1;33m(\u001b[0m\u001b[1;36m1\u001b[0m\u001b[1;33m,\u001b[0m \u001b[0mactivation\u001b[0m\u001b[1;33m=\u001b[0m\u001b[1;34m'sigmoid'\u001b[0m\u001b[1;33m)\u001b[0m\u001b[1;33m,\u001b[0m\u001b[1;33m\u001b[0m\u001b[1;33m\u001b[0m\u001b[0m\n",
      "\u001b[1;31mNameError\u001b[0m: name 'Sequential' is not defined"
     ]
    }
   ],
   "source": [
    "model = Sequential([\n",
    "    Dense(100,  activation='relu'),\n",
    "    Dense(50,  activation='relu'),\n",
    "    Dense(50,  activation='relu'),\n",
    "    Dense(1, activation='sigmoid'),\n",
    "    \n",
    "])\n",
    "\n",
    "model.compile(loss='binary_crossentropy', optimizer='adam', metrics=[tf.keras.metrics.Recall(),'accuracy',tf.keras.metrics.Precision()])"
   ]
  },
  {
   "cell_type": "code",
   "execution_count": null,
   "id": "0eff47b6",
   "metadata": {
    "id": "0eff47b6",
    "outputId": "e33fbcba-2571-4285-cb80-abe1b9fc9715",
    "scrolled": true
   },
   "outputs": [
    {
     "name": "stdout",
     "output_type": "stream",
     "text": [
      "Epoch 1/10\n",
      "6764/6764 [==============================] - 13s 2ms/step - loss: 0.5195 - recall_2: 0.7988 - accuracy: 0.7463 - precision_2: 0.7229: 0s - loss: 0.5197 - recall_2: 0.7989 - accuracy: 0.7461 - precisi\n",
      "Epoch 2/10\n",
      "6764/6764 [==============================] - 12s 2ms/step - loss: 0.5057 - recall_2: 0.8042 - accuracy: 0.7541 - precision_2: 0.7310\n",
      "Epoch 3/10\n",
      "6764/6764 [==============================] - 12s 2ms/step - loss: 0.4974 - recall_2: 0.8108 - accuracy: 0.7582 - precision_2: 0.7336\n",
      "Epoch 4/10\n",
      "6764/6764 [==============================] - 12s 2ms/step - loss: 0.4890 - recall_2: 0.8174 - accuracy: 0.7623 - precision_2: 0.7362: 3s - loss: \n",
      "Epoch 5/10\n",
      "6764/6764 [==============================] - 12s 2ms/step - loss: 0.4802 - recall_2: 0.8244 - accuracy: 0.7657 - precision_2: 0.7378\n",
      "Epoch 6/10\n",
      "6764/6764 [==============================] - 13s 2ms/step - loss: 0.4695 - recall_2: 0.8340 - accuracy: 0.7710 - precision_2: 0.7406\n",
      "Epoch 7/10\n",
      "6764/6764 [==============================] - 12s 2ms/step - loss: 0.4590 - recall_2: 0.8449 - accuracy: 0.7756 - precision_2: 0.7421\n",
      "Epoch 8/10\n",
      "6764/6764 [==============================] - 12s 2ms/step - loss: 0.4494 - recall_2: 0.8547 - accuracy: 0.7817 - precision_2: 0.7459\n",
      "Epoch 9/10\n",
      "6764/6764 [==============================] - 13s 2ms/step - loss: 0.4414 - recall_2: 0.8634 - accuracy: 0.7861 - precision_2: 0.7478\n",
      "Epoch 10/10\n",
      "6764/6764 [==============================] - 13s 2ms/step - loss: 0.4338 - recall_2: 0.8708 - accuracy: 0.7908 - precision_2: 0.7507\n"
     ]
    },
    {
     "data": {
      "text/plain": [
       "<keras.callbacks.History at 0x176006963d0>"
      ]
     },
     "execution_count": 43,
     "metadata": {},
     "output_type": "execute_result"
    }
   ],
   "source": [
    "model.fit(features,labels, epochs=10,batch_size=32)"
   ]
  },
  {
   "cell_type": "code",
   "execution_count": null,
   "id": "b39b8724",
   "metadata": {
    "id": "b39b8724",
    "outputId": "add9d3b7-23ce-4dbe-cffa-6011afd57fdf"
   },
   "outputs": [
    {
     "name": "stdout",
     "output_type": "stream",
     "text": [
      "28984/28984 [==============================] - 40s 1ms/step - loss: 0.4718 - recall_2: 0.7735 - accuracy: 0.7327 - precision_2: 0.1685\n"
     ]
    },
    {
     "data": {
      "text/plain": [
       "[0.47178518772125244,\n",
       " 0.7734864354133606,\n",
       " 0.7327145934104919,\n",
       " 0.16850483417510986]"
      ]
     },
     "execution_count": 44,
     "metadata": {},
     "output_type": "execute_result"
    }
   ],
   "source": [
    "model.evaluate(test_features,test_labels,verbose=1, batch_size=1)"
   ]
  },
  {
   "cell_type": "code",
   "execution_count": null,
   "id": "dc8f4c92",
   "metadata": {
    "id": "dc8f4c92"
   },
   "outputs": [],
   "source": []
  }
 ],
 "metadata": {
  "colab": {
   "name": "Mini_project.ipynb",
   "provenance": []
  },
  "kernelspec": {
   "display_name": "Python 3 (ipykernel)",
   "language": "python",
   "name": "python3"
  },
  "language_info": {
   "codemirror_mode": {
    "name": "ipython",
    "version": 3
   },
   "file_extension": ".py",
   "mimetype": "text/x-python",
   "name": "python",
   "nbconvert_exporter": "python",
   "pygments_lexer": "ipython3",
   "version": "3.9.7"
  }
 },
 "nbformat": 4,
 "nbformat_minor": 5
}
